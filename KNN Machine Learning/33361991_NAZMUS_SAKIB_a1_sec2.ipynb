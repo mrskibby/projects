{
  "nbformat": 4,
  "nbformat_minor": 0,
  "metadata": {
    "colab": {
      "provenance": []
    },
    "kernelspec": {
      "name": "python3",
      "display_name": "Python 3"
    },
    "language_info": {
      "name": "python"
    }
  },
  "cells": [
    {
      "cell_type": "markdown",
      "source": [
        "Name: Nazmus Sakib, Student_ID: 33361881, FIT5201 - S2 2023, Assignment 1, Section 2"
      ],
      "metadata": {
        "id": "jVpu9jrfJE3j"
      }
    },
    {
      "cell_type": "markdown",
      "source": [
        "#Section 2 - Probability"
      ],
      "metadata": {
        "id": "gJYb1Ll83ogk"
      }
    },
    {
      "cell_type": "markdown",
      "source": [
        "In this section, you show your knowledge about the basics of probability theory by solving simple but basic probabilistic modelling and inference problems. Solve the problems based on the probability concepts you have learned in Modules 1 and 2."
      ],
      "metadata": {
        "id": "SmngBn5_3uEl"
      }
    },
    {
      "cell_type": "code",
      "source": [
        "# Import the libraries\n",
        "import numpy as np\n",
        "from sklearn.model_selection import train_test_split\n",
        "from sklearn.metrics import mean_squared_error"
      ],
      "metadata": {
        "id": "B8iicIRX4FrV"
      },
      "execution_count": 10,
      "outputs": []
    },
    {
      "cell_type": "markdown",
      "source": [
        "##Question 4 [Bayes Rule]\n"
      ],
      "metadata": {
        "id": "Aq4NNVV73yzb"
      }
    },
    {
      "cell_type": "markdown",
      "source": [
        "Suppose we have one red, one blue, and one yellow box with the following content:\n",
        "• In the red box we have 3 apples and 5 oranges,\n",
        "• in the blue box we have 4 apples and 4 oranges, and\n",
        "• in the yellow box we have 1 apples and 1 orange.\n",
        "Now suppose we selected one of the boxes uniformly at random and then, in a second step, picked a fruit from it, again uniformly at random.\n",
        "1. Implement a Python function that simulates the above experiment (using a suitable method of a numpy random number generator obtained via numpy.random.get default rng). For instance you could name the function fruit experiment and it could take a parameter for the number of repeated simulations. When calling fruit experiment the output could then look like:\n",
        "array([’red’, ’blue’, ’blue’, ’yellow’], dtype=’object’),\n",
        "array([’orange’, ’orange’, ’apple’, ’apple’, dtype=’object’))\n",
        "Hint: Depending on your implementation, the method integers of the random number generator could be useful."
      ],
      "metadata": {
        "id": "1PjzPZhG6Lg0"
      }
    },
    {
      "cell_type": "code",
      "execution_count": 7,
      "metadata": {
        "colab": {
          "base_uri": "https://localhost:8080/"
        },
        "id": "EIe2e5J13k6P",
        "outputId": "762d70cf-3be5-4baf-cfad-6fdcae59989b"
      },
      "outputs": [
        {
          "output_type": "stream",
          "name": "stdout",
          "text": [
            "['red' 'yellow' 'red' 'yellow']\n",
            "['orange', 'apple', 'orange', 'apple']\n"
          ]
        }
      ],
      "source": [
        "def fruit_experiment(num_simulations):\n",
        "    # Define box names and their respective fruit distribution\n",
        "    boxes = ['red', 'blue', 'yellow']\n",
        "    fruit_in_boxes = {\n",
        "        'red': ['apple', 'apple', 'apple', 'orange', 'orange', 'orange', 'orange', 'orange'],\n",
        "        'blue': ['apple', 'apple', 'apple', 'apple', 'orange', 'orange', 'orange', 'orange'],\n",
        "        'yellow': ['apple', 'orange']\n",
        "    }\n",
        "\n",
        "    # Randomly select a box and then a fruit from it for 'num_simulations' times\n",
        "    selected_boxes = np.random.choice(boxes, size=num_simulations)\n",
        "    selected_fruits = [np.random.choice(fruit_in_boxes[box]) for box in selected_boxes]\n",
        "\n",
        "    return selected_boxes, selected_fruits\n",
        "\n",
        "# Example usage of the simulation function\n",
        "selected_boxes, selected_fruits = fruit_experiment(4)\n",
        "print(selected_boxes)\n",
        "print(selected_fruits)"
      ]
    },
    {
      "cell_type": "markdown",
      "source": [
        "2. Answer the following question by a formal derivation in a markdown cell (ideally using Latex for clean typesetting): If the picked fruit is an apple, what is the probability that it was picked from the yellow box?\n",
        "Hint: Formalize this problem using the notions in the “Random Variable” paragraph in Appendix A of Module 1. You might want to use your simulation function from Part I to check your answer."
      ],
      "metadata": {
        "id": "8ImbdHvS4QoS"
      }
    },
    {
      "cell_type": "markdown",
      "source": [
        "Formal Derivation\n",
        "Let's denote the events as:\n",
        "\n",
        "\n",
        "1. A: The picked fruit is an apple.\n",
        "2. Y: The fruit was picked from the yellow box.\n",
        "\n",
        "We want to find P(Y∣A), the probability that the fruit was picked from the yellow box given that it is an apple.\n",
        "\n",
        "Using Bayes' Rule, we have:\n",
        "\n",
        "\n",
        "P(Y∣A)= (P(A∣Y)⋅P(Y))/P(A)\n",
        "\n",
        "\n",
        "Here:\n",
        "\n",
        "- P(A∣Y) is the probability of picking an apple given that the fruit is from the yellow box. This is 1/2, as there's an equal chance of picking an apple or an orange from the yellow box.\n",
        "\n",
        "- P(Y) is the probability of picking the yellow box initially, which is 1/3 since all boxes are equally likely to be chosen.\n",
        "\n",
        "- P(A) is the probability of picking an apple. This can be calculated using the law of total probability:\n",
        "\n",
        "\n",
        "P(A)=P(A∣Y)⋅P(Y)+P(A∣B)⋅P(B)+P(A∣R)⋅P(R)\n",
        "\n",
        "Given the information provided, we have:\n",
        "\n",
        "\n",
        "- P(A∣B)= 4/8 (as there are 4 apples out of 8 fruits in the blue box).\n",
        "\n",
        "- P(B)= 1/3 (since all boxes are equally likely to be chosen).\n",
        "\n",
        "- P(A∣R)= 3/8 (as there are 3 apples out of 8 fruits in the red box).\n",
        "\n",
        "- P(R)= 1/3 (again, since all boxes are equally likely).\n",
        "Plug in these values:\n",
        "\n",
        "Plug in these values:\n",
        "\n",
        "\n",
        "P(A)= 1/2 ⋅ 1/3 + 4/8 ⋅ 1/3 + 3/8 ⋅ 1/3 = 19/48\n",
        "\n",
        "Finally, substitute all these values back into Bayes' Rule:\n",
        "\n",
        "P(Y∣A)= (1/2 ⋅ 1/3)/(19/48) = 8/19\n",
        "\n",
        "Therefore, if the picked fruit is an apple, the probability that it was picked from the yellow box is\n",
        "8/19."
      ],
      "metadata": {
        "id": "lhT95Uzf4hZ3"
      }
    },
    {
      "cell_type": "markdown",
      "source": [
        "##Question 5 [Expected Values]"
      ],
      "metadata": {
        "id": "j5MNBWX14rL8"
      }
    },
    {
      "cell_type": "markdown",
      "source": [
        "Consider the following simple one-player game: the player first rolls a fair six-sided die and then she determines her score as the sum of the outcomes of a number of a additional die roles, where the number of additionally rolled dice is equal to the number rolled with the first die. Formally, we can describe this game with a set of random variables:\n",
        "- X, the outcome of the first die roll\n",
        "- Yi for i = 1, . . . 6, the outcome of the i-th subsequent die role if i ≤ X or 0 otherwise.\n",
        "- Z = Y1 + Y2 + Y3 + Y4 + Y5 + Y6, the final score of the player.\n",
        "\n",
        "We are interested in experimentally and analytically determining the score that a player can expect to achieve in this game on average, i.e., the expected value E[Z].\n",
        "\n",
        "1. Implement a Python function die experiment that simulates the above game for a desired number of repetitions and returns the array of scores achieved by the player for each repetition."
      ],
      "metadata": {
        "id": "r-9iohoa4wK2"
      }
    },
    {
      "cell_type": "code",
      "source": [
        "def die_experiment(num_repetitions):\n",
        "    scores = []\n",
        "\n",
        "    for _ in range(num_repetitions):\n",
        "        # Roll the first die\n",
        "        X = np.random.randint(1, 7)\n",
        "\n",
        "        # Roll subsequent dice and calculate score\n",
        "        score = sum(np.random.randint(1, 7) for _ in range(X))\n",
        "        scores.append(score)\n",
        "\n",
        "    return np.array(scores)\n",
        "\n",
        "# Example usage of the simulation function\n",
        "scores = die_experiment(10)\n",
        "print(scores)"
      ],
      "metadata": {
        "colab": {
          "base_uri": "https://localhost:8080/"
        },
        "id": "gOSwOK0z4Dfi",
        "outputId": "5f99ab8f-18b0-4034-fbbb-0bd2d7055057"
      },
      "execution_count": 8,
      "outputs": [
        {
          "output_type": "stream",
          "name": "stdout",
          "text": [
            "[22 17  7 25 11 24 20 22  8  5]\n"
          ]
        }
      ]
    },
    {
      "cell_type": "markdown",
      "source": [
        "2. Estimate the expected player score E[Z] by performing 10,000 repetitions and provide an error margin of this estimate with 95% certainty."
      ],
      "metadata": {
        "id": "bbM7PQmH5Znq"
      }
    },
    {
      "cell_type": "code",
      "source": [
        "scores = die_experiment(10000)\n",
        "expected_score = np.mean(scores)\n",
        "std_error = np.std(scores) / np.sqrt(len(scores))\n",
        "margin_of_error = 1.96 * std_error  # For 95% confidence interval\n",
        "\n",
        "print(f\"Estimated Expected Player Score: {expected_score}\")\n",
        "print(f\"Error Margin (95% Confidence): +/- {margin_of_error}\")"
      ],
      "metadata": {
        "colab": {
          "base_uri": "https://localhost:8080/"
        },
        "id": "FUG8gR7b5O5Y",
        "outputId": "97da1bea-8d9e-4484-d305-4f585b6cc410"
      },
      "execution_count": 9,
      "outputs": [
        {
          "output_type": "stream",
          "name": "stdout",
          "text": [
            "Estimated Expected Player Score: 12.2306\n",
            "Error Margin (95% Confidence): +/- 0.13221826981753465\n"
          ]
        }
      ]
    },
    {
      "cell_type": "markdown",
      "source": [
        "3. Analytically derive the expected value E[Z] in a markdown cell (using Latex formulae for clean typesetting).\n",
        "Hint: Determine first the conditional expectation E[Z|X = x] given a specific value of x for X. Then use the rule that the marginal expectation E[Z] can be computed as the average of E[Z|X = x] over all possible values x weighted by their probability (this is the ”rule of total expectation” as used in the analysis for the bias/variance trade-off)."
      ],
      "metadata": {
        "id": "Su9ICcT15g5B"
      }
    },
    {
      "cell_type": "markdown",
      "source": [
        "The expected value E[Z∣X=x] given a specific value of x for X can be derived as follows:\n",
        "\n",
        "E[Z∣X=x]=∑i=1 and x E[Yi∣X=x]\n",
        "\n",
        "Since Yi follows a uniform distribution with values from 1 to 6,\n",
        "\n",
        "E[Yi∣X=x]= (1+6)/2 = 7/2. Therefore,\n",
        "\n",
        "E[Z∣X=x]= (7/2)⋅x\n",
        "\n",
        "To find the marginal expectation E[Z], we apply the law of total expectation:\n",
        "\n",
        "E[Z]=∑x=1 and 6 P(X=x)⋅E[Z∣X=x]\n",
        "\n",
        "Given that X follows a uniform distribution,\n",
        "\n",
        "P(X=x)= 1/6 for each x. Thus,\n",
        "\n",
        "E[Z]=∑x=1 and 6 1/6 ⋅ 7/2 ⋅x= 7/2 ⋅∑x=1 and 6 x= 7/2 ⋅ (6⋅7)/2 =21\n",
        "\n",
        "Therefore, the expected player score\n",
        "\n",
        "E[Z] in this game is 21."
      ],
      "metadata": {
        "id": "Ow51c0ix5uXk"
      }
    },
    {
      "cell_type": "code",
      "source": [],
      "metadata": {
        "id": "mZ0HjWz-5d6g"
      },
      "execution_count": null,
      "outputs": []
    }
  ]
}