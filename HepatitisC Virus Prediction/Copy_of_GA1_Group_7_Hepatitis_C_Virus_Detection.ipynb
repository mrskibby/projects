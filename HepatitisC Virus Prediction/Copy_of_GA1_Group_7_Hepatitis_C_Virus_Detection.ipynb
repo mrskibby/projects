{
  "nbformat": 4,
  "nbformat_minor": 0,
  "metadata": {
    "colab": {
      "provenance": []
    },
    "kernelspec": {
      "name": "python3",
      "display_name": "Python 3"
    },
    "language_info": {
      "name": "python"
    }
  },
  "cells": [
    {
      "cell_type": "markdown",
      "source": [
        "##Obtain"
      ],
      "metadata": {
        "id": "KZQObNmCaKlx"
      }
    },
    {
      "cell_type": "code",
      "source": [
        "import numpy as np\n",
        "import pandas as pd\n",
        "import matplotlib.pyplot as plt\n",
        "import seaborn as sns\n",
        "import os"
      ],
      "metadata": {
        "id": "wIpMdaqlYi0m"
      },
      "execution_count": 1,
      "outputs": []
    },
    {
      "cell_type": "code",
      "source": [
        "print(os.listdir())"
      ],
      "metadata": {
        "id": "YA1VX5sZpVYE",
        "outputId": "a8ce701c-af9f-4461-f3d6-77e37a85e748",
        "colab": {
          "base_uri": "https://localhost:8080/"
        }
      },
      "execution_count": 2,
      "outputs": [
        {
          "output_type": "stream",
          "name": "stdout",
          "text": [
            "['.config', 'hcvdat0.csv', 'sample_data']\n"
          ]
        }
      ]
    },
    {
      "cell_type": "code",
      "source": [
        "dataset = pd.read_csv(\"hcvdat0.csv\")\n",
        "dataset.head()"
      ],
      "metadata": {
        "id": "WGOpTsNlahhU",
        "colab": {
          "base_uri": "https://localhost:8080/",
          "height": 206
        },
        "outputId": "8d9794c0-9068-4293-cad4-7388accaa546"
      },
      "execution_count": 4,
      "outputs": [
        {
          "output_type": "execute_result",
          "data": {
            "text/plain": [
              "   Unnamed: 0       Category  Age Sex   ALB   ALP   ALT   AST   BIL    CHE  \\\n",
              "0           1  0=Blood Donor   32   m  38.5  52.5   7.7  22.1   7.5   6.93   \n",
              "1           2  0=Blood Donor   32   m  38.5  70.3  18.0  24.7   3.9  11.17   \n",
              "2           3  0=Blood Donor   32   m  46.9  74.7  36.2  52.6   6.1   8.84   \n",
              "3           4  0=Blood Donor   32   m  43.2  52.0  30.6  22.6  18.9   7.33   \n",
              "4           5  0=Blood Donor   32   m  39.2  74.1  32.6  24.8   9.6   9.15   \n",
              "\n",
              "   CHOL   CREA   GGT  PROT  \n",
              "0  3.23  106.0  12.1  69.0  \n",
              "1  4.80   74.0  15.6  76.5  \n",
              "2  5.20   86.0  33.2  79.3  \n",
              "3  4.74   80.0  33.8  75.7  \n",
              "4  4.32   76.0  29.9  68.7  "
            ],
            "text/html": [
              "\n",
              "  <div id=\"df-375602cf-63be-4f0c-81d2-ad95a6e85d2a\">\n",
              "    <div class=\"colab-df-container\">\n",
              "      <div>\n",
              "<style scoped>\n",
              "    .dataframe tbody tr th:only-of-type {\n",
              "        vertical-align: middle;\n",
              "    }\n",
              "\n",
              "    .dataframe tbody tr th {\n",
              "        vertical-align: top;\n",
              "    }\n",
              "\n",
              "    .dataframe thead th {\n",
              "        text-align: right;\n",
              "    }\n",
              "</style>\n",
              "<table border=\"1\" class=\"dataframe\">\n",
              "  <thead>\n",
              "    <tr style=\"text-align: right;\">\n",
              "      <th></th>\n",
              "      <th>Unnamed: 0</th>\n",
              "      <th>Category</th>\n",
              "      <th>Age</th>\n",
              "      <th>Sex</th>\n",
              "      <th>ALB</th>\n",
              "      <th>ALP</th>\n",
              "      <th>ALT</th>\n",
              "      <th>AST</th>\n",
              "      <th>BIL</th>\n",
              "      <th>CHE</th>\n",
              "      <th>CHOL</th>\n",
              "      <th>CREA</th>\n",
              "      <th>GGT</th>\n",
              "      <th>PROT</th>\n",
              "    </tr>\n",
              "  </thead>\n",
              "  <tbody>\n",
              "    <tr>\n",
              "      <th>0</th>\n",
              "      <td>1</td>\n",
              "      <td>0=Blood Donor</td>\n",
              "      <td>32</td>\n",
              "      <td>m</td>\n",
              "      <td>38.5</td>\n",
              "      <td>52.5</td>\n",
              "      <td>7.7</td>\n",
              "      <td>22.1</td>\n",
              "      <td>7.5</td>\n",
              "      <td>6.93</td>\n",
              "      <td>3.23</td>\n",
              "      <td>106.0</td>\n",
              "      <td>12.1</td>\n",
              "      <td>69.0</td>\n",
              "    </tr>\n",
              "    <tr>\n",
              "      <th>1</th>\n",
              "      <td>2</td>\n",
              "      <td>0=Blood Donor</td>\n",
              "      <td>32</td>\n",
              "      <td>m</td>\n",
              "      <td>38.5</td>\n",
              "      <td>70.3</td>\n",
              "      <td>18.0</td>\n",
              "      <td>24.7</td>\n",
              "      <td>3.9</td>\n",
              "      <td>11.17</td>\n",
              "      <td>4.80</td>\n",
              "      <td>74.0</td>\n",
              "      <td>15.6</td>\n",
              "      <td>76.5</td>\n",
              "    </tr>\n",
              "    <tr>\n",
              "      <th>2</th>\n",
              "      <td>3</td>\n",
              "      <td>0=Blood Donor</td>\n",
              "      <td>32</td>\n",
              "      <td>m</td>\n",
              "      <td>46.9</td>\n",
              "      <td>74.7</td>\n",
              "      <td>36.2</td>\n",
              "      <td>52.6</td>\n",
              "      <td>6.1</td>\n",
              "      <td>8.84</td>\n",
              "      <td>5.20</td>\n",
              "      <td>86.0</td>\n",
              "      <td>33.2</td>\n",
              "      <td>79.3</td>\n",
              "    </tr>\n",
              "    <tr>\n",
              "      <th>3</th>\n",
              "      <td>4</td>\n",
              "      <td>0=Blood Donor</td>\n",
              "      <td>32</td>\n",
              "      <td>m</td>\n",
              "      <td>43.2</td>\n",
              "      <td>52.0</td>\n",
              "      <td>30.6</td>\n",
              "      <td>22.6</td>\n",
              "      <td>18.9</td>\n",
              "      <td>7.33</td>\n",
              "      <td>4.74</td>\n",
              "      <td>80.0</td>\n",
              "      <td>33.8</td>\n",
              "      <td>75.7</td>\n",
              "    </tr>\n",
              "    <tr>\n",
              "      <th>4</th>\n",
              "      <td>5</td>\n",
              "      <td>0=Blood Donor</td>\n",
              "      <td>32</td>\n",
              "      <td>m</td>\n",
              "      <td>39.2</td>\n",
              "      <td>74.1</td>\n",
              "      <td>32.6</td>\n",
              "      <td>24.8</td>\n",
              "      <td>9.6</td>\n",
              "      <td>9.15</td>\n",
              "      <td>4.32</td>\n",
              "      <td>76.0</td>\n",
              "      <td>29.9</td>\n",
              "      <td>68.7</td>\n",
              "    </tr>\n",
              "  </tbody>\n",
              "</table>\n",
              "</div>\n",
              "      <button class=\"colab-df-convert\" onclick=\"convertToInteractive('df-375602cf-63be-4f0c-81d2-ad95a6e85d2a')\"\n",
              "              title=\"Convert this dataframe to an interactive table.\"\n",
              "              style=\"display:none;\">\n",
              "        \n",
              "  <svg xmlns=\"http://www.w3.org/2000/svg\" height=\"24px\"viewBox=\"0 0 24 24\"\n",
              "       width=\"24px\">\n",
              "    <path d=\"M0 0h24v24H0V0z\" fill=\"none\"/>\n",
              "    <path d=\"M18.56 5.44l.94 2.06.94-2.06 2.06-.94-2.06-.94-.94-2.06-.94 2.06-2.06.94zm-11 1L8.5 8.5l.94-2.06 2.06-.94-2.06-.94L8.5 2.5l-.94 2.06-2.06.94zm10 10l.94 2.06.94-2.06 2.06-.94-2.06-.94-.94-2.06-.94 2.06-2.06.94z\"/><path d=\"M17.41 7.96l-1.37-1.37c-.4-.4-.92-.59-1.43-.59-.52 0-1.04.2-1.43.59L10.3 9.45l-7.72 7.72c-.78.78-.78 2.05 0 2.83L4 21.41c.39.39.9.59 1.41.59.51 0 1.02-.2 1.41-.59l7.78-7.78 2.81-2.81c.8-.78.8-2.07 0-2.86zM5.41 20L4 18.59l7.72-7.72 1.47 1.35L5.41 20z\"/>\n",
              "  </svg>\n",
              "      </button>\n",
              "      \n",
              "  <style>\n",
              "    .colab-df-container {\n",
              "      display:flex;\n",
              "      flex-wrap:wrap;\n",
              "      gap: 12px;\n",
              "    }\n",
              "\n",
              "    .colab-df-convert {\n",
              "      background-color: #E8F0FE;\n",
              "      border: none;\n",
              "      border-radius: 50%;\n",
              "      cursor: pointer;\n",
              "      display: none;\n",
              "      fill: #1967D2;\n",
              "      height: 32px;\n",
              "      padding: 0 0 0 0;\n",
              "      width: 32px;\n",
              "    }\n",
              "\n",
              "    .colab-df-convert:hover {\n",
              "      background-color: #E2EBFA;\n",
              "      box-shadow: 0px 1px 2px rgba(60, 64, 67, 0.3), 0px 1px 3px 1px rgba(60, 64, 67, 0.15);\n",
              "      fill: #174EA6;\n",
              "    }\n",
              "\n",
              "    [theme=dark] .colab-df-convert {\n",
              "      background-color: #3B4455;\n",
              "      fill: #D2E3FC;\n",
              "    }\n",
              "\n",
              "    [theme=dark] .colab-df-convert:hover {\n",
              "      background-color: #434B5C;\n",
              "      box-shadow: 0px 1px 3px 1px rgba(0, 0, 0, 0.15);\n",
              "      filter: drop-shadow(0px 1px 2px rgba(0, 0, 0, 0.3));\n",
              "      fill: #FFFFFF;\n",
              "    }\n",
              "  </style>\n",
              "\n",
              "      <script>\n",
              "        const buttonEl =\n",
              "          document.querySelector('#df-375602cf-63be-4f0c-81d2-ad95a6e85d2a button.colab-df-convert');\n",
              "        buttonEl.style.display =\n",
              "          google.colab.kernel.accessAllowed ? 'block' : 'none';\n",
              "\n",
              "        async function convertToInteractive(key) {\n",
              "          const element = document.querySelector('#df-375602cf-63be-4f0c-81d2-ad95a6e85d2a');\n",
              "          const dataTable =\n",
              "            await google.colab.kernel.invokeFunction('convertToInteractive',\n",
              "                                                     [key], {});\n",
              "          if (!dataTable) return;\n",
              "\n",
              "          const docLinkHtml = 'Like what you see? Visit the ' +\n",
              "            '<a target=\"_blank\" href=https://colab.research.google.com/notebooks/data_table.ipynb>data table notebook</a>'\n",
              "            + ' to learn more about interactive tables.';\n",
              "          element.innerHTML = '';\n",
              "          dataTable['output_type'] = 'display_data';\n",
              "          await google.colab.output.renderOutput(dataTable, element);\n",
              "          const docLink = document.createElement('div');\n",
              "          docLink.innerHTML = docLinkHtml;\n",
              "          element.appendChild(docLink);\n",
              "        }\n",
              "      </script>\n",
              "    </div>\n",
              "  </div>\n",
              "  "
            ]
          },
          "metadata": {},
          "execution_count": 4
        }
      ]
    },
    {
      "cell_type": "code",
      "source": [
        "dataset.info"
      ],
      "metadata": {
        "id": "sG9FROpIaDWC",
        "colab": {
          "base_uri": "https://localhost:8080/"
        },
        "outputId": "ccd388a4-ec19-4253-d726-c0d933c10548"
      },
      "execution_count": 5,
      "outputs": [
        {
          "output_type": "execute_result",
          "data": {
            "text/plain": [
              "<bound method DataFrame.info of      Unnamed: 0       Category  Age Sex   ALB    ALP    ALT    AST   BIL  \\\n",
              "0             1  0=Blood Donor   32   m  38.5   52.5    7.7   22.1   7.5   \n",
              "1             2  0=Blood Donor   32   m  38.5   70.3   18.0   24.7   3.9   \n",
              "2             3  0=Blood Donor   32   m  46.9   74.7   36.2   52.6   6.1   \n",
              "3             4  0=Blood Donor   32   m  43.2   52.0   30.6   22.6  18.9   \n",
              "4             5  0=Blood Donor   32   m  39.2   74.1   32.6   24.8   9.6   \n",
              "..          ...            ...  ...  ..   ...    ...    ...    ...   ...   \n",
              "610         611    3=Cirrhosis   62   f  32.0  416.6    5.9  110.3  50.0   \n",
              "611         612    3=Cirrhosis   64   f  24.0  102.8    2.9   44.4  20.0   \n",
              "612         613    3=Cirrhosis   64   f  29.0   87.3    3.5   99.0  48.0   \n",
              "613         614    3=Cirrhosis   46   f  33.0    NaN   39.0   62.0  20.0   \n",
              "614         615    3=Cirrhosis   59   f  36.0    NaN  100.0   80.0  12.0   \n",
              "\n",
              "       CHE  CHOL   CREA    GGT  PROT  \n",
              "0     6.93  3.23  106.0   12.1  69.0  \n",
              "1    11.17  4.80   74.0   15.6  76.5  \n",
              "2     8.84  5.20   86.0   33.2  79.3  \n",
              "3     7.33  4.74   80.0   33.8  75.7  \n",
              "4     9.15  4.32   76.0   29.9  68.7  \n",
              "..     ...   ...    ...    ...   ...  \n",
              "610   5.57  6.30   55.7  650.9  68.5  \n",
              "611   1.54  3.02   63.0   35.9  71.3  \n",
              "612   1.66  3.63   66.7   64.2  82.0  \n",
              "613   3.56  4.20   52.0   50.0  71.0  \n",
              "614   9.07  5.30   67.0   34.0  68.0  \n",
              "\n",
              "[615 rows x 14 columns]>"
            ]
          },
          "metadata": {},
          "execution_count": 5
        }
      ]
    },
    {
      "cell_type": "markdown",
      "source": [
        "The dataset contains 11 numerical variables and 3 categorical variables. Category is the target attribute."
      ],
      "metadata": {
        "id": "UdDPpan1iI45"
      }
    },
    {
      "cell_type": "markdown",
      "source": [
        "# Scrub"
      ],
      "metadata": {
        "id": "-r19dPVN79vU"
      }
    },
    {
      "cell_type": "code",
      "source": [
        "dataset.nunique()"
      ],
      "metadata": {
        "id": "ygyFLHJBji6Z",
        "colab": {
          "base_uri": "https://localhost:8080/"
        },
        "outputId": "4703e262-d512-422f-bdcc-aad98720774d"
      },
      "execution_count": 6,
      "outputs": [
        {
          "output_type": "execute_result",
          "data": {
            "text/plain": [
              "Unnamed: 0    615\n",
              "Category        5\n",
              "Age            49\n",
              "Sex             2\n",
              "ALB           189\n",
              "ALP           414\n",
              "ALT           341\n",
              "AST           297\n",
              "BIL           188\n",
              "CHE           407\n",
              "CHOL          313\n",
              "CREA          117\n",
              "GGT           358\n",
              "PROT          198\n",
              "dtype: int64"
            ]
          },
          "metadata": {},
          "execution_count": 6
        }
      ]
    },
    {
      "cell_type": "markdown",
      "source": [
        "The Unnamed column contains all unique values and does not have any effect in the prediction. Hence, it will be dropped from the dateset."
      ],
      "metadata": {
        "id": "DBmBgnxDjqJt"
      }
    },
    {
      "cell_type": "markdown",
      "source": [
        "##Drop the unnecessary column"
      ],
      "metadata": {
        "id": "Lc_JMWGghSNw"
      }
    },
    {
      "cell_type": "code",
      "source": [
        "dataset = dataset.drop(columns=(['Unnamed: 0']))"
      ],
      "metadata": {
        "id": "KaF8K7GuhXfH"
      },
      "execution_count": 7,
      "outputs": []
    },
    {
      "cell_type": "markdown",
      "source": [
        "##Identify Duplicate Entries"
      ],
      "metadata": {
        "id": "LsBzdGzEhBGj"
      }
    },
    {
      "cell_type": "code",
      "source": [
        "dataset.duplicated().sum()"
      ],
      "metadata": {
        "id": "L_pqHZX4e3pM",
        "colab": {
          "base_uri": "https://localhost:8080/"
        },
        "outputId": "d7d03d6c-b78a-4135-bd7f-ddc83d7bb036"
      },
      "execution_count": 8,
      "outputs": [
        {
          "output_type": "execute_result",
          "data": {
            "text/plain": [
              "0"
            ]
          },
          "metadata": {},
          "execution_count": 8
        }
      ]
    },
    {
      "cell_type": "markdown",
      "source": [
        "There is no duplicate entry in the dataset."
      ],
      "metadata": {
        "id": "tIRD0VeJfTn_"
      }
    },
    {
      "cell_type": "markdown",
      "source": [
        "###Identify Null Values"
      ],
      "metadata": {
        "id": "BDEmELyDg37c"
      }
    },
    {
      "cell_type": "code",
      "source": [
        "dataset.isnull().sum()"
      ],
      "metadata": {
        "id": "sQ8fGhPVa530",
        "colab": {
          "base_uri": "https://localhost:8080/"
        },
        "outputId": "e20c662b-b788-4c4e-eacd-76f9b75e6eef"
      },
      "execution_count": 9,
      "outputs": [
        {
          "output_type": "execute_result",
          "data": {
            "text/plain": [
              "Category     0\n",
              "Age          0\n",
              "Sex          0\n",
              "ALB          1\n",
              "ALP         18\n",
              "ALT          1\n",
              "AST          0\n",
              "BIL          0\n",
              "CHE          0\n",
              "CHOL        10\n",
              "CREA         0\n",
              "GGT          0\n",
              "PROT         1\n",
              "dtype: int64"
            ]
          },
          "metadata": {},
          "execution_count": 9
        }
      ]
    },
    {
      "cell_type": "markdown",
      "source": [
        "There are missing values in ALB, ALP, ALT, CHOL and PROT.\n",
        "\n"
      ],
      "metadata": {
        "id": "K7cE30SkfEDc"
      }
    },
    {
      "cell_type": "code",
      "source": [
        "nullvalues = ['ALB','ALP','ALT','CHOL','PROT']\n",
        "fig, axs = plt.subplots(1, 5, figsize=(25, 5)) \n",
        "colors=['blue','red','yellow','green','purple']\n",
        "for ax, color, nullvalue in zip(axs,colors, nullvalues):\n",
        "  dataset.hist(column=nullvalue,ax=ax,color=color)\n",
        "  ax.set_title(nullvalue)\n",
        "plt.show()"
      ],
      "metadata": {
        "id": "MLak8gWItdgX",
        "colab": {
          "base_uri": "https://localhost:8080/",
          "height": 311
        },
        "outputId": "507ea11a-d804-4060-92f9-7828170b0d85"
      },
      "execution_count": 10,
      "outputs": [
        {
          "output_type": "display_data",
          "data": {
            "text/plain": [
              "<Figure size 1800x360 with 5 Axes>"
            ],
            "image/png": "[encoded data removed]"
          },
          "metadata": {
            "needs_background": "light"
          }
        }
      ]
    },
    {
      "cell_type": "markdown",
      "source": [
        "The result above showed that ALP, ALT and CHOL are right-skewed, ALB and PROT are left-skewed. As a result, all the missing values will be imputed by median."
      ],
      "metadata": {
        "id": "AAW1qQi_7V5Y"
      }
    },
    {
      "cell_type": "markdown",
      "source": [
        "##Handling Null Values"
      ],
      "metadata": {
        "id": "9azE1iW8br52"
      }
    },
    {
      "cell_type": "code",
      "source": [
        "from sklearn.impute import SimpleImputer\n",
        "\n",
        "imputer1 = SimpleImputer(missing_values=np.nan,strategy=\"median\")\n",
        "imputer1.fit(dataset.iloc[:,[3,4,5,9,12]])\n",
        "dataset.iloc[:,[3,4,5,9,12]]=imputer1.transform(dataset.iloc[:,[3,4,5,9,12]])\n",
        "dataset.isnull().sum()"
      ],
      "metadata": {
        "id": "uaLjUoZma8AB",
        "colab": {
          "base_uri": "https://localhost:8080/"
        },
        "outputId": "77eb59d0-90c9-4a17-be1f-42e5138a8643"
      },
      "execution_count": 11,
      "outputs": [
        {
          "output_type": "execute_result",
          "data": {
            "text/plain": [
              "Category    0\n",
              "Age         0\n",
              "Sex         0\n",
              "ALB         0\n",
              "ALP         0\n",
              "ALT         0\n",
              "AST         0\n",
              "BIL         0\n",
              "CHE         0\n",
              "CHOL        0\n",
              "CREA        0\n",
              "GGT         0\n",
              "PROT        0\n",
              "dtype: int64"
            ]
          },
          "metadata": {},
          "execution_count": 11
        }
      ]
    },
    {
      "cell_type": "markdown",
      "source": [
        "##Convert Categorical Data to Numerical Data"
      ],
      "metadata": {
        "id": "fSsRHrRfktPE"
      }
    },
    {
      "cell_type": "code",
      "source": [
        "from sklearn.preprocessing import LabelEncoder\n",
        "le = LabelEncoder()\n",
        "dataset[\"Sex\"]=le.fit_transform(dataset[\"Sex\"]) #1 = m(male); 0 = f(female)\n",
        "\n",
        "dataset['Category'] = dataset['Category'].map({'0=Blood Donor': 0,'0s=suspect Blood Donor': 0,'1=Hepatitis': 1,'2=Fibrosis': 2,'3=Cirrhosis': 3}) #0 = Healthy; 1 = Hepatitis; 2 = Fibrosis; 3 = Cirrhosis"
      ],
      "metadata": {
        "id": "hbf8xaz3kte8"
      },
      "execution_count": 12,
      "outputs": []
    },
    {
      "cell_type": "code",
      "source": [
        "dataset.head()"
      ],
      "metadata": {
        "id": "wPydOdVEcCF0",
        "colab": {
          "base_uri": "https://localhost:8080/",
          "height": 206
        },
        "outputId": "13e68246-a8ce-4862-f3e5-d8d26b034182"
      },
      "execution_count": 13,
      "outputs": [
        {
          "output_type": "execute_result",
          "data": {
            "text/plain": [
              "   Category  Age  Sex   ALB   ALP   ALT   AST   BIL    CHE  CHOL   CREA   GGT  \\\n",
              "0         0   32    1  38.5  52.5   7.7  22.1   7.5   6.93  3.23  106.0  12.1   \n",
              "1         0   32    1  38.5  70.3  18.0  24.7   3.9  11.17  4.80   74.0  15.6   \n",
              "2         0   32    1  46.9  74.7  36.2  52.6   6.1   8.84  5.20   86.0  33.2   \n",
              "3         0   32    1  43.2  52.0  30.6  22.6  18.9   7.33  4.74   80.0  33.8   \n",
              "4         0   32    1  39.2  74.1  32.6  24.8   9.6   9.15  4.32   76.0  29.9   \n",
              "\n",
              "   PROT  \n",
              "0  69.0  \n",
              "1  76.5  \n",
              "2  79.3  \n",
              "3  75.7  \n",
              "4  68.7  "
            ],
            "text/html": [
              "\n",
              "  <div id=\"df-e1da3cd2-962a-43e2-bd6e-acc647c2fb46\">\n",
              "    <div class=\"colab-df-container\">\n",
              "      <div>\n",
              "<style scoped>\n",
              "    .dataframe tbody tr th:only-of-type {\n",
              "        vertical-align: middle;\n",
              "    }\n",
              "\n",
              "    .dataframe tbody tr th {\n",
              "        vertical-align: top;\n",
              "    }\n",
              "\n",
              "    .dataframe thead th {\n",
              "        text-align: right;\n",
              "    }\n",
              "</style>\n",
              "<table border=\"1\" class=\"dataframe\">\n",
              "  <thead>\n",
              "    <tr style=\"text-align: right;\">\n",
              "      <th></th>\n",
              "      <th>Category</th>\n",
              "      <th>Age</th>\n",
              "      <th>Sex</th>\n",
              "      <th>ALB</th>\n",
              "      <th>ALP</th>\n",
              "      <th>ALT</th>\n",
              "      <th>AST</th>\n",
              "      <th>BIL</th>\n",
              "      <th>CHE</th>\n",
              "      <th>CHOL</th>\n",
              "      <th>CREA</th>\n",
              "      <th>GGT</th>\n",
              "      <th>PROT</th>\n",
              "    </tr>\n",
              "  </thead>\n",
              "  <tbody>\n",
              "    <tr>\n",
              "      <th>0</th>\n",
              "      <td>0</td>\n",
              "      <td>32</td>\n",
              "      <td>1</td>\n",
              "      <td>38.5</td>\n",
              "      <td>52.5</td>\n",
              "      <td>7.7</td>\n",
              "      <td>22.1</td>\n",
              "      <td>7.5</td>\n",
              "      <td>6.93</td>\n",
              "      <td>3.23</td>\n",
              "      <td>106.0</td>\n",
              "      <td>12.1</td>\n",
              "      <td>69.0</td>\n",
              "    </tr>\n",
              "    <tr>\n",
              "      <th>1</th>\n",
              "      <td>0</td>\n",
              "      <td>32</td>\n",
              "      <td>1</td>\n",
              "      <td>38.5</td>\n",
              "      <td>70.3</td>\n",
              "      <td>18.0</td>\n",
              "      <td>24.7</td>\n",
              "      <td>3.9</td>\n",
              "      <td>11.17</td>\n",
              "      <td>4.80</td>\n",
              "      <td>74.0</td>\n",
              "      <td>15.6</td>\n",
              "      <td>76.5</td>\n",
              "    </tr>\n",
              "    <tr>\n",
              "      <th>2</th>\n",
              "      <td>0</td>\n",
              "      <td>32</td>\n",
              "      <td>1</td>\n",
              "      <td>46.9</td>\n",
              "      <td>74.7</td>\n",
              "      <td>36.2</td>\n",
              "      <td>52.6</td>\n",
              "      <td>6.1</td>\n",
              "      <td>8.84</td>\n",
              "      <td>5.20</td>\n",
              "      <td>86.0</td>\n",
              "      <td>33.2</td>\n",
              "      <td>79.3</td>\n",
              "    </tr>\n",
              "    <tr>\n",
              "      <th>3</th>\n",
              "      <td>0</td>\n",
              "      <td>32</td>\n",
              "      <td>1</td>\n",
              "      <td>43.2</td>\n",
              "      <td>52.0</td>\n",
              "      <td>30.6</td>\n",
              "      <td>22.6</td>\n",
              "      <td>18.9</td>\n",
              "      <td>7.33</td>\n",
              "      <td>4.74</td>\n",
              "      <td>80.0</td>\n",
              "      <td>33.8</td>\n",
              "      <td>75.7</td>\n",
              "    </tr>\n",
              "    <tr>\n",
              "      <th>4</th>\n",
              "      <td>0</td>\n",
              "      <td>32</td>\n",
              "      <td>1</td>\n",
              "      <td>39.2</td>\n",
              "      <td>74.1</td>\n",
              "      <td>32.6</td>\n",
              "      <td>24.8</td>\n",
              "      <td>9.6</td>\n",
              "      <td>9.15</td>\n",
              "      <td>4.32</td>\n",
              "      <td>76.0</td>\n",
              "      <td>29.9</td>\n",
              "      <td>68.7</td>\n",
              "    </tr>\n",
              "  </tbody>\n",
              "</table>\n",
              "</div>\n",
              "      <button class=\"colab-df-convert\" onclick=\"convertToInteractive('df-e1da3cd2-962a-43e2-bd6e-acc647c2fb46')\"\n",
              "              title=\"Convert this dataframe to an interactive table.\"\n",
              "              style=\"display:none;\">\n",
              "        \n",
              "  <svg xmlns=\"http://www.w3.org/2000/svg\" height=\"24px\"viewBox=\"0 0 24 24\"\n",
              "       width=\"24px\">\n",
              "    <path d=\"M0 0h24v24H0V0z\" fill=\"none\"/>\n",
              "    <path d=\"M18.56 5.44l.94 2.06.94-2.06 2.06-.94-2.06-.94-.94-2.06-.94 2.06-2.06.94zm-11 1L8.5 8.5l.94-2.06 2.06-.94-2.06-.94L8.5 2.5l-.94 2.06-2.06.94zm10 10l.94 2.06.94-2.06 2.06-.94-2.06-.94-.94-2.06-.94 2.06-2.06.94z\"/><path d=\"M17.41 7.96l-1.37-1.37c-.4-.4-.92-.59-1.43-.59-.52 0-1.04.2-1.43.59L10.3 9.45l-7.72 7.72c-.78.78-.78 2.05 0 2.83L4 21.41c.39.39.9.59 1.41.59.51 0 1.02-.2 1.41-.59l7.78-7.78 2.81-2.81c.8-.78.8-2.07 0-2.86zM5.41 20L4 18.59l7.72-7.72 1.47 1.35L5.41 20z\"/>\n",
              "  </svg>\n",
              "      </button>\n",
              "      \n",
              "  <style>\n",
              "    .colab-df-container {\n",
              "      display:flex;\n",
              "      flex-wrap:wrap;\n",
              "      gap: 12px;\n",
              "    }\n",
              "\n",
              "    .colab-df-convert {\n",
              "      background-color: #E8F0FE;\n",
              "      border: none;\n",
              "      border-radius: 50%;\n",
              "      cursor: pointer;\n",
              "      display: none;\n",
              "      fill: #1967D2;\n",
              "      height: 32px;\n",
              "      padding: 0 0 0 0;\n",
              "      width: 32px;\n",
              "    }\n",
              "\n",
              "    .colab-df-convert:hover {\n",
              "      background-color: #E2EBFA;\n",
              "      box-shadow: 0px 1px 2px rgba(60, 64, 67, 0.3), 0px 1px 3px 1px rgba(60, 64, 67, 0.15);\n",
              "      fill: #174EA6;\n",
              "    }\n",
              "\n",
              "    [theme=dark] .colab-df-convert {\n",
              "      background-color: #3B4455;\n",
              "      fill: #D2E3FC;\n",
              "    }\n",
              "\n",
              "    [theme=dark] .colab-df-convert:hover {\n",
              "      background-color: #434B5C;\n",
              "      box-shadow: 0px 1px 3px 1px rgba(0, 0, 0, 0.15);\n",
              "      filter: drop-shadow(0px 1px 2px rgba(0, 0, 0, 0.3));\n",
              "      fill: #FFFFFF;\n",
              "    }\n",
              "  </style>\n",
              "\n",
              "      <script>\n",
              "        const buttonEl =\n",
              "          document.querySelector('#df-e1da3cd2-962a-43e2-bd6e-acc647c2fb46 button.colab-df-convert');\n",
              "        buttonEl.style.display =\n",
              "          google.colab.kernel.accessAllowed ? 'block' : 'none';\n",
              "\n",
              "        async function convertToInteractive(key) {\n",
              "          const element = document.querySelector('#df-e1da3cd2-962a-43e2-bd6e-acc647c2fb46');\n",
              "          const dataTable =\n",
              "            await google.colab.kernel.invokeFunction('convertToInteractive',\n",
              "                                                     [key], {});\n",
              "          if (!dataTable) return;\n",
              "\n",
              "          const docLinkHtml = 'Like what you see? Visit the ' +\n",
              "            '<a target=\"_blank\" href=https://colab.research.google.com/notebooks/data_table.ipynb>data table notebook</a>'\n",
              "            + ' to learn more about interactive tables.';\n",
              "          element.innerHTML = '';\n",
              "          dataTable['output_type'] = 'display_data';\n",
              "          await google.colab.output.renderOutput(dataTable, element);\n",
              "          const docLink = document.createElement('div');\n",
              "          docLink.innerHTML = docLinkHtml;\n",
              "          element.appendChild(docLink);\n",
              "        }\n",
              "      </script>\n",
              "    </div>\n",
              "  </div>\n",
              "  "
            ]
          },
          "metadata": {},
          "execution_count": 13
        }
      ]
    },
    {
      "cell_type": "markdown",
      "source": [
        "#Explore"
      ],
      "metadata": {
        "id": "rjzDu1J277F1"
      }
    },
    {
      "cell_type": "markdown",
      "source": [
        "##Attibute's Distribution\n",
        "The information of the attribute's distribution is shown is Table 1. Violin plot is ploted at Figure 1 to visualize the distribution."
      ],
      "metadata": {
        "id": "8APiTbyr8bJo"
      }
    },
    {
      "cell_type": "code",
      "source": [
        "data_cont=dataset.drop(columns=['Category','Sex'])\n",
        "data_dist=dataset[['Category','Sex']]"
      ],
      "metadata": {
        "id": "g6ZQ6bxcJQS2"
      },
      "execution_count": 14,
      "outputs": []
    },
    {
      "cell_type": "markdown",
      "source": [
        "###Table"
      ],
      "metadata": {
        "id": "T-Uj7hPudWeS"
      }
    },
    {
      "cell_type": "code",
      "source": [
        "data_cont.describe()"
      ],
      "metadata": {
        "id": "-u2YzsnObiZL",
        "colab": {
          "base_uri": "https://localhost:8080/",
          "height": 300
        },
        "outputId": "ccb50d96-c0c3-42c6-8a9c-48612c22e985"
      },
      "execution_count": 15,
      "outputs": [
        {
          "output_type": "execute_result",
          "data": {
            "text/plain": [
              "              Age         ALB         ALP         ALT         AST         BIL  \\\n",
              "count  615.000000  615.000000  615.000000  615.000000  615.000000  615.000000   \n",
              "mean    47.408130   41.620732   68.222927   28.441951   34.786341   11.396748   \n",
              "std     10.055105    5.775935   25.646364   25.449889   33.090690   19.673150   \n",
              "min     19.000000   14.900000   11.300000    0.900000   10.600000    0.800000   \n",
              "25%     39.000000   38.800000   52.950000   16.400000   21.600000    5.300000   \n",
              "50%     47.000000   41.950000   66.200000   23.000000   25.900000    7.300000   \n",
              "75%     54.000000   45.200000   79.300000   33.050000   32.900000   11.200000   \n",
              "max     77.000000   82.200000  416.600000  325.300000  324.000000  254.000000   \n",
              "\n",
              "              CHE        CHOL         CREA         GGT        PROT  \n",
              "count  615.000000  615.000000   615.000000  615.000000  615.000000  \n",
              "mean     8.196634    5.366992    81.287805   39.533171   72.044390  \n",
              "std      2.205657    1.123499    49.756166   54.661071    5.398238  \n",
              "min      1.420000    1.430000     8.000000    4.500000   44.800000  \n",
              "25%      6.935000    4.620000    67.000000   15.700000   69.300000  \n",
              "50%      8.260000    5.300000    77.000000   23.300000   72.200000  \n",
              "75%      9.590000    6.055000    88.000000   40.200000   75.400000  \n",
              "max     16.410000    9.670000  1079.100000  650.900000   90.000000  "
            ],
            "text/html": [
              "\n",
              "  <div id=\"df-ed9e7a71-fedf-415d-8dcf-a4a0f0649db0\">\n",
              "    <div class=\"colab-df-container\">\n",
              "      <div>\n",
              "<style scoped>\n",
              "    .dataframe tbody tr th:only-of-type {\n",
              "        vertical-align: middle;\n",
              "    }\n",
              "\n",
              "    .dataframe tbody tr th {\n",
              "        vertical-align: top;\n",
              "    }\n",
              "\n",
              "    .dataframe thead th {\n",
              "        text-align: right;\n",
              "    }\n",
              "</style>\n",
              "<table border=\"1\" class=\"dataframe\">\n",
              "  <thead>\n",
              "    <tr style=\"text-align: right;\">\n",
              "      <th></th>\n",
              "      <th>Age</th>\n",
              "      <th>ALB</th>\n",
              "      <th>ALP</th>\n",
              "      <th>ALT</th>\n",
              "      <th>AST</th>\n",
              "      <th>BIL</th>\n",
              "      <th>CHE</th>\n",
              "      <th>CHOL</th>\n",
              "      <th>CREA</th>\n",
              "      <th>GGT</th>\n",
              "      <th>PROT</th>\n",
              "    </tr>\n",
              "  </thead>\n",
              "  <tbody>\n",
              "    <tr>\n",
              "      <th>count</th>\n",
              "      <td>615.000000</td>\n",
              "      <td>615.000000</td>\n",
              "      <td>615.000000</td>\n",
              "      <td>615.000000</td>\n",
              "      <td>615.000000</td>\n",
              "      <td>615.000000</td>\n",
              "      <td>615.000000</td>\n",
              "      <td>615.000000</td>\n",
              "      <td>615.000000</td>\n",
              "      <td>615.000000</td>\n",
              "      <td>615.000000</td>\n",
              "    </tr>\n",
              "    <tr>\n",
              "      <th>mean</th>\n",
              "      <td>47.408130</td>\n",
              "      <td>41.620732</td>\n",
              "      <td>68.222927</td>\n",
              "      <td>28.441951</td>\n",
              "      <td>34.786341</td>\n",
              "      <td>11.396748</td>\n",
              "      <td>8.196634</td>\n",
              "      <td>5.366992</td>\n",
              "      <td>81.287805</td>\n",
              "      <td>39.533171</td>\n",
              "      <td>72.044390</td>\n",
              "    </tr>\n",
              "    <tr>\n",
              "      <th>std</th>\n",
              "      <td>10.055105</td>\n",
              "      <td>5.775935</td>\n",
              "      <td>25.646364</td>\n",
              "      <td>25.449889</td>\n",
              "      <td>33.090690</td>\n",
              "      <td>19.673150</td>\n",
              "      <td>2.205657</td>\n",
              "      <td>1.123499</td>\n",
              "      <td>49.756166</td>\n",
              "      <td>54.661071</td>\n",
              "      <td>5.398238</td>\n",
              "    </tr>\n",
              "    <tr>\n",
              "      <th>min</th>\n",
              "      <td>19.000000</td>\n",
              "      <td>14.900000</td>\n",
              "      <td>11.300000</td>\n",
              "      <td>0.900000</td>\n",
              "      <td>10.600000</td>\n",
              "      <td>0.800000</td>\n",
              "      <td>1.420000</td>\n",
              "      <td>1.430000</td>\n",
              "      <td>8.000000</td>\n",
              "      <td>4.500000</td>\n",
              "      <td>44.800000</td>\n",
              "    </tr>\n",
              "    <tr>\n",
              "      <th>25%</th>\n",
              "      <td>39.000000</td>\n",
              "      <td>38.800000</td>\n",
              "      <td>52.950000</td>\n",
              "      <td>16.400000</td>\n",
              "      <td>21.600000</td>\n",
              "      <td>5.300000</td>\n",
              "      <td>6.935000</td>\n",
              "      <td>4.620000</td>\n",
              "      <td>67.000000</td>\n",
              "      <td>15.700000</td>\n",
              "      <td>69.300000</td>\n",
              "    </tr>\n",
              "    <tr>\n",
              "      <th>50%</th>\n",
              "      <td>47.000000</td>\n",
              "      <td>41.950000</td>\n",
              "      <td>66.200000</td>\n",
              "      <td>23.000000</td>\n",
              "      <td>25.900000</td>\n",
              "      <td>7.300000</td>\n",
              "      <td>8.260000</td>\n",
              "      <td>5.300000</td>\n",
              "      <td>77.000000</td>\n",
              "      <td>23.300000</td>\n",
              "      <td>72.200000</td>\n",
              "    </tr>\n",
              "    <tr>\n",
              "      <th>75%</th>\n",
              "      <td>54.000000</td>\n",
              "      <td>45.200000</td>\n",
              "      <td>79.300000</td>\n",
              "      <td>33.050000</td>\n",
              "      <td>32.900000</td>\n",
              "      <td>11.200000</td>\n",
              "      <td>9.590000</td>\n",
              "      <td>6.055000</td>\n",
              "      <td>88.000000</td>\n",
              "      <td>40.200000</td>\n",
              "      <td>75.400000</td>\n",
              "    </tr>\n",
              "    <tr>\n",
              "      <th>max</th>\n",
              "      <td>77.000000</td>\n",
              "      <td>82.200000</td>\n",
              "      <td>416.600000</td>\n",
              "      <td>325.300000</td>\n",
              "      <td>324.000000</td>\n",
              "      <td>254.000000</td>\n",
              "      <td>16.410000</td>\n",
              "      <td>9.670000</td>\n",
              "      <td>1079.100000</td>\n",
              "      <td>650.900000</td>\n",
              "      <td>90.000000</td>\n",
              "    </tr>\n",
              "  </tbody>\n",
              "</table>\n",
              "</div>\n",
              "      <button class=\"colab-df-convert\" onclick=\"convertToInteractive('df-ed9e7a71-fedf-415d-8dcf-a4a0f0649db0')\"\n",
              "              title=\"Convert this dataframe to an interactive table.\"\n",
              "              style=\"display:none;\">\n",
              "        \n",
              "  <svg xmlns=\"http://www.w3.org/2000/svg\" height=\"24px\"viewBox=\"0 0 24 24\"\n",
              "       width=\"24px\">\n",
              "    <path d=\"M0 0h24v24H0V0z\" fill=\"none\"/>\n",
              "    <path d=\"M18.56 5.44l.94 2.06.94-2.06 2.06-.94-2.06-.94-.94-2.06-.94 2.06-2.06.94zm-11 1L8.5 8.5l.94-2.06 2.06-.94-2.06-.94L8.5 2.5l-.94 2.06-2.06.94zm10 10l.94 2.06.94-2.06 2.06-.94-2.06-.94-.94-2.06-.94 2.06-2.06.94z\"/><path d=\"M17.41 7.96l-1.37-1.37c-.4-.4-.92-.59-1.43-.59-.52 0-1.04.2-1.43.59L10.3 9.45l-7.72 7.72c-.78.78-.78 2.05 0 2.83L4 21.41c.39.39.9.59 1.41.59.51 0 1.02-.2 1.41-.59l7.78-7.78 2.81-2.81c.8-.78.8-2.07 0-2.86zM5.41 20L4 18.59l7.72-7.72 1.47 1.35L5.41 20z\"/>\n",
              "  </svg>\n",
              "      </button>\n",
              "      \n",
              "  <style>\n",
              "    .colab-df-container {\n",
              "      display:flex;\n",
              "      flex-wrap:wrap;\n",
              "      gap: 12px;\n",
              "    }\n",
              "\n",
              "    .colab-df-convert {\n",
              "      background-color: #E8F0FE;\n",
              "      border: none;\n",
              "      border-radius: 50%;\n",
              "      cursor: pointer;\n",
              "      display: none;\n",
              "      fill: #1967D2;\n",
              "      height: 32px;\n",
              "      padding: 0 0 0 0;\n",
              "      width: 32px;\n",
              "    }\n",
              "\n",
              "    .colab-df-convert:hover {\n",
              "      background-color: #E2EBFA;\n",
              "      box-shadow: 0px 1px 2px rgba(60, 64, 67, 0.3), 0px 1px 3px 1px rgba(60, 64, 67, 0.15);\n",
              "      fill: #174EA6;\n",
              "    }\n",
              "\n",
              "    [theme=dark] .colab-df-convert {\n",
              "      background-color: #3B4455;\n",
              "      fill: #D2E3FC;\n",
              "    }\n",
              "\n",
              "    [theme=dark] .colab-df-convert:hover {\n",
              "      background-color: #434B5C;\n",
              "      box-shadow: 0px 1px 3px 1px rgba(0, 0, 0, 0.15);\n",
              "      filter: drop-shadow(0px 1px 2px rgba(0, 0, 0, 0.3));\n",
              "      fill: #FFFFFF;\n",
              "    }\n",
              "  </style>\n",
              "\n",
              "      <script>\n",
              "        const buttonEl =\n",
              "          document.querySelector('#df-ed9e7a71-fedf-415d-8dcf-a4a0f0649db0 button.colab-df-convert');\n",
              "        buttonEl.style.display =\n",
              "          google.colab.kernel.accessAllowed ? 'block' : 'none';\n",
              "\n",
              "        async function convertToInteractive(key) {\n",
              "          const element = document.querySelector('#df-ed9e7a71-fedf-415d-8dcf-a4a0f0649db0');\n",
              "          const dataTable =\n",
              "            await google.colab.kernel.invokeFunction('convertToInteractive',\n",
              "                                                     [key], {});\n",
              "          if (!dataTable) return;\n",
              "\n",
              "          const docLinkHtml = 'Like what you see? Visit the ' +\n",
              "            '<a target=\"_blank\" href=https://colab.research.google.com/notebooks/data_table.ipynb>data table notebook</a>'\n",
              "            + ' to learn more about interactive tables.';\n",
              "          element.innerHTML = '';\n",
              "          dataTable['output_type'] = 'display_data';\n",
              "          await google.colab.output.renderOutput(dataTable, element);\n",
              "          const docLink = document.createElement('div');\n",
              "          docLink.innerHTML = docLinkHtml;\n",
              "          element.appendChild(docLink);\n",
              "        }\n",
              "      </script>\n",
              "    </div>\n",
              "  </div>\n",
              "  "
            ]
          },
          "metadata": {},
          "execution_count": 15
        }
      ]
    },
    {
      "cell_type": "markdown",
      "source": [
        "###Violin Plot"
      ],
      "metadata": {
        "id": "Eh73UfuTdbo-"
      }
    },
    {
      "cell_type": "code",
      "source": [
        "fig,axes=plt.subplots(11,1,figsize=(15,10))\n",
        "fig.suptitle('The Distribution of Continuous Attributes',fontsize=24)\n",
        "colors=['turquoise','blue','navy','purple','pink','red','orange','yellow','yellowgreen','green','darkgreen']\n",
        "\n",
        "y=0.84\n",
        "for ax,color,column in zip(axes,colors,data_cont.columns):\n",
        "  sns.violinplot(ax=ax,x=dataset[column],color=color).tick_params(axis='x', labelsize=16)\n",
        "  fig.text(0.07, y, column,fontsize=16)\n",
        "  y-=0.069\n",
        "plt.subplots_adjust(wspace=0.2,hspace=0.8)\n",
        "plt.savefig(\"violin.png\",transparent=True)"
      ],
      "metadata": {
        "id": "IMwgLAJxq2v8",
        "colab": {
          "base_uri": "https://localhost:8080/",
          "height": 682
        },
        "outputId": "ae58f319-7985-4593-8e67-2ac4f2b1a876"
      },
      "execution_count": 16,
      "outputs": [
        {
          "output_type": "display_data",
          "data": {
            "text/plain": [
              "<Figure size 1080x720 with 11 Axes>"
            ],
            "image/png": "[encoded data removed]"
          },
          "metadata": {
            "needs_background": "light"
          }
        }
      ]
    },
    {
      "cell_type": "markdown",
      "source": [
        "figure 4 show the distribution of the each continuous attribute. from the figure 4, we can observe righted skwed distribution for ALP, ALT, AST, BIL, CREA and GGT. Age, ABL, BIL and CHE have approximate symmetric distribution. PROT have slight lefted skwed distribution."
      ],
      "metadata": {
        "id": "hNsSz3Sthcav"
      }
    },
    {
      "cell_type": "markdown",
      "source": [
        "### Normality Testing: Shapiro-Wilk test\n",
        "normallity testing is carried out to test the type of distribution of the data. if the data is normal, parametric statistics is applied for the hypothesis testing and non-parametric statistics is applied for non-normal data.\n",
        "```\n",
        "  H0: the distribution of attribute is normal\n",
        "  H1: the distribution of attribute is not normal\n",
        "```\n",
        "the attribute is not normal is p-value is less than the significant value, 0.05."
      ],
      "metadata": {
        "id": "VQU6Rw1mfiPx"
      }
    },
    {
      "cell_type": "code",
      "source": [
        "from scipy.stats import shapiro\n",
        "test1=pd.DataFrame(columns=[\"Statistics\",\"p-value\",\"Decisions\",\"Distribution\"])\n",
        "for i in data_cont.columns:\n",
        "  test_statistic, p_value = shapiro(dataset[i])\n",
        "  if p_value <0.01:\n",
        "    decisions=\"H0 rejected\"\n",
        "    normal=\"Not normal distributed\"\n",
        "  else:\n",
        "    decisions=\"H0 is failed to rejected\"\n",
        "    normal=\"normal distributed\"\n",
        "  test1=test1.append({\"Statistics\":test_statistic,\"p-value\":round(p_value,5),\"Decisions\":decisions,\"Distribution\":normal},ignore_index=True)\n",
        "display(test1)\n"
      ],
      "metadata": {
        "id": "VA6iJW6YFMrt",
        "colab": {
          "base_uri": "https://localhost:8080/",
          "height": 394
        },
        "outputId": "4c3cd686-40f6-4c0b-ab02-93ada5fd5d7e"
      },
      "execution_count": 17,
      "outputs": [
        {
          "output_type": "display_data",
          "data": {
            "text/plain": [
              "    Statistics  p-value    Decisions            Distribution\n",
              "0     0.984102  0.00000  H0 rejected  Not normal distributed\n",
              "1     0.928105  0.00000  H0 rejected  Not normal distributed\n",
              "2     0.766053  0.00000  H0 rejected  Not normal distributed\n",
              "3     0.581511  0.00000  H0 rejected  Not normal distributed\n",
              "4     0.470580  0.00000  H0 rejected  Not normal distributed\n",
              "5     0.312252  0.00000  H0 rejected  Not normal distributed\n",
              "6     0.980956  0.00000  H0 rejected  Not normal distributed\n",
              "7     0.989226  0.00017  H0 rejected  Not normal distributed\n",
              "8     0.246592  0.00000  H0 rejected  Not normal distributed\n",
              "9     0.480422  0.00000  H0 rejected  Not normal distributed\n",
              "10    0.945598  0.00000  H0 rejected  Not normal distributed"
            ],
            "text/html": [
              "\n",
              "  <div id=\"df-78307398-07ae-45c1-92ea-99a3ab0cc070\">\n",
              "    <div class=\"colab-df-container\">\n",
              "      <div>\n",
              "<style scoped>\n",
              "    .dataframe tbody tr th:only-of-type {\n",
              "        vertical-align: middle;\n",
              "    }\n",
              "\n",
              "    .dataframe tbody tr th {\n",
              "        vertical-align: top;\n",
              "    }\n",
              "\n",
              "    .dataframe thead th {\n",
              "        text-align: right;\n",
              "    }\n",
              "</style>\n",
              "<table border=\"1\" class=\"dataframe\">\n",
              "  <thead>\n",
              "    <tr style=\"text-align: right;\">\n",
              "      <th></th>\n",
              "      <th>Statistics</th>\n",
              "      <th>p-value</th>\n",
              "      <th>Decisions</th>\n",
              "      <th>Distribution</th>\n",
              "    </tr>\n",
              "  </thead>\n",
              "  <tbody>\n",
              "    <tr>\n",
              "      <th>0</th>\n",
              "      <td>0.984102</td>\n",
              "      <td>0.00000</td>\n",
              "      <td>H0 rejected</td>\n",
              "      <td>Not normal distributed</td>\n",
              "    </tr>\n",
              "    <tr>\n",
              "      <th>1</th>\n",
              "      <td>0.928105</td>\n",
              "      <td>0.00000</td>\n",
              "      <td>H0 rejected</td>\n",
              "      <td>Not normal distributed</td>\n",
              "    </tr>\n",
              "    <tr>\n",
              "      <th>2</th>\n",
              "      <td>0.766053</td>\n",
              "      <td>0.00000</td>\n",
              "      <td>H0 rejected</td>\n",
              "      <td>Not normal distributed</td>\n",
              "    </tr>\n",
              "    <tr>\n",
              "      <th>3</th>\n",
              "      <td>0.581511</td>\n",
              "      <td>0.00000</td>\n",
              "      <td>H0 rejected</td>\n",
              "      <td>Not normal distributed</td>\n",
              "    </tr>\n",
              "    <tr>\n",
              "      <th>4</th>\n",
              "      <td>0.470580</td>\n",
              "      <td>0.00000</td>\n",
              "      <td>H0 rejected</td>\n",
              "      <td>Not normal distributed</td>\n",
              "    </tr>\n",
              "    <tr>\n",
              "      <th>5</th>\n",
              "      <td>0.312252</td>\n",
              "      <td>0.00000</td>\n",
              "      <td>H0 rejected</td>\n",
              "      <td>Not normal distributed</td>\n",
              "    </tr>\n",
              "    <tr>\n",
              "      <th>6</th>\n",
              "      <td>0.980956</td>\n",
              "      <td>0.00000</td>\n",
              "      <td>H0 rejected</td>\n",
              "      <td>Not normal distributed</td>\n",
              "    </tr>\n",
              "    <tr>\n",
              "      <th>7</th>\n",
              "      <td>0.989226</td>\n",
              "      <td>0.00017</td>\n",
              "      <td>H0 rejected</td>\n",
              "      <td>Not normal distributed</td>\n",
              "    </tr>\n",
              "    <tr>\n",
              "      <th>8</th>\n",
              "      <td>0.246592</td>\n",
              "      <td>0.00000</td>\n",
              "      <td>H0 rejected</td>\n",
              "      <td>Not normal distributed</td>\n",
              "    </tr>\n",
              "    <tr>\n",
              "      <th>9</th>\n",
              "      <td>0.480422</td>\n",
              "      <td>0.00000</td>\n",
              "      <td>H0 rejected</td>\n",
              "      <td>Not normal distributed</td>\n",
              "    </tr>\n",
              "    <tr>\n",
              "      <th>10</th>\n",
              "      <td>0.945598</td>\n",
              "      <td>0.00000</td>\n",
              "      <td>H0 rejected</td>\n",
              "      <td>Not normal distributed</td>\n",
              "    </tr>\n",
              "  </tbody>\n",
              "</table>\n",
              "</div>\n",
              "      <button class=\"colab-df-convert\" onclick=\"convertToInteractive('df-78307398-07ae-45c1-92ea-99a3ab0cc070')\"\n",
              "              title=\"Convert this dataframe to an interactive table.\"\n",
              "              style=\"display:none;\">\n",
              "        \n",
              "  <svg xmlns=\"http://www.w3.org/2000/svg\" height=\"24px\"viewBox=\"0 0 24 24\"\n",
              "       width=\"24px\">\n",
              "    <path d=\"M0 0h24v24H0V0z\" fill=\"none\"/>\n",
              "    <path d=\"M18.56 5.44l.94 2.06.94-2.06 2.06-.94-2.06-.94-.94-2.06-.94 2.06-2.06.94zm-11 1L8.5 8.5l.94-2.06 2.06-.94-2.06-.94L8.5 2.5l-.94 2.06-2.06.94zm10 10l.94 2.06.94-2.06 2.06-.94-2.06-.94-.94-2.06-.94 2.06-2.06.94z\"/><path d=\"M17.41 7.96l-1.37-1.37c-.4-.4-.92-.59-1.43-.59-.52 0-1.04.2-1.43.59L10.3 9.45l-7.72 7.72c-.78.78-.78 2.05 0 2.83L4 21.41c.39.39.9.59 1.41.59.51 0 1.02-.2 1.41-.59l7.78-7.78 2.81-2.81c.8-.78.8-2.07 0-2.86zM5.41 20L4 18.59l7.72-7.72 1.47 1.35L5.41 20z\"/>\n",
              "  </svg>\n",
              "      </button>\n",
              "      \n",
              "  <style>\n",
              "    .colab-df-container {\n",
              "      display:flex;\n",
              "      flex-wrap:wrap;\n",
              "      gap: 12px;\n",
              "    }\n",
              "\n",
              "    .colab-df-convert {\n",
              "      background-color: #E8F0FE;\n",
              "      border: none;\n",
              "      border-radius: 50%;\n",
              "      cursor: pointer;\n",
              "      display: none;\n",
              "      fill: #1967D2;\n",
              "      height: 32px;\n",
              "      padding: 0 0 0 0;\n",
              "      width: 32px;\n",
              "    }\n",
              "\n",
              "    .colab-df-convert:hover {\n",
              "      background-color: #E2EBFA;\n",
              "      box-shadow: 0px 1px 2px rgba(60, 64, 67, 0.3), 0px 1px 3px 1px rgba(60, 64, 67, 0.15);\n",
              "      fill: #174EA6;\n",
              "    }\n",
              "\n",
              "    [theme=dark] .colab-df-convert {\n",
              "      background-color: #3B4455;\n",
              "      fill: #D2E3FC;\n",
              "    }\n",
              "\n",
              "    [theme=dark] .colab-df-convert:hover {\n",
              "      background-color: #434B5C;\n",
              "      box-shadow: 0px 1px 3px 1px rgba(0, 0, 0, 0.15);\n",
              "      filter: drop-shadow(0px 1px 2px rgba(0, 0, 0, 0.3));\n",
              "      fill: #FFFFFF;\n",
              "    }\n",
              "  </style>\n",
              "\n",
              "      <script>\n",
              "        const buttonEl =\n",
              "          document.querySelector('#df-78307398-07ae-45c1-92ea-99a3ab0cc070 button.colab-df-convert');\n",
              "        buttonEl.style.display =\n",
              "          google.colab.kernel.accessAllowed ? 'block' : 'none';\n",
              "\n",
              "        async function convertToInteractive(key) {\n",
              "          const element = document.querySelector('#df-78307398-07ae-45c1-92ea-99a3ab0cc070');\n",
              "          const dataTable =\n",
              "            await google.colab.kernel.invokeFunction('convertToInteractive',\n",
              "                                                     [key], {});\n",
              "          if (!dataTable) return;\n",
              "\n",
              "          const docLinkHtml = 'Like what you see? Visit the ' +\n",
              "            '<a target=\"_blank\" href=https://colab.research.google.com/notebooks/data_table.ipynb>data table notebook</a>'\n",
              "            + ' to learn more about interactive tables.';\n",
              "          element.innerHTML = '';\n",
              "          dataTable['output_type'] = 'display_data';\n",
              "          await google.colab.output.renderOutput(dataTable, element);\n",
              "          const docLink = document.createElement('div');\n",
              "          docLink.innerHTML = docLinkHtml;\n",
              "          element.appendChild(docLink);\n",
              "        }\n",
              "      </script>\n",
              "    </div>\n",
              "  </div>\n",
              "  "
            ]
          },
          "metadata": {}
        }
      ]
    },
    {
      "cell_type": "markdown",
      "source": [
        "from the shapiro-wilk result, there is 99% confidence that the all attribute are not normally distributed. non-parametric is carried out."
      ],
      "metadata": {
        "id": "OM11FBz4IUK7"
      }
    },
    {
      "cell_type": "code",
      "source": [
        "Category=pd.DataFrame(data_dist.Category.value_counts())\n",
        "Category.rename(index={0:\"Healthy\",1:\"Hepatitis\",2:\"Fibrosis\",3:\"Cirrhosis\"},inplace=True)\n",
        "Sex=pd.DataFrame(data_dist.Sex.value_counts())\n",
        "Sex.rename(index={0:\"Male\",1:\"Female\"},inplace=True)\n",
        "display(Category)\n",
        "display(Sex)"
      ],
      "metadata": {
        "id": "79b41V_v-dzX",
        "colab": {
          "base_uri": "https://localhost:8080/",
          "height": 269
        },
        "outputId": "eed917e9-b2e3-46c8-96cc-c5382ae04285"
      },
      "execution_count": 18,
      "outputs": [
        {
          "output_type": "display_data",
          "data": {
            "text/plain": [
              "           Category\n",
              "Healthy         540\n",
              "Cirrhosis        30\n",
              "Hepatitis        24\n",
              "Fibrosis         21"
            ],
            "text/html": [
              "\n",
              "  <div id=\"df-72d528c6-ba12-4634-acb7-a97ef997835e\">\n",
              "    <div class=\"colab-df-container\">\n",
              "      <div>\n",
              "<style scoped>\n",
              "    .dataframe tbody tr th:only-of-type {\n",
              "        vertical-align: middle;\n",
              "    }\n",
              "\n",
              "    .dataframe tbody tr th {\n",
              "        vertical-align: top;\n",
              "    }\n",
              "\n",
              "    .dataframe thead th {\n",
              "        text-align: right;\n",
              "    }\n",
              "</style>\n",
              "<table border=\"1\" class=\"dataframe\">\n",
              "  <thead>\n",
              "    <tr style=\"text-align: right;\">\n",
              "      <th></th>\n",
              "      <th>Category</th>\n",
              "    </tr>\n",
              "  </thead>\n",
              "  <tbody>\n",
              "    <tr>\n",
              "      <th>Healthy</th>\n",
              "      <td>540</td>\n",
              "    </tr>\n",
              "    <tr>\n",
              "      <th>Cirrhosis</th>\n",
              "      <td>30</td>\n",
              "    </tr>\n",
              "    <tr>\n",
              "      <th>Hepatitis</th>\n",
              "      <td>24</td>\n",
              "    </tr>\n",
              "    <tr>\n",
              "      <th>Fibrosis</th>\n",
              "      <td>21</td>\n",
              "    </tr>\n",
              "  </tbody>\n",
              "</table>\n",
              "</div>\n",
              "      <button class=\"colab-df-convert\" onclick=\"convertToInteractive('df-72d528c6-ba12-4634-acb7-a97ef997835e')\"\n",
              "              title=\"Convert this dataframe to an interactive table.\"\n",
              "              style=\"display:none;\">\n",
              "        \n",
              "  <svg xmlns=\"http://www.w3.org/2000/svg\" height=\"24px\"viewBox=\"0 0 24 24\"\n",
              "       width=\"24px\">\n",
              "    <path d=\"M0 0h24v24H0V0z\" fill=\"none\"/>\n",
              "    <path d=\"M18.56 5.44l.94 2.06.94-2.06 2.06-.94-2.06-.94-.94-2.06-.94 2.06-2.06.94zm-11 1L8.5 8.5l.94-2.06 2.06-.94-2.06-.94L8.5 2.5l-.94 2.06-2.06.94zm10 10l.94 2.06.94-2.06 2.06-.94-2.06-.94-.94-2.06-.94 2.06-2.06.94z\"/><path d=\"M17.41 7.96l-1.37-1.37c-.4-.4-.92-.59-1.43-.59-.52 0-1.04.2-1.43.59L10.3 9.45l-7.72 7.72c-.78.78-.78 2.05 0 2.83L4 21.41c.39.39.9.59 1.41.59.51 0 1.02-.2 1.41-.59l7.78-7.78 2.81-2.81c.8-.78.8-2.07 0-2.86zM5.41 20L4 18.59l7.72-7.72 1.47 1.35L5.41 20z\"/>\n",
              "  </svg>\n",
              "      </button>\n",
              "      \n",
              "  <style>\n",
              "    .colab-df-container {\n",
              "      display:flex;\n",
              "      flex-wrap:wrap;\n",
              "      gap: 12px;\n",
              "    }\n",
              "\n",
              "    .colab-df-convert {\n",
              "      background-color: #E8F0FE;\n",
              "      border: none;\n",
              "      border-radius: 50%;\n",
              "      cursor: pointer;\n",
              "      display: none;\n",
              "      fill: #1967D2;\n",
              "      height: 32px;\n",
              "      padding: 0 0 0 0;\n",
              "      width: 32px;\n",
              "    }\n",
              "\n",
              "    .colab-df-convert:hover {\n",
              "      background-color: #E2EBFA;\n",
              "      box-shadow: 0px 1px 2px rgba(60, 64, 67, 0.3), 0px 1px 3px 1px rgba(60, 64, 67, 0.15);\n",
              "      fill: #174EA6;\n",
              "    }\n",
              "\n",
              "    [theme=dark] .colab-df-convert {\n",
              "      background-color: #3B4455;\n",
              "      fill: #D2E3FC;\n",
              "    }\n",
              "\n",
              "    [theme=dark] .colab-df-convert:hover {\n",
              "      background-color: #434B5C;\n",
              "      box-shadow: 0px 1px 3px 1px rgba(0, 0, 0, 0.15);\n",
              "      filter: drop-shadow(0px 1px 2px rgba(0, 0, 0, 0.3));\n",
              "      fill: #FFFFFF;\n",
              "    }\n",
              "  </style>\n",
              "\n",
              "      <script>\n",
              "        const buttonEl =\n",
              "          document.querySelector('#df-72d528c6-ba12-4634-acb7-a97ef997835e button.colab-df-convert');\n",
              "        buttonEl.style.display =\n",
              "          google.colab.kernel.accessAllowed ? 'block' : 'none';\n",
              "\n",
              "        async function convertToInteractive(key) {\n",
              "          const element = document.querySelector('#df-72d528c6-ba12-4634-acb7-a97ef997835e');\n",
              "          const dataTable =\n",
              "            await google.colab.kernel.invokeFunction('convertToInteractive',\n",
              "                                                     [key], {});\n",
              "          if (!dataTable) return;\n",
              "\n",
              "          const docLinkHtml = 'Like what you see? Visit the ' +\n",
              "            '<a target=\"_blank\" href=https://colab.research.google.com/notebooks/data_table.ipynb>data table notebook</a>'\n",
              "            + ' to learn more about interactive tables.';\n",
              "          element.innerHTML = '';\n",
              "          dataTable['output_type'] = 'display_data';\n",
              "          await google.colab.output.renderOutput(dataTable, element);\n",
              "          const docLink = document.createElement('div');\n",
              "          docLink.innerHTML = docLinkHtml;\n",
              "          element.appendChild(docLink);\n",
              "        }\n",
              "      </script>\n",
              "    </div>\n",
              "  </div>\n",
              "  "
            ]
          },
          "metadata": {}
        },
        {
          "output_type": "display_data",
          "data": {
            "text/plain": [
              "        Sex\n",
              "Female  377\n",
              "Male    238"
            ],
            "text/html": [
              "\n",
              "  <div id=\"df-c9650226-cbb3-4c21-84aa-229624060be9\">\n",
              "    <div class=\"colab-df-container\">\n",
              "      <div>\n",
              "<style scoped>\n",
              "    .dataframe tbody tr th:only-of-type {\n",
              "        vertical-align: middle;\n",
              "    }\n",
              "\n",
              "    .dataframe tbody tr th {\n",
              "        vertical-align: top;\n",
              "    }\n",
              "\n",
              "    .dataframe thead th {\n",
              "        text-align: right;\n",
              "    }\n",
              "</style>\n",
              "<table border=\"1\" class=\"dataframe\">\n",
              "  <thead>\n",
              "    <tr style=\"text-align: right;\">\n",
              "      <th></th>\n",
              "      <th>Sex</th>\n",
              "    </tr>\n",
              "  </thead>\n",
              "  <tbody>\n",
              "    <tr>\n",
              "      <th>Female</th>\n",
              "      <td>377</td>\n",
              "    </tr>\n",
              "    <tr>\n",
              "      <th>Male</th>\n",
              "      <td>238</td>\n",
              "    </tr>\n",
              "  </tbody>\n",
              "</table>\n",
              "</div>\n",
              "      <button class=\"colab-df-convert\" onclick=\"convertToInteractive('df-c9650226-cbb3-4c21-84aa-229624060be9')\"\n",
              "              title=\"Convert this dataframe to an interactive table.\"\n",
              "              style=\"display:none;\">\n",
              "        \n",
              "  <svg xmlns=\"http://www.w3.org/2000/svg\" height=\"24px\"viewBox=\"0 0 24 24\"\n",
              "       width=\"24px\">\n",
              "    <path d=\"M0 0h24v24H0V0z\" fill=\"none\"/>\n",
              "    <path d=\"M18.56 5.44l.94 2.06.94-2.06 2.06-.94-2.06-.94-.94-2.06-.94 2.06-2.06.94zm-11 1L8.5 8.5l.94-2.06 2.06-.94-2.06-.94L8.5 2.5l-.94 2.06-2.06.94zm10 10l.94 2.06.94-2.06 2.06-.94-2.06-.94-.94-2.06-.94 2.06-2.06.94z\"/><path d=\"M17.41 7.96l-1.37-1.37c-.4-.4-.92-.59-1.43-.59-.52 0-1.04.2-1.43.59L10.3 9.45l-7.72 7.72c-.78.78-.78 2.05 0 2.83L4 21.41c.39.39.9.59 1.41.59.51 0 1.02-.2 1.41-.59l7.78-7.78 2.81-2.81c.8-.78.8-2.07 0-2.86zM5.41 20L4 18.59l7.72-7.72 1.47 1.35L5.41 20z\"/>\n",
              "  </svg>\n",
              "      </button>\n",
              "      \n",
              "  <style>\n",
              "    .colab-df-container {\n",
              "      display:flex;\n",
              "      flex-wrap:wrap;\n",
              "      gap: 12px;\n",
              "    }\n",
              "\n",
              "    .colab-df-convert {\n",
              "      background-color: #E8F0FE;\n",
              "      border: none;\n",
              "      border-radius: 50%;\n",
              "      cursor: pointer;\n",
              "      display: none;\n",
              "      fill: #1967D2;\n",
              "      height: 32px;\n",
              "      padding: 0 0 0 0;\n",
              "      width: 32px;\n",
              "    }\n",
              "\n",
              "    .colab-df-convert:hover {\n",
              "      background-color: #E2EBFA;\n",
              "      box-shadow: 0px 1px 2px rgba(60, 64, 67, 0.3), 0px 1px 3px 1px rgba(60, 64, 67, 0.15);\n",
              "      fill: #174EA6;\n",
              "    }\n",
              "\n",
              "    [theme=dark] .colab-df-convert {\n",
              "      background-color: #3B4455;\n",
              "      fill: #D2E3FC;\n",
              "    }\n",
              "\n",
              "    [theme=dark] .colab-df-convert:hover {\n",
              "      background-color: #434B5C;\n",
              "      box-shadow: 0px 1px 3px 1px rgba(0, 0, 0, 0.15);\n",
              "      filter: drop-shadow(0px 1px 2px rgba(0, 0, 0, 0.3));\n",
              "      fill: #FFFFFF;\n",
              "    }\n",
              "  </style>\n",
              "\n",
              "      <script>\n",
              "        const buttonEl =\n",
              "          document.querySelector('#df-c9650226-cbb3-4c21-84aa-229624060be9 button.colab-df-convert');\n",
              "        buttonEl.style.display =\n",
              "          google.colab.kernel.accessAllowed ? 'block' : 'none';\n",
              "\n",
              "        async function convertToInteractive(key) {\n",
              "          const element = document.querySelector('#df-c9650226-cbb3-4c21-84aa-229624060be9');\n",
              "          const dataTable =\n",
              "            await google.colab.kernel.invokeFunction('convertToInteractive',\n",
              "                                                     [key], {});\n",
              "          if (!dataTable) return;\n",
              "\n",
              "          const docLinkHtml = 'Like what you see? Visit the ' +\n",
              "            '<a target=\"_blank\" href=https://colab.research.google.com/notebooks/data_table.ipynb>data table notebook</a>'\n",
              "            + ' to learn more about interactive tables.';\n",
              "          element.innerHTML = '';\n",
              "          dataTable['output_type'] = 'display_data';\n",
              "          await google.colab.output.renderOutput(dataTable, element);\n",
              "          const docLink = document.createElement('div');\n",
              "          docLink.innerHTML = docLinkHtml;\n",
              "          element.appendChild(docLink);\n",
              "        }\n",
              "      </script>\n",
              "    </div>\n",
              "  </div>\n",
              "  "
            ]
          },
          "metadata": {}
        }
      ]
    },
    {
      "cell_type": "code",
      "source": [
        "fig,axes=plt.subplots(1,2,figsize=(10,6))\n",
        "fig.suptitle(\"Dsitribution of Categorical Attribute\",fontsize=24)\n",
        "ax1=sns.countplot(ax=axes[0],x=dataset.Category)\n",
        "ax1.set_xticklabels(['Healthy','Hepatitis','Fibrosis','Cirrhosis'],size=16,rotation=30)\n",
        "ax1.tick_params(axis='y', labelsize=16)\n",
        "ax1.set_title(\"Category of Hepatitis C\",size=16)\n",
        "fig.text(0.15, 0.8, 540,fontsize=16)\n",
        "fig.text(0.23, 0.15, 30,fontsize=16)\n",
        "fig.text(0.31, 0.15, 24,fontsize=16)\n",
        "fig.text(0.39, 0.15, 21,fontsize=16)\n",
        "\n",
        "ax2=sns.countplot(ax=axes[1],x=dataset.Sex)\n",
        "ax2.set_xticklabels(['Male','Female'],size=16)\n",
        "ax2.tick_params(axis='y', labelsize=16)\n",
        "ax2.set_title(\"Sex\",size=16)\n",
        "plt.subplots_adjust(wspace=0.4,hspace=0.4)\n",
        "fig.text(0.8, 0.8, 377,fontsize=16)\n",
        "fig.text(0.63, 0.53, 238,fontsize=16)\n",
        "\n",
        "plt.savefig(\"bar.png\",transparent=True)"
      ],
      "metadata": {
        "id": "yyZsfRMsZG7C",
        "colab": {
          "base_uri": "https://localhost:8080/",
          "height": 470
        },
        "outputId": "8ce54bf8-999b-4eb1-ec46-27147ba9c4e4"
      },
      "execution_count": 19,
      "outputs": [
        {
          "output_type": "display_data",
          "data": {
            "text/plain": [
              "<Figure size 720x432 with 2 Axes>"
            ],
            "image/png": "[encoded data removed]"
          },
          "metadata": {
            "needs_background": "light"
          }
        }
      ]
    },
    {
      "cell_type": "markdown",
      "source": [
        "Figure 5 showed the distribution of the categorical attributed. for the category attribute which is also the target attribute, it is said to be imbalance as the healthy has the highest frequency of 86.8% of the dataset which indicate about 86.8% of the respondence does not infected hepatitis C virus.\n",
        "\n",
        "The another bar chart showed the nmber of female is more than male in this dataset."
      ],
      "metadata": {
        "id": "LYTvaGKJkfRu"
      }
    },
    {
      "cell_type": "markdown",
      "source": [
        "## distribution of 11 continuous attributes"
      ],
      "metadata": {
        "id": "XQjIJOvw8ezC"
      }
    },
    {
      "cell_type": "code",
      "source": [
        "healthy = dataset.loc[dataset['Category'].isin([0])]\n",
        "healthy=healthy.drop(columns=['Category','Sex'])\n",
        "\n",
        "hepatitis = dataset[dataset['Category'].isin([1])]\n",
        "hepatitis=hepatitis.drop(columns=['Category','Sex'])\n",
        "\n",
        "Fibrosis = dataset[dataset['Category'].isin([2])]\n",
        "Fibrosis=Fibrosis.drop(columns=['Category','Sex'])\n",
        "\n",
        "Cirrhosis = dataset[dataset['Category'].isin([3])]\n",
        "Cirrhosis=Cirrhosis.drop(columns=['Category','Sex'])"
      ],
      "metadata": {
        "id": "g8uJmIfN2kR3"
      },
      "execution_count": 20,
      "outputs": []
    },
    {
      "cell_type": "code",
      "source": [
        "sns.kdeplot('Age', data=Cirrhosis, shade=True, color='red', label='Cirrhosis')\n",
        "sns.kdeplot('Age', data=healthy, shade=True, color='green', label='Healthy')\n",
        "sns.kdeplot('Age', data=hepatitis, shade=True, color='purple', label='Hepatitis')\n",
        "sns.kdeplot('Age', data=Fibrosis, shade=True, color='orange', label='Fibrosis')\n",
        "plt.legend(labels=[\"Cirrhosis\",\"Healthy\",\"Hepatitis\",\"Fibrosis\"],prop={'size': 16})\n",
        "plt.title('Age',size=16)"
      ],
      "metadata": {
        "id": "0cllNkQMS_uU",
        "colab": {
          "base_uri": "https://localhost:8080/",
          "height": 315
        },
        "outputId": "30472997-33e0-4832-b821-978f9f95a546"
      },
      "execution_count": 21,
      "outputs": [
        {
          "output_type": "execute_result",
          "data": {
            "text/plain": [
              "Text(0.5, 1.0, 'Age')"
            ]
          },
          "metadata": {},
          "execution_count": 21
        },
        {
          "output_type": "display_data",
          "data": {
            "text/plain": [
              "<Figure size 432x288 with 1 Axes>"
            ],
            "image/png": "[encoded data removed]"
          },
          "metadata": {
            "needs_background": "light"
          }
        }
      ]
    },
    {
      "cell_type": "markdown",
      "source": [
        "The figure shows more younger generator has higher probability of having hepatitis diseases."
      ],
      "metadata": {
        "id": "-e_cWJ7JCqCy"
      }
    },
    {
      "cell_type": "code",
      "source": [
        "sns.kdeplot('ALB', data=Cirrhosis, shade=True, color='red', label='Cirrhosis')\n",
        "sns.kdeplot('ALB', data=healthy, shade=True, color='green', label='Healthy')\n",
        "sns.kdeplot('ALB', data=hepatitis, shade=True, color='purple', label='Hepatitis')\n",
        "sns.kdeplot('ALB', data=Fibrosis, shade=True, color='orange', label='Fibrosis')\n",
        "plt.legend(labels=[\"Cirrhosis\",\"Healthy\",\"Hepatitis\",\"Fibrosis\"],prop={'size': 16})\n",
        "plt.title('ALB',size=16)"
      ],
      "metadata": {
        "id": "njjQQGUnrALv",
        "colab": {
          "base_uri": "https://localhost:8080/",
          "height": 315
        },
        "outputId": "b487cc24-709b-402d-b5b1-6c35d2e294d0"
      },
      "execution_count": 22,
      "outputs": [
        {
          "output_type": "execute_result",
          "data": {
            "text/plain": [
              "Text(0.5, 1.0, 'ALB')"
            ]
          },
          "metadata": {},
          "execution_count": 22
        },
        {
          "output_type": "display_data",
          "data": {
            "text/plain": [
              "<Figure size 432x288 with 1 Axes>"
            ],
            "image/png": "[encoded data removed]"
          },
          "metadata": {
            "needs_background": "light"
          }
        }
      ]
    },
    {
      "cell_type": "markdown",
      "source": [
        "The figure shows low albumn level indicate Cirrhosis diseases"
      ],
      "metadata": {
        "id": "e61T79DiDBxu"
      }
    },
    {
      "cell_type": "code",
      "source": [
        "sns.kdeplot('ALP', data=Cirrhosis, shade=True, color='red', label='Cirrhosis')\n",
        "sns.kdeplot('ALP', data=healthy, shade=True, color='green', label='Healthy')\n",
        "sns.kdeplot('ALP', data=hepatitis, shade=True, color='purple', label='Hepatitis')\n",
        "sns.kdeplot('ALP', data=Fibrosis, shade=True, color='orange', label='Fibrosis')\n",
        "plt.legend(labels=[\"Cirrhosis\",\"Healthy\",\"Hepatitis\",\"Fibrosis\"],prop={'size': 16})\n",
        "plt.title('ALP',size=16)"
      ],
      "metadata": {
        "id": "uLnzFSRyTU6u",
        "colab": {
          "base_uri": "https://localhost:8080/",
          "height": 315
        },
        "outputId": "5c57ec30-e642-4623-f129-5d406fc09d7d"
      },
      "execution_count": 23,
      "outputs": [
        {
          "output_type": "execute_result",
          "data": {
            "text/plain": [
              "Text(0.5, 1.0, 'ALP')"
            ]
          },
          "metadata": {},
          "execution_count": 23
        },
        {
          "output_type": "display_data",
          "data": {
            "text/plain": [
              "<Figure size 432x288 with 1 Axes>"
            ],
            "image/png": "[encoded data removed]"
          },
          "metadata": {
            "needs_background": "light"
          }
        }
      ]
    },
    {
      "cell_type": "markdown",
      "source": [
        "The figure shows the lower the level of lakaline phosphatase, the higher the risks of having HCV diseases. This align with the finding for the research by Bodlaj et. al. (2010)"
      ],
      "metadata": {
        "id": "Pwu5f2TFDKWA"
      }
    },
    {
      "cell_type": "code",
      "source": [
        "sns.kdeplot('ALT', data=Cirrhosis, shade=True, color='red', label='Cirrhosis')\n",
        "sns.kdeplot('ALT', data=healthy, shade=True, color='green', label='Healthy')\n",
        "sns.kdeplot('ALT', data=hepatitis, shade=True, color='purple', label='Hepatitis')\n",
        "sns.kdeplot('ALT', data=Fibrosis, shade=True, color='orange', label='Fibrosis')\n",
        "plt.legend(labels=[\"Cirrhosis\",\"Healthy\",\"Hepatitis\",\"Fibrosis\"],prop={'size': 16})\n",
        "plt.title('ALT',size=16)"
      ],
      "metadata": {
        "id": "m_zjCMovTV-Z",
        "colab": {
          "base_uri": "https://localhost:8080/",
          "height": 315
        },
        "outputId": "8b8131d9-24bb-40d1-a22c-602747b21485"
      },
      "execution_count": 24,
      "outputs": [
        {
          "output_type": "execute_result",
          "data": {
            "text/plain": [
              "Text(0.5, 1.0, 'ALT')"
            ]
          },
          "metadata": {},
          "execution_count": 24
        },
        {
          "output_type": "display_data",
          "data": {
            "text/plain": [
              "<Figure size 432x288 with 1 Axes>"
            ],
            "image/png": "[encoded data removed]"
          },
          "metadata": {
            "needs_background": "light"
          }
        }
      ]
    },
    {
      "cell_type": "markdown",
      "source": [
        "Normal blood test results for typical liver function tests include: ALT. 7 to 55 units per liter (U/L) AST. 8 to 48 U/L. The figure shows that the healthy distributed in normal range. Accoring to Veterans Affairs (n.d.), a higher value of ALT may indicate a liver damage, however, with a normal range of ALT value does not indicate a healthy liver. Therefore, the distribution of ALF for hepatitis, cirrhosis and fibrosis are concentrated near to the normal range of ALT but also have a small group of patient with high ALT."
      ],
      "metadata": {
        "id": "A4_g-tFOE2Sr"
      }
    },
    {
      "cell_type": "code",
      "source": [
        "sns.kdeplot('AST', data=Cirrhosis, shade=True, color='red', label='Cirrhosis')\n",
        "sns.kdeplot('AST', data=healthy, shade=True, color='green', label='Healthy')\n",
        "sns.kdeplot('AST', data=hepatitis, shade=True, color='purple', label='Hepatitis')\n",
        "sns.kdeplot('AST', data=Fibrosis, shade=True, color='orange', label='Fibrosis')\n",
        "plt.legend(labels=[\"Cirrhosis\",\"Healthy\",\"Hepatitis\",\"Fibrosis\"],prop={'size': 16})\n",
        "plt.title('AST',size=16)"
      ],
      "metadata": {
        "id": "sv7Bl4TWTn6B",
        "colab": {
          "base_uri": "https://localhost:8080/",
          "height": 315
        },
        "outputId": "1d0391e1-a7d8-424f-f1f4-0ab0269d871c"
      },
      "execution_count": 25,
      "outputs": [
        {
          "output_type": "execute_result",
          "data": {
            "text/plain": [
              "Text(0.5, 1.0, 'AST')"
            ]
          },
          "metadata": {},
          "execution_count": 25
        },
        {
          "output_type": "display_data",
          "data": {
            "text/plain": [
              "<Figure size 432x288 with 1 Axes>"
            ],
            "image/png": "[encoded data removed]"
          },
          "metadata": {
            "needs_background": "light"
          }
        }
      ]
    },
    {
      "cell_type": "markdown",
      "source": [
        "Normal blood test results for typical liver function tests for AST. is in range of 8 to 48 unit per liter. The figure shown the AST for the healthy group concentrate at a normal AST range. the higher the value of AST shown a more chonic diseases of HCV. "
      ],
      "metadata": {
        "id": "6JxXby0dHjCI"
      }
    },
    {
      "cell_type": "code",
      "source": [
        "sns.kdeplot('BIL', data=Cirrhosis, shade=True, color='red', label='Cirrhosis')\n",
        "sns.kdeplot('BIL', data=healthy, shade=True, color='green', label='Healthy')\n",
        "sns.kdeplot('BIL', data=hepatitis, shade=True, color='purple', label='Hepatitis')\n",
        "sns.kdeplot('BIL', data=Fibrosis, shade=True, color='orange', label='Fibrosis')\n",
        "plt.legend(labels=[\"Cirrhosis\",\"Healthy\",\"Hepatitis\",\"Fibrosis\"],prop={'size': 16})\n",
        "plt.title('BIL',size=16)"
      ],
      "metadata": {
        "id": "e2q2hn5oTyAJ",
        "colab": {
          "base_uri": "https://localhost:8080/",
          "height": 315
        },
        "outputId": "de3113ea-a219-447b-f6da-3ece4deaff1d"
      },
      "execution_count": 26,
      "outputs": [
        {
          "output_type": "execute_result",
          "data": {
            "text/plain": [
              "Text(0.5, 1.0, 'BIL')"
            ]
          },
          "metadata": {},
          "execution_count": 26
        },
        {
          "output_type": "display_data",
          "data": {
            "text/plain": [
              "<Figure size 432x288 with 1 Axes>"
            ],
            "image/png": "[encoded data removed]"
          },
          "metadata": {
            "needs_background": "light"
          }
        }
      ]
    },
    {
      "cell_type": "markdown",
      "source": [
        "The figure shows the distribution of bilirubin (BIL) is similar among the 4 categories. We may assume that there is no difference in the level of bilirubin among these 4 categories. To prove this assumption, a Kruskal Wallis test is selected to test the dependency of creatine with the level of liver health.\n",
        "```\n",
        "H0: The median of the level of bilirubin for 4 category are the same\n",
        "H1: At least one of the 4 category of different median of the level of bilirubin\n",
        "```"
      ],
      "metadata": {
        "id": "7KUZU_gDLSvE"
      }
    },
    {
      "cell_type": "code",
      "source": [
        "from scipy import stats\n",
        "kruskalStatistic,p_value=stats.kruskal(healthy['BIL'], hepatitis['BIL'],Fibrosis['BIL'],Cirrhosis['BIL'])\n",
        "if p_value<0.01:\n",
        "  decision=\"reject H0\"\n",
        "else:\n",
        "  decision=\"fail to reject H0\"\n",
        "test_result={\"Statistics\":kruskalStatistic,\"p-value\":round(p_value,5),\"Decisions\":decision}\n",
        "print(pd.Series(test_result))"
      ],
      "metadata": {
        "id": "-_Ty9v6LaRsT",
        "colab": {
          "base_uri": "https://localhost:8080/"
        },
        "outputId": "1aaa90c2-b19a-4d0f-b80e-1d3c9d32b5dc"
      },
      "execution_count": 27,
      "outputs": [
        {
          "output_type": "stream",
          "name": "stdout",
          "text": [
            "Statistics    94.561523\n",
            "p-value             0.0\n",
            "Decisions     reject H0\n",
            "dtype: object\n"
          ]
        }
      ]
    },
    {
      "cell_type": "code",
      "source": [
        "sns.kdeplot('CHE', data=Cirrhosis, shade=True, color='red', label='Cirrhosis')\n",
        "sns.kdeplot('CHE', data=healthy, shade=True, color='green', label='Healthy')\n",
        "sns.kdeplot('CHE', data=hepatitis, shade=True, color='purple', label='Hepatitis')\n",
        "sns.kdeplot('CHE', data=Fibrosis, shade=True, color='orange', label='Fibrosis')\n",
        "plt.legend(labels=[\"Cirrhosis\",\"Healthy\",\"Hepatitis\",\"Fibrosis\"],prop={'size': 16})\n",
        "plt.title('CHE',size=16)"
      ],
      "metadata": {
        "id": "C236xzhdUMDt",
        "colab": {
          "base_uri": "https://localhost:8080/",
          "height": 315
        },
        "outputId": "62c7b0ca-bb6f-4e30-9031-b16e6a5a093e"
      },
      "execution_count": 28,
      "outputs": [
        {
          "output_type": "execute_result",
          "data": {
            "text/plain": [
              "Text(0.5, 1.0, 'CHE')"
            ]
          },
          "metadata": {},
          "execution_count": 28
        },
        {
          "output_type": "display_data",
          "data": {
            "text/plain": [
              "<Figure size 432x288 with 1 Axes>"
            ],
            "image/png": "[encoded data removed]"
          },
          "metadata": {
            "needs_background": "light"
          }
        }
      ]
    },
    {
      "cell_type": "markdown",
      "source": [
        "The figrue shows cirrhosis has a very low level of Cholinesterase. the cholinesterase is very sensitive towards chronic level damage and is effectively used as a biomakers to diagnose the HCV diseases (Salama et al., 2019)."
      ],
      "metadata": {
        "id": "-nDuH4HgNd2-"
      }
    },
    {
      "cell_type": "code",
      "source": [
        "sns.kdeplot('CHOL', data=Cirrhosis, shade=True, color='red', label='Cirrhosis')\n",
        "sns.kdeplot('CHOL', data=healthy, shade=True, color='green', label='Healthy')\n",
        "sns.kdeplot('CHOL', data=hepatitis, shade=True, color='purple', label='Hepatitis')\n",
        "sns.kdeplot('CHOL', data=Fibrosis, shade=True, color='orange', label='Fibrosis')\n",
        "plt.legend(labels=[\"Cirrhosis\",\"Healthy\",\"Hepatitis\",\"Fibrosis\"],prop={'size': 16})\n",
        "plt.title('CHOL',size=16)"
      ],
      "metadata": {
        "id": "6-GIsqoOUNSs",
        "colab": {
          "base_uri": "https://localhost:8080/",
          "height": 315
        },
        "outputId": "a164572b-ef04-4654-9f84-410ffdfdfc89"
      },
      "execution_count": 29,
      "outputs": [
        {
          "output_type": "execute_result",
          "data": {
            "text/plain": [
              "Text(0.5, 1.0, 'CHOL')"
            ]
          },
          "metadata": {},
          "execution_count": 29
        },
        {
          "output_type": "display_data",
          "data": {
            "text/plain": [
              "<Figure size 432x288 with 1 Axes>"
            ],
            "image/png": "[encoded data removed]"
          },
          "metadata": {
            "needs_background": "light"
          }
        }
      ]
    },
    {
      "cell_type": "markdown",
      "source": [
        "The distribution show that HCV patients has lower cholesterol level."
      ],
      "metadata": {
        "id": "POFNC3bdPTLB"
      }
    },
    {
      "cell_type": "code",
      "source": [
        "sns.kdeplot('CREA', data=Cirrhosis, shade=True, color='red', label='Cirrhosis')\n",
        "sns.kdeplot('CREA', data=healthy, shade=True, color='green', label='Healthy')\n",
        "sns.kdeplot('CREA', data=hepatitis, shade=True, color='purple', label='Hepatitis')\n",
        "sns.kdeplot('CREA', data=Fibrosis, shade=True, color='orange', label='Fibrosis')\n",
        "plt.legend(labels=[\"Cirrhosis\",\"Healthy\",\"Hepatitis\",\"Fibrosis\"],prop={'size': 16})\n",
        "plt.title('CREA',size=16)"
      ],
      "metadata": {
        "id": "OQ5-BkL7UNjF",
        "colab": {
          "base_uri": "https://localhost:8080/",
          "height": 315
        },
        "outputId": "47d920f5-e376-45fb-9e98-9e661ba46923"
      },
      "execution_count": 30,
      "outputs": [
        {
          "output_type": "execute_result",
          "data": {
            "text/plain": [
              "Text(0.5, 1.0, 'CREA')"
            ]
          },
          "metadata": {},
          "execution_count": 30
        },
        {
          "output_type": "display_data",
          "data": {
            "text/plain": [
              "<Figure size 432x288 with 1 Axes>"
            ],
            "image/png": "[encoded data removed]"
          },
          "metadata": {
            "needs_background": "light"
          }
        }
      ]
    },
    {
      "cell_type": "markdown",
      "source": [
        "from the figure, we can observe the distribution for 4 lever of liver are similar. We may concluded that creatime (CREA) level may not associate with the liver problems. To prove this statement, a kruskal wallis test is selected to test the dependency of creatime with the level of liver health.\n",
        "```\n",
        "H0: The median of the level of creatime for 4 category are the same\n",
        "H1: At least one of the 4 category of different median of the level of creatime\n",
        "```"
      ],
      "metadata": {
        "id": "v1DaV2giPfNi"
      }
    },
    {
      "cell_type": "code",
      "source": [
        "from scipy import stats\n",
        "kruskalStatistic,p_value=stats.kruskal(healthy['CREA'], hepatitis['CREA'],Fibrosis['CREA'],Cirrhosis['CREA'])\n",
        "if p_value<0.01:\n",
        "  decision=\"reject H0\"\n",
        "else:\n",
        "  decision=\"fail to reject H0\"\n",
        "test_result={\"Statistics\":kruskalStatistic,\"p-value\":round(p_value,5),\"Decisions\":decision}\n",
        "print(pd.Series(test_result))"
      ],
      "metadata": {
        "id": "QZpzh_0o4eva",
        "colab": {
          "base_uri": "https://localhost:8080/"
        },
        "outputId": "a6ede331-34bb-49ed-943f-c967cbbc6e56"
      },
      "execution_count": 31,
      "outputs": [
        {
          "output_type": "stream",
          "name": "stdout",
          "text": [
            "Statistics             9.487463\n",
            "p-value                 0.02347\n",
            "Decisions     fail to reject H0\n",
            "dtype: object\n"
          ]
        }
      ]
    },
    {
      "cell_type": "markdown",
      "source": [
        "from the result, H0 is failed to rejected. Therefore, we can conclude that we are 99% confidence that the 4 distribution does not have significant different."
      ],
      "metadata": {
        "id": "kNKcJ2YEQsrN"
      }
    },
    {
      "cell_type": "code",
      "source": [
        "sns.kdeplot('GGT', data=Cirrhosis, shade=True, color='red', label='Cirrhosis')\n",
        "sns.kdeplot('GGT', data=healthy, shade=True, color='green', label='Healthy')\n",
        "sns.kdeplot('GGT', data=hepatitis, shade=True, color='purple', label='Hepatitis')\n",
        "sns.kdeplot('GGT', data=Fibrosis, shade=True, color='orange', label='Fibrosis')\n",
        "plt.legend(labels=[\"Cirrhosis\",\"Healthy\",\"Hepatitis\",\"Fibrosis\"],prop={'size': 16})\n",
        "plt.title('GGT',size=16)\n"
      ],
      "metadata": {
        "id": "XUBJ64B2UNu6",
        "colab": {
          "base_uri": "https://localhost:8080/",
          "height": 315
        },
        "outputId": "9d0f0813-628e-46c8-880c-ac1cb902833b"
      },
      "execution_count": 32,
      "outputs": [
        {
          "output_type": "execute_result",
          "data": {
            "text/plain": [
              "Text(0.5, 1.0, 'GGT')"
            ]
          },
          "metadata": {},
          "execution_count": 32
        },
        {
          "output_type": "display_data",
          "data": {
            "text/plain": [
              "<Figure size 432x288 with 1 Axes>"
            ],
            "image/png": "[encoded data removed]"
          },
          "metadata": {
            "needs_background": "light"
          }
        }
      ]
    },
    {
      "cell_type": "markdown",
      "source": [
        "Based on the figure, HCV patients have higher level of GGT. This findings align with the statement from Cleveland Chinic (n. d.) which mention that the higher the value of GGT in blood test, means the higher severity of the liver damage. Therefore, healthcare most often apply GGT blood test to assists the diagnosis of liver diseases."
      ],
      "metadata": {
        "id": "7_I8A5HtRBrg"
      }
    },
    {
      "cell_type": "code",
      "source": [
        "sns.kdeplot('PROT', data=Cirrhosis, shade=True, color='red', label='Cirrhosis')\n",
        "sns.kdeplot('PROT', data=healthy, shade=True, color='green', label='Healthy')\n",
        "sns.kdeplot('PROT', data=hepatitis, shade=True, color='purple', label='Hepatitis')\n",
        "sns.kdeplot('PROT', data=Fibrosis, shade=True, color='orange', label='Fibrosis')\n",
        "plt.legend(labels=[\"Cirrhosis\",\"Healthy\",\"Hepatitis\",\"Fibrosis\"],prop={'size': 16})\n",
        "plt.title('PROT',size=16)"
      ],
      "metadata": {
        "id": "kRO5dNqhUN8P",
        "colab": {
          "base_uri": "https://localhost:8080/",
          "height": 315
        },
        "outputId": "27d359d9-b775-4037-bd3c-e22bba8f63b7"
      },
      "execution_count": 33,
      "outputs": [
        {
          "output_type": "execute_result",
          "data": {
            "text/plain": [
              "Text(0.5, 1.0, 'PROT')"
            ]
          },
          "metadata": {},
          "execution_count": 33
        },
        {
          "output_type": "display_data",
          "data": {
            "text/plain": [
              "<Figure size 432x288 with 1 Axes>"
            ],
            "image/png": "[encoded data removed]"
          },
          "metadata": {
            "needs_background": "light"
          }
        }
      ]
    },
    {
      "cell_type": "markdown",
      "source": [
        "The figure shows the from the figure, we can observe the distribution for 4 lever of liver are similar. We may concluded that protein level may not associate with the liver problems. To prove this statement, a kruskal wallis test is selected to test the dependency of protein with the level of liver health.\n",
        "```\n",
        "H0: The median of the level of protein for 4 category are the same\n",
        "H1: At least one of the 4 category of different median of the level of protein\n",
        "```"
      ],
      "metadata": {
        "id": "jT2S5r-CTtsn"
      }
    },
    {
      "cell_type": "code",
      "source": [
        "from scipy import stats\n",
        "kruskalStatistic,p_value=stats.kruskal(healthy['PROT'], hepatitis['PROT'],Fibrosis['PROT'],Cirrhosis['PROT'])\n",
        "if p_value<0.01:\n",
        "  decision=\"reject H0\"\n",
        "else:\n",
        "  decision=\"fail to reject H0\"\n",
        "test_result={\"Statistics\":kruskalStatistic,\"p-value\":round(p_value,5),\"Decisions\":decision}\n",
        "print(pd.Series(test_result))"
      ],
      "metadata": {
        "id": "TyeAEmqbUBdq",
        "colab": {
          "base_uri": "https://localhost:8080/"
        },
        "outputId": "8176b287-1e08-4416-f756-844fba3a97a6"
      },
      "execution_count": 34,
      "outputs": [
        {
          "output_type": "stream",
          "name": "stdout",
          "text": [
            "Statistics    17.548341\n",
            "p-value         0.00055\n",
            "Decisions     reject H0\n",
            "dtype: object\n"
          ]
        }
      ]
    },
    {
      "cell_type": "markdown",
      "source": [
        "Since the H0 is rejected. We may rejected out assumption that the distribution of protein level for 4 category are similar. There is at least one category have a higher or lower value of protein."
      ],
      "metadata": {
        "id": "Ol6uJ44GUPzF"
      }
    },
    {
      "cell_type": "code",
      "source": [
        "ax=sns.countplot(x=dataset['Category'],hue=dataset['Sex'])\n",
        "ax.set_xticklabels(['Healthy','Hepatitis','Fibrosis','Cirrhosis'],size=16)\n",
        "plt.legend(labels=['Male','Female'])\n",
        "plt.title('Sex',size=16)"
      ],
      "metadata": {
        "id": "mWpXcpXRatSL",
        "colab": {
          "base_uri": "https://localhost:8080/",
          "height": 320
        },
        "outputId": "438f56fa-8b62-4ac7-914c-2838552ed704"
      },
      "execution_count": 35,
      "outputs": [
        {
          "output_type": "execute_result",
          "data": {
            "text/plain": [
              "Text(0.5, 1.0, 'Sex')"
            ]
          },
          "metadata": {},
          "execution_count": 35
        },
        {
          "output_type": "display_data",
          "data": {
            "text/plain": [
              "<Figure size 432x288 with 1 Axes>"
            ],
            "image/png": "[encoded data removed]"
          },
          "metadata": {
            "needs_background": "light"
          }
        }
      ]
    },
    {
      "cell_type": "markdown",
      "source": [
        "Chi-Square Test is implemented to identify the dependency of the two categorical attributes, Category and Sex. \n",
        "```\n",
        "H0: The Sex is not associate with the HCV Category\n",
        "H1: The Sex is associate with the HCV Category\n",
        "```"
      ],
      "metadata": {
        "id": "npNtakdaXrYB"
      }
    },
    {
      "cell_type": "code",
      "source": [
        "from scipy.stats import chi2_contingency\n",
        "#dataset.Category1 = dataset.Category.map({0:0,1:1,2:1,3:1})\n",
        "ct_table=pd.crosstab(dataset.Category,dataset.Sex)\n",
        "chi2, p, dof, ex = chi2_contingency(ct_table)\n",
        "if p<0.01:\n",
        "  decision=\"reject H0\"\n",
        "else:\n",
        "  decision=\"fail to reject H0\"\n",
        "print(f\"chi2 statistic:     {chi2:.5g}\")\n",
        "print(f\"p-value:            {p:.5g}\")\n",
        "print(f\"degrees of freedom: {dof}\")\n",
        "print(f\"decision: {decision}\")"
      ],
      "metadata": {
        "id": "frmiBxarUV9x",
        "colab": {
          "base_uri": "https://localhost:8080/"
        },
        "outputId": "23bbfc5a-5fd6-4e44-c351-3e3a2f5810f6"
      },
      "execution_count": 36,
      "outputs": [
        {
          "output_type": "stream",
          "name": "stdout",
          "text": [
            "chi2 statistic:     5.6635\n",
            "p-value:            0.12918\n",
            "degrees of freedom: 3\n",
            "decision: fail to reject H0\n"
          ]
        }
      ]
    },
    {
      "cell_type": "markdown",
      "source": [
        "The result showed a statistics of 5.6635 and p-value of 0.13. Since the p-value is greater than the signifiant level, 0.01, H0 is failed to reject. Therefore, the result shown that the Sex for 4 category is independent and not infuence each other."
      ],
      "metadata": {
        "id": "aHKnlBh9X7Uj"
      }
    },
    {
      "cell_type": "markdown",
      "source": [
        "##Correlation Matrix\n",
        "correlation matrix is plot to identified the relationship between the attributes and the target features.  multicollinearity exist when the the relationship attribute is higher than 0.8. The multicollinearity attribute will effect the accuracy of the modeling. therefore, it should excute from the modeling."
      ],
      "metadata": {
        "id": "5Tcv0bmO9H8K"
      }
    },
    {
      "cell_type": "markdown",
      "source": [
        "###Spearman Coefficient Correlation Table"
      ],
      "metadata": {
        "id": "qLcnqZiLci1o"
      }
    },
    {
      "cell_type": "code",
      "source": [
        "corr=dataset.corr(method=\"spearman\")\n",
        "corr"
      ],
      "metadata": {
        "id": "XykqQW2iY_5l",
        "colab": {
          "base_uri": "https://localhost:8080/",
          "height": 457
        },
        "outputId": "a8100425-48e5-4fa6-f3ea-e13bfb276254"
      },
      "execution_count": 37,
      "outputs": [
        {
          "output_type": "execute_result",
          "data": {
            "text/plain": [
              "          Category       Age       Sex       ALB       ALP       ALT  \\\n",
              "Category  1.000000  0.061192  0.068209 -0.160019 -0.160642 -0.123037   \n",
              "Age       0.061192  1.000000 -0.037524 -0.160095  0.175817 -0.045209   \n",
              "Sex       0.068209 -0.037524  1.000000  0.212574  0.026280  0.312643   \n",
              "ALB      -0.160019 -0.160095  0.212574  1.000000 -0.052620  0.181885   \n",
              "ALP      -0.160642  0.175817  0.026280 -0.052620  1.000000  0.203934   \n",
              "ALT      -0.123037 -0.045209  0.312643  0.181885  0.203934  1.000000   \n",
              "AST       0.502029  0.086856  0.311695  0.026519  0.052964  0.496456   \n",
              "BIL       0.386236 -0.004857  0.258432  0.102400 -0.077833  0.140599   \n",
              "CHE      -0.175036 -0.052759  0.196976  0.326920  0.126417  0.328030   \n",
              "CHOL     -0.273704  0.170779 -0.032814  0.138732  0.147295  0.165892   \n",
              "CREA     -0.119426 -0.048174  0.502597  0.242816  0.051317  0.297449   \n",
              "GGT       0.409066  0.100378  0.312013  0.032285  0.149642  0.418904   \n",
              "PROT      0.074523 -0.100728  0.087227  0.512178  0.020887  0.217836   \n",
              "\n",
              "               AST       BIL       CHE      CHOL      CREA       GGT      PROT  \n",
              "Category  0.502029  0.386236 -0.175036 -0.273704 -0.119426  0.409066  0.074523  \n",
              "Age       0.086856 -0.004857 -0.052759  0.170779 -0.048174  0.100378 -0.100728  \n",
              "Sex       0.311695  0.258432  0.196976 -0.032814  0.502597  0.312013  0.087227  \n",
              "ALB       0.026519  0.102400  0.326920  0.138732  0.242816  0.032285  0.512178  \n",
              "ALP       0.052964 -0.077833  0.126417  0.147295  0.051317  0.149642  0.020887  \n",
              "ALT       0.496456  0.140599  0.328030  0.165892  0.297449  0.418904  0.217836  \n",
              "AST       1.000000  0.356030  0.101771 -0.061021  0.163123  0.505379  0.170771  \n",
              "BIL       0.356030  1.000000 -0.067887 -0.115163  0.189692  0.247291  0.143776  \n",
              "CHE       0.101771 -0.067887  1.000000  0.396473  0.209800  0.155852  0.292684  \n",
              "CHOL     -0.061021 -0.115163  0.396473  1.000000  0.069052  0.063495  0.155040  \n",
              "CREA      0.163123  0.189692  0.209800  0.069052  1.000000  0.147695  0.132169  \n",
              "GGT       0.505379  0.247291  0.155852  0.063495  0.147695  1.000000  0.183637  \n",
              "PROT      0.170771  0.143776  0.292684  0.155040  0.132169  0.183637  1.000000  "
            ],
            "text/html": [
              "\n",
              "  <div id=\"df-5cc403ca-f7e9-4891-9c5b-3b96e618552e\">\n",
              "    <div class=\"colab-df-container\">\n",
              "      <div>\n",
              "<style scoped>\n",
              "    .dataframe tbody tr th:only-of-type {\n",
              "        vertical-align: middle;\n",
              "    }\n",
              "\n",
              "    .dataframe tbody tr th {\n",
              "        vertical-align: top;\n",
              "    }\n",
              "\n",
              "    .dataframe thead th {\n",
              "        text-align: right;\n",
              "    }\n",
              "</style>\n",
              "<table border=\"1\" class=\"dataframe\">\n",
              "  <thead>\n",
              "    <tr style=\"text-align: right;\">\n",
              "      <th></th>\n",
              "      <th>Category</th>\n",
              "      <th>Age</th>\n",
              "      <th>Sex</th>\n",
              "      <th>ALB</th>\n",
              "      <th>ALP</th>\n",
              "      <th>ALT</th>\n",
              "      <th>AST</th>\n",
              "      <th>BIL</th>\n",
              "      <th>CHE</th>\n",
              "      <th>CHOL</th>\n",
              "      <th>CREA</th>\n",
              "      <th>GGT</th>\n",
              "      <th>PROT</th>\n",
              "    </tr>\n",
              "  </thead>\n",
              "  <tbody>\n",
              "    <tr>\n",
              "      <th>Category</th>\n",
              "      <td>1.000000</td>\n",
              "      <td>0.061192</td>\n",
              "      <td>0.068209</td>\n",
              "      <td>-0.160019</td>\n",
              "      <td>-0.160642</td>\n",
              "      <td>-0.123037</td>\n",
              "      <td>0.502029</td>\n",
              "      <td>0.386236</td>\n",
              "      <td>-0.175036</td>\n",
              "      <td>-0.273704</td>\n",
              "      <td>-0.119426</td>\n",
              "      <td>0.409066</td>\n",
              "      <td>0.074523</td>\n",
              "    </tr>\n",
              "    <tr>\n",
              "      <th>Age</th>\n",
              "      <td>0.061192</td>\n",
              "      <td>1.000000</td>\n",
              "      <td>-0.037524</td>\n",
              "      <td>-0.160095</td>\n",
              "      <td>0.175817</td>\n",
              "      <td>-0.045209</td>\n",
              "      <td>0.086856</td>\n",
              "      <td>-0.004857</td>\n",
              "      <td>-0.052759</td>\n",
              "      <td>0.170779</td>\n",
              "      <td>-0.048174</td>\n",
              "      <td>0.100378</td>\n",
              "      <td>-0.100728</td>\n",
              "    </tr>\n",
              "    <tr>\n",
              "      <th>Sex</th>\n",
              "      <td>0.068209</td>\n",
              "      <td>-0.037524</td>\n",
              "      <td>1.000000</td>\n",
              "      <td>0.212574</td>\n",
              "      <td>0.026280</td>\n",
              "      <td>0.312643</td>\n",
              "      <td>0.311695</td>\n",
              "      <td>0.258432</td>\n",
              "      <td>0.196976</td>\n",
              "      <td>-0.032814</td>\n",
              "      <td>0.502597</td>\n",
              "      <td>0.312013</td>\n",
              "      <td>0.087227</td>\n",
              "    </tr>\n",
              "    <tr>\n",
              "      <th>ALB</th>\n",
              "      <td>-0.160019</td>\n",
              "      <td>-0.160095</td>\n",
              "      <td>0.212574</td>\n",
              "      <td>1.000000</td>\n",
              "      <td>-0.052620</td>\n",
              "      <td>0.181885</td>\n",
              "      <td>0.026519</td>\n",
              "      <td>0.102400</td>\n",
              "      <td>0.326920</td>\n",
              "      <td>0.138732</td>\n",
              "      <td>0.242816</td>\n",
              "      <td>0.032285</td>\n",
              "      <td>0.512178</td>\n",
              "    </tr>\n",
              "    <tr>\n",
              "      <th>ALP</th>\n",
              "      <td>-0.160642</td>\n",
              "      <td>0.175817</td>\n",
              "      <td>0.026280</td>\n",
              "      <td>-0.052620</td>\n",
              "      <td>1.000000</td>\n",
              "      <td>0.203934</td>\n",
              "      <td>0.052964</td>\n",
              "      <td>-0.077833</td>\n",
              "      <td>0.126417</td>\n",
              "      <td>0.147295</td>\n",
              "      <td>0.051317</td>\n",
              "      <td>0.149642</td>\n",
              "      <td>0.020887</td>\n",
              "    </tr>\n",
              "    <tr>\n",
              "      <th>ALT</th>\n",
              "      <td>-0.123037</td>\n",
              "      <td>-0.045209</td>\n",
              "      <td>0.312643</td>\n",
              "      <td>0.181885</td>\n",
              "      <td>0.203934</td>\n",
              "      <td>1.000000</td>\n",
              "      <td>0.496456</td>\n",
              "      <td>0.140599</td>\n",
              "      <td>0.328030</td>\n",
              "      <td>0.165892</td>\n",
              "      <td>0.297449</td>\n",
              "      <td>0.418904</td>\n",
              "      <td>0.217836</td>\n",
              "    </tr>\n",
              "    <tr>\n",
              "      <th>AST</th>\n",
              "      <td>0.502029</td>\n",
              "      <td>0.086856</td>\n",
              "      <td>0.311695</td>\n",
              "      <td>0.026519</td>\n",
              "      <td>0.052964</td>\n",
              "      <td>0.496456</td>\n",
              "      <td>1.000000</td>\n",
              "      <td>0.356030</td>\n",
              "      <td>0.101771</td>\n",
              "      <td>-0.061021</td>\n",
              "      <td>0.163123</td>\n",
              "      <td>0.505379</td>\n",
              "      <td>0.170771</td>\n",
              "    </tr>\n",
              "    <tr>\n",
              "      <th>BIL</th>\n",
              "      <td>0.386236</td>\n",
              "      <td>-0.004857</td>\n",
              "      <td>0.258432</td>\n",
              "      <td>0.102400</td>\n",
              "      <td>-0.077833</td>\n",
              "      <td>0.140599</td>\n",
              "      <td>0.356030</td>\n",
              "      <td>1.000000</td>\n",
              "      <td>-0.067887</td>\n",
              "      <td>-0.115163</td>\n",
              "      <td>0.189692</td>\n",
              "      <td>0.247291</td>\n",
              "      <td>0.143776</td>\n",
              "    </tr>\n",
              "    <tr>\n",
              "      <th>CHE</th>\n",
              "      <td>-0.175036</td>\n",
              "      <td>-0.052759</td>\n",
              "      <td>0.196976</td>\n",
              "      <td>0.326920</td>\n",
              "      <td>0.126417</td>\n",
              "      <td>0.328030</td>\n",
              "      <td>0.101771</td>\n",
              "      <td>-0.067887</td>\n",
              "      <td>1.000000</td>\n",
              "      <td>0.396473</td>\n",
              "      <td>0.209800</td>\n",
              "      <td>0.155852</td>\n",
              "      <td>0.292684</td>\n",
              "    </tr>\n",
              "    <tr>\n",
              "      <th>CHOL</th>\n",
              "      <td>-0.273704</td>\n",
              "      <td>0.170779</td>\n",
              "      <td>-0.032814</td>\n",
              "      <td>0.138732</td>\n",
              "      <td>0.147295</td>\n",
              "      <td>0.165892</td>\n",
              "      <td>-0.061021</td>\n",
              "      <td>-0.115163</td>\n",
              "      <td>0.396473</td>\n",
              "      <td>1.000000</td>\n",
              "      <td>0.069052</td>\n",
              "      <td>0.063495</td>\n",
              "      <td>0.155040</td>\n",
              "    </tr>\n",
              "    <tr>\n",
              "      <th>CREA</th>\n",
              "      <td>-0.119426</td>\n",
              "      <td>-0.048174</td>\n",
              "      <td>0.502597</td>\n",
              "      <td>0.242816</td>\n",
              "      <td>0.051317</td>\n",
              "      <td>0.297449</td>\n",
              "      <td>0.163123</td>\n",
              "      <td>0.189692</td>\n",
              "      <td>0.209800</td>\n",
              "      <td>0.069052</td>\n",
              "      <td>1.000000</td>\n",
              "      <td>0.147695</td>\n",
              "      <td>0.132169</td>\n",
              "    </tr>\n",
              "    <tr>\n",
              "      <th>GGT</th>\n",
              "      <td>0.409066</td>\n",
              "      <td>0.100378</td>\n",
              "      <td>0.312013</td>\n",
              "      <td>0.032285</td>\n",
              "      <td>0.149642</td>\n",
              "      <td>0.418904</td>\n",
              "      <td>0.505379</td>\n",
              "      <td>0.247291</td>\n",
              "      <td>0.155852</td>\n",
              "      <td>0.063495</td>\n",
              "      <td>0.147695</td>\n",
              "      <td>1.000000</td>\n",
              "      <td>0.183637</td>\n",
              "    </tr>\n",
              "    <tr>\n",
              "      <th>PROT</th>\n",
              "      <td>0.074523</td>\n",
              "      <td>-0.100728</td>\n",
              "      <td>0.087227</td>\n",
              "      <td>0.512178</td>\n",
              "      <td>0.020887</td>\n",
              "      <td>0.217836</td>\n",
              "      <td>0.170771</td>\n",
              "      <td>0.143776</td>\n",
              "      <td>0.292684</td>\n",
              "      <td>0.155040</td>\n",
              "      <td>0.132169</td>\n",
              "      <td>0.183637</td>\n",
              "      <td>1.000000</td>\n",
              "    </tr>\n",
              "  </tbody>\n",
              "</table>\n",
              "</div>\n",
              "      <button class=\"colab-df-convert\" onclick=\"convertToInteractive('df-5cc403ca-f7e9-4891-9c5b-3b96e618552e')\"\n",
              "              title=\"Convert this dataframe to an interactive table.\"\n",
              "              style=\"display:none;\">\n",
              "        \n",
              "  <svg xmlns=\"http://www.w3.org/2000/svg\" height=\"24px\"viewBox=\"0 0 24 24\"\n",
              "       width=\"24px\">\n",
              "    <path d=\"M0 0h24v24H0V0z\" fill=\"none\"/>\n",
              "    <path d=\"M18.56 5.44l.94 2.06.94-2.06 2.06-.94-2.06-.94-.94-2.06-.94 2.06-2.06.94zm-11 1L8.5 8.5l.94-2.06 2.06-.94-2.06-.94L8.5 2.5l-.94 2.06-2.06.94zm10 10l.94 2.06.94-2.06 2.06-.94-2.06-.94-.94-2.06-.94 2.06-2.06.94z\"/><path d=\"M17.41 7.96l-1.37-1.37c-.4-.4-.92-.59-1.43-.59-.52 0-1.04.2-1.43.59L10.3 9.45l-7.72 7.72c-.78.78-.78 2.05 0 2.83L4 21.41c.39.39.9.59 1.41.59.51 0 1.02-.2 1.41-.59l7.78-7.78 2.81-2.81c.8-.78.8-2.07 0-2.86zM5.41 20L4 18.59l7.72-7.72 1.47 1.35L5.41 20z\"/>\n",
              "  </svg>\n",
              "      </button>\n",
              "      \n",
              "  <style>\n",
              "    .colab-df-container {\n",
              "      display:flex;\n",
              "      flex-wrap:wrap;\n",
              "      gap: 12px;\n",
              "    }\n",
              "\n",
              "    .colab-df-convert {\n",
              "      background-color: #E8F0FE;\n",
              "      border: none;\n",
              "      border-radius: 50%;\n",
              "      cursor: pointer;\n",
              "      display: none;\n",
              "      fill: #1967D2;\n",
              "      height: 32px;\n",
              "      padding: 0 0 0 0;\n",
              "      width: 32px;\n",
              "    }\n",
              "\n",
              "    .colab-df-convert:hover {\n",
              "      background-color: #E2EBFA;\n",
              "      box-shadow: 0px 1px 2px rgba(60, 64, 67, 0.3), 0px 1px 3px 1px rgba(60, 64, 67, 0.15);\n",
              "      fill: #174EA6;\n",
              "    }\n",
              "\n",
              "    [theme=dark] .colab-df-convert {\n",
              "      background-color: #3B4455;\n",
              "      fill: #D2E3FC;\n",
              "    }\n",
              "\n",
              "    [theme=dark] .colab-df-convert:hover {\n",
              "      background-color: #434B5C;\n",
              "      box-shadow: 0px 1px 3px 1px rgba(0, 0, 0, 0.15);\n",
              "      filter: drop-shadow(0px 1px 2px rgba(0, 0, 0, 0.3));\n",
              "      fill: #FFFFFF;\n",
              "    }\n",
              "  </style>\n",
              "\n",
              "      <script>\n",
              "        const buttonEl =\n",
              "          document.querySelector('#df-5cc403ca-f7e9-4891-9c5b-3b96e618552e button.colab-df-convert');\n",
              "        buttonEl.style.display =\n",
              "          google.colab.kernel.accessAllowed ? 'block' : 'none';\n",
              "\n",
              "        async function convertToInteractive(key) {\n",
              "          const element = document.querySelector('#df-5cc403ca-f7e9-4891-9c5b-3b96e618552e');\n",
              "          const dataTable =\n",
              "            await google.colab.kernel.invokeFunction('convertToInteractive',\n",
              "                                                     [key], {});\n",
              "          if (!dataTable) return;\n",
              "\n",
              "          const docLinkHtml = 'Like what you see? Visit the ' +\n",
              "            '<a target=\"_blank\" href=https://colab.research.google.com/notebooks/data_table.ipynb>data table notebook</a>'\n",
              "            + ' to learn more about interactive tables.';\n",
              "          element.innerHTML = '';\n",
              "          dataTable['output_type'] = 'display_data';\n",
              "          await google.colab.output.renderOutput(dataTable, element);\n",
              "          const docLink = document.createElement('div');\n",
              "          docLink.innerHTML = docLinkHtml;\n",
              "          element.appendChild(docLink);\n",
              "        }\n",
              "      </script>\n",
              "    </div>\n",
              "  </div>\n",
              "  "
            ]
          },
          "metadata": {},
          "execution_count": 37
        }
      ]
    },
    {
      "cell_type": "markdown",
      "source": [
        "###p-value of Spearman Coefficient Correlation Table"
      ],
      "metadata": {
        "id": "j0_OJcIecrJx"
      }
    },
    {
      "cell_type": "code",
      "source": [
        "from scipy.stats import spearmanr\n",
        "dataset.corr(method=lambda x, y: spearmanr(x, y)[1]) - np.eye(len(dataset.columns)) "
      ],
      "metadata": {
        "id": "9LPwSG9j73M0",
        "colab": {
          "base_uri": "https://localhost:8080/",
          "height": 521
        },
        "outputId": "1e9d32c5-f0d4-4440-8702-277670491019"
      },
      "execution_count": 38,
      "outputs": [
        {
          "output_type": "execute_result",
          "data": {
            "text/plain": [
              "              Category       Age           Sex           ALB           ALP  \\\n",
              "Category  0.000000e+00  0.129557  9.101592e-02  6.720171e-05  6.288529e-05   \n",
              "Age       1.295567e-01  0.000000  3.528900e-01  6.666361e-05  1.157368e-05   \n",
              "Sex       9.101592e-02  0.352890  0.000000e+00  1.027002e-07  5.153706e-01   \n",
              "ALB       6.720171e-05  0.000067  1.027002e-07  0.000000e+00  1.925138e-01   \n",
              "ALP       6.288529e-05  0.000012  5.153706e-01  1.925138e-01  0.000000e+00   \n",
              "ALT       2.238333e-03  0.262957  2.065403e-15  5.642989e-06  3.381919e-07   \n",
              "AST       1.413211e-40  0.031268  2.532757e-15  5.115561e-01  1.896205e-01   \n",
              "BIL       2.586918e-23  0.904327  7.681037e-11  1.105505e-02  5.370793e-02   \n",
              "CHE       1.267358e-05  0.191341  8.513136e-07  8.754142e-17  1.682179e-03   \n",
              "CHOL      4.980323e-12  0.000021  4.166030e-01  5.602831e-04  2.469654e-04   \n",
              "CREA      3.014445e-03  0.232891  1.117171e-40  1.054593e-09  2.037714e-01   \n",
              "GGT       3.288085e-26  0.012756  2.365563e-15  4.241589e-01  1.957454e-04   \n",
              "PROT      6.475824e-02  0.012446  3.054962e-02  1.981998e-42  6.051742e-01   \n",
              "\n",
              "                   ALT           AST           BIL           CHE  \\\n",
              "Category  2.238333e-03  1.413211e-40  2.586918e-23  1.267358e-05   \n",
              "Age       2.629567e-01  3.126800e-02  9.043275e-01  1.913415e-01   \n",
              "Sex       2.065403e-15  2.532757e-15  7.681037e-11  8.513136e-07   \n",
              "ALB       5.642989e-06  5.115561e-01  1.105505e-02  8.754142e-17   \n",
              "ALP       3.381919e-07  1.896205e-01  5.370793e-02  1.682179e-03   \n",
              "ALT       0.000000e+00  1.385211e-39  4.704547e-04  6.798533e-17   \n",
              "AST       1.385211e-39  0.000000e+00  8.122812e-20  1.156116e-02   \n",
              "BIL       4.704547e-04  8.122812e-20  0.000000e+00  9.255611e-02   \n",
              "CHE       6.798533e-17  1.156116e-02  9.255611e-02  0.000000e+00   \n",
              "CHOL      3.560605e-05  1.306378e-01  4.240971e-03  1.387070e-24   \n",
              "CREA      4.972334e-14  4.816824e-05  2.161388e-06  1.514119e-07   \n",
              "GGT       1.578246e-27  3.510540e-41  5.069188e-10  1.040756e-04   \n",
              "PROT      4.847160e-08  2.065474e-05  3.477409e-04  1.298188e-13   \n",
              "\n",
              "                  CHOL          CREA           GGT          PROT  \n",
              "Category  4.980323e-12  3.014445e-03  3.288085e-26  6.475824e-02  \n",
              "Age       2.063667e-05  2.328907e-01  1.275595e-02  1.244593e-02  \n",
              "Sex       4.166030e-01  1.117171e-40  2.365563e-15  3.054962e-02  \n",
              "ALB       5.602831e-04  1.054593e-09  4.241589e-01  1.981998e-42  \n",
              "ALP       2.469654e-04  2.037714e-01  1.957454e-04  6.051742e-01  \n",
              "ALT       3.560605e-05  4.972334e-14  1.578246e-27  4.847160e-08  \n",
              "AST       1.306378e-01  4.816824e-05  3.510540e-41  2.065474e-05  \n",
              "BIL       4.240971e-03  2.161388e-06  5.069188e-10  3.477409e-04  \n",
              "CHE       1.387070e-24  1.514119e-07  1.040756e-04  1.298188e-13  \n",
              "CHOL      0.000000e+00  8.708238e-02  1.157149e-01  1.131993e-04  \n",
              "CREA      8.708238e-02  0.000000e+00  2.374327e-04  1.018187e-03  \n",
              "GGT       1.157149e-01  2.374327e-04  0.000000e+00  4.565585e-06  \n",
              "PROT      1.131993e-04  1.018187e-03  4.565585e-06  0.000000e+00  "
            ],
            "text/html": [
              "\n",
              "  <div id=\"df-bb855235-eca0-4300-90e6-5db7e08542f3\">\n",
              "    <div class=\"colab-df-container\">\n",
              "      <div>\n",
              "<style scoped>\n",
              "    .dataframe tbody tr th:only-of-type {\n",
              "        vertical-align: middle;\n",
              "    }\n",
              "\n",
              "    .dataframe tbody tr th {\n",
              "        vertical-align: top;\n",
              "    }\n",
              "\n",
              "    .dataframe thead th {\n",
              "        text-align: right;\n",
              "    }\n",
              "</style>\n",
              "<table border=\"1\" class=\"dataframe\">\n",
              "  <thead>\n",
              "    <tr style=\"text-align: right;\">\n",
              "      <th></th>\n",
              "      <th>Category</th>\n",
              "      <th>Age</th>\n",
              "      <th>Sex</th>\n",
              "      <th>ALB</th>\n",
              "      <th>ALP</th>\n",
              "      <th>ALT</th>\n",
              "      <th>AST</th>\n",
              "      <th>BIL</th>\n",
              "      <th>CHE</th>\n",
              "      <th>CHOL</th>\n",
              "      <th>CREA</th>\n",
              "      <th>GGT</th>\n",
              "      <th>PROT</th>\n",
              "    </tr>\n",
              "  </thead>\n",
              "  <tbody>\n",
              "    <tr>\n",
              "      <th>Category</th>\n",
              "      <td>0.000000e+00</td>\n",
              "      <td>0.129557</td>\n",
              "      <td>9.101592e-02</td>\n",
              "      <td>6.720171e-05</td>\n",
              "      <td>6.288529e-05</td>\n",
              "      <td>2.238333e-03</td>\n",
              "      <td>1.413211e-40</td>\n",
              "      <td>2.586918e-23</td>\n",
              "      <td>1.267358e-05</td>\n",
              "      <td>4.980323e-12</td>\n",
              "      <td>3.014445e-03</td>\n",
              "      <td>3.288085e-26</td>\n",
              "      <td>6.475824e-02</td>\n",
              "    </tr>\n",
              "    <tr>\n",
              "      <th>Age</th>\n",
              "      <td>1.295567e-01</td>\n",
              "      <td>0.000000</td>\n",
              "      <td>3.528900e-01</td>\n",
              "      <td>6.666361e-05</td>\n",
              "      <td>1.157368e-05</td>\n",
              "      <td>2.629567e-01</td>\n",
              "      <td>3.126800e-02</td>\n",
              "      <td>9.043275e-01</td>\n",
              "      <td>1.913415e-01</td>\n",
              "      <td>2.063667e-05</td>\n",
              "      <td>2.328907e-01</td>\n",
              "      <td>1.275595e-02</td>\n",
              "      <td>1.244593e-02</td>\n",
              "    </tr>\n",
              "    <tr>\n",
              "      <th>Sex</th>\n",
              "      <td>9.101592e-02</td>\n",
              "      <td>0.352890</td>\n",
              "      <td>0.000000e+00</td>\n",
              "      <td>1.027002e-07</td>\n",
              "      <td>5.153706e-01</td>\n",
              "      <td>2.065403e-15</td>\n",
              "      <td>2.532757e-15</td>\n",
              "      <td>7.681037e-11</td>\n",
              "      <td>8.513136e-07</td>\n",
              "      <td>4.166030e-01</td>\n",
              "      <td>1.117171e-40</td>\n",
              "      <td>2.365563e-15</td>\n",
              "      <td>3.054962e-02</td>\n",
              "    </tr>\n",
              "    <tr>\n",
              "      <th>ALB</th>\n",
              "      <td>6.720171e-05</td>\n",
              "      <td>0.000067</td>\n",
              "      <td>1.027002e-07</td>\n",
              "      <td>0.000000e+00</td>\n",
              "      <td>1.925138e-01</td>\n",
              "      <td>5.642989e-06</td>\n",
              "      <td>5.115561e-01</td>\n",
              "      <td>1.105505e-02</td>\n",
              "      <td>8.754142e-17</td>\n",
              "      <td>5.602831e-04</td>\n",
              "      <td>1.054593e-09</td>\n",
              "      <td>4.241589e-01</td>\n",
              "      <td>1.981998e-42</td>\n",
              "    </tr>\n",
              "    <tr>\n",
              "      <th>ALP</th>\n",
              "      <td>6.288529e-05</td>\n",
              "      <td>0.000012</td>\n",
              "      <td>5.153706e-01</td>\n",
              "      <td>1.925138e-01</td>\n",
              "      <td>0.000000e+00</td>\n",
              "      <td>3.381919e-07</td>\n",
              "      <td>1.896205e-01</td>\n",
              "      <td>5.370793e-02</td>\n",
              "      <td>1.682179e-03</td>\n",
              "      <td>2.469654e-04</td>\n",
              "      <td>2.037714e-01</td>\n",
              "      <td>1.957454e-04</td>\n",
              "      <td>6.051742e-01</td>\n",
              "    </tr>\n",
              "    <tr>\n",
              "      <th>ALT</th>\n",
              "      <td>2.238333e-03</td>\n",
              "      <td>0.262957</td>\n",
              "      <td>2.065403e-15</td>\n",
              "      <td>5.642989e-06</td>\n",
              "      <td>3.381919e-07</td>\n",
              "      <td>0.000000e+00</td>\n",
              "      <td>1.385211e-39</td>\n",
              "      <td>4.704547e-04</td>\n",
              "      <td>6.798533e-17</td>\n",
              "      <td>3.560605e-05</td>\n",
              "      <td>4.972334e-14</td>\n",
              "      <td>1.578246e-27</td>\n",
              "      <td>4.847160e-08</td>\n",
              "    </tr>\n",
              "    <tr>\n",
              "      <th>AST</th>\n",
              "      <td>1.413211e-40</td>\n",
              "      <td>0.031268</td>\n",
              "      <td>2.532757e-15</td>\n",
              "      <td>5.115561e-01</td>\n",
              "      <td>1.896205e-01</td>\n",
              "      <td>1.385211e-39</td>\n",
              "      <td>0.000000e+00</td>\n",
              "      <td>8.122812e-20</td>\n",
              "      <td>1.156116e-02</td>\n",
              "      <td>1.306378e-01</td>\n",
              "      <td>4.816824e-05</td>\n",
              "      <td>3.510540e-41</td>\n",
              "      <td>2.065474e-05</td>\n",
              "    </tr>\n",
              "    <tr>\n",
              "      <th>BIL</th>\n",
              "      <td>2.586918e-23</td>\n",
              "      <td>0.904327</td>\n",
              "      <td>7.681037e-11</td>\n",
              "      <td>1.105505e-02</td>\n",
              "      <td>5.370793e-02</td>\n",
              "      <td>4.704547e-04</td>\n",
              "      <td>8.122812e-20</td>\n",
              "      <td>0.000000e+00</td>\n",
              "      <td>9.255611e-02</td>\n",
              "      <td>4.240971e-03</td>\n",
              "      <td>2.161388e-06</td>\n",
              "      <td>5.069188e-10</td>\n",
              "      <td>3.477409e-04</td>\n",
              "    </tr>\n",
              "    <tr>\n",
              "      <th>CHE</th>\n",
              "      <td>1.267358e-05</td>\n",
              "      <td>0.191341</td>\n",
              "      <td>8.513136e-07</td>\n",
              "      <td>8.754142e-17</td>\n",
              "      <td>1.682179e-03</td>\n",
              "      <td>6.798533e-17</td>\n",
              "      <td>1.156116e-02</td>\n",
              "      <td>9.255611e-02</td>\n",
              "      <td>0.000000e+00</td>\n",
              "      <td>1.387070e-24</td>\n",
              "      <td>1.514119e-07</td>\n",
              "      <td>1.040756e-04</td>\n",
              "      <td>1.298188e-13</td>\n",
              "    </tr>\n",
              "    <tr>\n",
              "      <th>CHOL</th>\n",
              "      <td>4.980323e-12</td>\n",
              "      <td>0.000021</td>\n",
              "      <td>4.166030e-01</td>\n",
              "      <td>5.602831e-04</td>\n",
              "      <td>2.469654e-04</td>\n",
              "      <td>3.560605e-05</td>\n",
              "      <td>1.306378e-01</td>\n",
              "      <td>4.240971e-03</td>\n",
              "      <td>1.387070e-24</td>\n",
              "      <td>0.000000e+00</td>\n",
              "      <td>8.708238e-02</td>\n",
              "      <td>1.157149e-01</td>\n",
              "      <td>1.131993e-04</td>\n",
              "    </tr>\n",
              "    <tr>\n",
              "      <th>CREA</th>\n",
              "      <td>3.014445e-03</td>\n",
              "      <td>0.232891</td>\n",
              "      <td>1.117171e-40</td>\n",
              "      <td>1.054593e-09</td>\n",
              "      <td>2.037714e-01</td>\n",
              "      <td>4.972334e-14</td>\n",
              "      <td>4.816824e-05</td>\n",
              "      <td>2.161388e-06</td>\n",
              "      <td>1.514119e-07</td>\n",
              "      <td>8.708238e-02</td>\n",
              "      <td>0.000000e+00</td>\n",
              "      <td>2.374327e-04</td>\n",
              "      <td>1.018187e-03</td>\n",
              "    </tr>\n",
              "    <tr>\n",
              "      <th>GGT</th>\n",
              "      <td>3.288085e-26</td>\n",
              "      <td>0.012756</td>\n",
              "      <td>2.365563e-15</td>\n",
              "      <td>4.241589e-01</td>\n",
              "      <td>1.957454e-04</td>\n",
              "      <td>1.578246e-27</td>\n",
              "      <td>3.510540e-41</td>\n",
              "      <td>5.069188e-10</td>\n",
              "      <td>1.040756e-04</td>\n",
              "      <td>1.157149e-01</td>\n",
              "      <td>2.374327e-04</td>\n",
              "      <td>0.000000e+00</td>\n",
              "      <td>4.565585e-06</td>\n",
              "    </tr>\n",
              "    <tr>\n",
              "      <th>PROT</th>\n",
              "      <td>6.475824e-02</td>\n",
              "      <td>0.012446</td>\n",
              "      <td>3.054962e-02</td>\n",
              "      <td>1.981998e-42</td>\n",
              "      <td>6.051742e-01</td>\n",
              "      <td>4.847160e-08</td>\n",
              "      <td>2.065474e-05</td>\n",
              "      <td>3.477409e-04</td>\n",
              "      <td>1.298188e-13</td>\n",
              "      <td>1.131993e-04</td>\n",
              "      <td>1.018187e-03</td>\n",
              "      <td>4.565585e-06</td>\n",
              "      <td>0.000000e+00</td>\n",
              "    </tr>\n",
              "  </tbody>\n",
              "</table>\n",
              "</div>\n",
              "      <button class=\"colab-df-convert\" onclick=\"convertToInteractive('df-bb855235-eca0-4300-90e6-5db7e08542f3')\"\n",
              "              title=\"Convert this dataframe to an interactive table.\"\n",
              "              style=\"display:none;\">\n",
              "        \n",
              "  <svg xmlns=\"http://www.w3.org/2000/svg\" height=\"24px\"viewBox=\"0 0 24 24\"\n",
              "       width=\"24px\">\n",
              "    <path d=\"M0 0h24v24H0V0z\" fill=\"none\"/>\n",
              "    <path d=\"M18.56 5.44l.94 2.06.94-2.06 2.06-.94-2.06-.94-.94-2.06-.94 2.06-2.06.94zm-11 1L8.5 8.5l.94-2.06 2.06-.94-2.06-.94L8.5 2.5l-.94 2.06-2.06.94zm10 10l.94 2.06.94-2.06 2.06-.94-2.06-.94-.94-2.06-.94 2.06-2.06.94z\"/><path d=\"M17.41 7.96l-1.37-1.37c-.4-.4-.92-.59-1.43-.59-.52 0-1.04.2-1.43.59L10.3 9.45l-7.72 7.72c-.78.78-.78 2.05 0 2.83L4 21.41c.39.39.9.59 1.41.59.51 0 1.02-.2 1.41-.59l7.78-7.78 2.81-2.81c.8-.78.8-2.07 0-2.86zM5.41 20L4 18.59l7.72-7.72 1.47 1.35L5.41 20z\"/>\n",
              "  </svg>\n",
              "      </button>\n",
              "      \n",
              "  <style>\n",
              "    .colab-df-container {\n",
              "      display:flex;\n",
              "      flex-wrap:wrap;\n",
              "      gap: 12px;\n",
              "    }\n",
              "\n",
              "    .colab-df-convert {\n",
              "      background-color: #E8F0FE;\n",
              "      border: none;\n",
              "      border-radius: 50%;\n",
              "      cursor: pointer;\n",
              "      display: none;\n",
              "      fill: #1967D2;\n",
              "      height: 32px;\n",
              "      padding: 0 0 0 0;\n",
              "      width: 32px;\n",
              "    }\n",
              "\n",
              "    .colab-df-convert:hover {\n",
              "      background-color: #E2EBFA;\n",
              "      box-shadow: 0px 1px 2px rgba(60, 64, 67, 0.3), 0px 1px 3px 1px rgba(60, 64, 67, 0.15);\n",
              "      fill: #174EA6;\n",
              "    }\n",
              "\n",
              "    [theme=dark] .colab-df-convert {\n",
              "      background-color: #3B4455;\n",
              "      fill: #D2E3FC;\n",
              "    }\n",
              "\n",
              "    [theme=dark] .colab-df-convert:hover {\n",
              "      background-color: #434B5C;\n",
              "      box-shadow: 0px 1px 3px 1px rgba(0, 0, 0, 0.15);\n",
              "      filter: drop-shadow(0px 1px 2px rgba(0, 0, 0, 0.3));\n",
              "      fill: #FFFFFF;\n",
              "    }\n",
              "  </style>\n",
              "\n",
              "      <script>\n",
              "        const buttonEl =\n",
              "          document.querySelector('#df-bb855235-eca0-4300-90e6-5db7e08542f3 button.colab-df-convert');\n",
              "        buttonEl.style.display =\n",
              "          google.colab.kernel.accessAllowed ? 'block' : 'none';\n",
              "\n",
              "        async function convertToInteractive(key) {\n",
              "          const element = document.querySelector('#df-bb855235-eca0-4300-90e6-5db7e08542f3');\n",
              "          const dataTable =\n",
              "            await google.colab.kernel.invokeFunction('convertToInteractive',\n",
              "                                                     [key], {});\n",
              "          if (!dataTable) return;\n",
              "\n",
              "          const docLinkHtml = 'Like what you see? Visit the ' +\n",
              "            '<a target=\"_blank\" href=https://colab.research.google.com/notebooks/data_table.ipynb>data table notebook</a>'\n",
              "            + ' to learn more about interactive tables.';\n",
              "          element.innerHTML = '';\n",
              "          dataTable['output_type'] = 'display_data';\n",
              "          await google.colab.output.renderOutput(dataTable, element);\n",
              "          const docLink = document.createElement('div');\n",
              "          docLink.innerHTML = docLinkHtml;\n",
              "          element.appendChild(docLink);\n",
              "        }\n",
              "      </script>\n",
              "    </div>\n",
              "  </div>\n",
              "  "
            ]
          },
          "metadata": {},
          "execution_count": 38
        }
      ]
    },
    {
      "cell_type": "markdown",
      "source": [
        "###Spearman Correlation Coefficient Heatmap"
      ],
      "metadata": {
        "id": "f3wyO31rcwsg"
      }
    },
    {
      "cell_type": "code",
      "source": [
        "f,ax=plt.subplots(figsize=(15,15))\n",
        "sns.heatmap(corr,annot=True,linewidth=5,fmt='.1f',ax=ax)\n",
        "plt.savefig(\"heatplot.png\")\n",
        "plt.show()"
      ],
      "metadata": {
        "id": "IZMSs6xcZwSx",
        "colab": {
          "base_uri": "https://localhost:8080/",
          "height": 867
        },
        "outputId": "40958dba-0c65-40f4-a7ea-97dc01b8ec8b"
      },
      "execution_count": 39,
      "outputs": [
        {
          "output_type": "display_data",
          "data": {
            "text/plain": [
              "<Figure size 1080x1080 with 2 Axes>"
            ],
            "image/png": "[encoded data removed]"
          },
          "metadata": {
            "needs_background": "light"
          }
        }
      ]
    },
    {
      "cell_type": "markdown",
      "source": [
        "from the correlation table and correlation matrix. there is no multicollinearity exist in this dataset."
      ],
      "metadata": {
        "id": "hDealKHdmqDw"
      }
    },
    {
      "cell_type": "markdown",
      "source": [
        "Comparison of each attribute among different HCV categories is carried out, the findings showed that all attributes are dependent towards category except for the CREA and Sex attributes. The Spearman correlation also shows that Age, Sex and PROT have no relationship towards the category attributes. Therefore, we conclude that Age, Sex, CREA and PROT attributes are not the main attributes that contribute to the result of the prediction of HCV. Therefore, Age, Sex, CREA and PROT are excluded from the dataset for modelling purpose."
      ],
      "metadata": {
        "id": "JFT1BXtrm6TU"
      }
    },
    {
      "cell_type": "markdown",
      "source": [
        "#Modeling"
      ],
      "metadata": {
        "id": "T-A0DgbTXuMb"
      }
    },
    {
      "cell_type": "code",
      "source": [
        "# 0 = Healthy; 1 = Hepatitis; 2 = Fibrosis; 3 = Cirrhosis\n",
        "dataset.Category.value_counts()"
      ],
      "metadata": {
        "id": "5Nk1bwjujZ25",
        "colab": {
          "base_uri": "https://localhost:8080/"
        },
        "outputId": "599406ec-5153-409a-e4cd-8f1b0ea81596"
      },
      "execution_count": 40,
      "outputs": [
        {
          "output_type": "execute_result",
          "data": {
            "text/plain": [
              "0    540\n",
              "3     30\n",
              "1     24\n",
              "2     21\n",
              "Name: Category, dtype: int64"
            ]
          },
          "metadata": {},
          "execution_count": 40
        }
      ]
    },
    {
      "cell_type": "markdown",
      "source": [
        "The dataset shows that the category is imbalance"
      ],
      "metadata": {
        "id": "WWKcQqlS0iZU"
      }
    },
    {
      "cell_type": "code",
      "source": [
        "# select features ALB, ALP, AST, BIL, CHE, CHOL and GGT as X into the model\n",
        "# Select category as target features y\n",
        "dataset_feature = ['ALB','ALP','ALT','AST','BIL','CHE','CHOL','GGT']\n",
        "\n",
        "X = dataset.loc[:,dataset_feature]\n",
        "y = dataset.Category\n",
        "X.head()"
      ],
      "metadata": {
        "id": "n2P3xSfHlM22",
        "colab": {
          "base_uri": "https://localhost:8080/",
          "height": 206
        },
        "outputId": "05049e02-ec80-4971-953f-58d80c059430"
      },
      "execution_count": 41,
      "outputs": [
        {
          "output_type": "execute_result",
          "data": {
            "text/plain": [
              "    ALB   ALP   ALT   AST   BIL    CHE  CHOL   GGT\n",
              "0  38.5  52.5   7.7  22.1   7.5   6.93  3.23  12.1\n",
              "1  38.5  70.3  18.0  24.7   3.9  11.17  4.80  15.6\n",
              "2  46.9  74.7  36.2  52.6   6.1   8.84  5.20  33.2\n",
              "3  43.2  52.0  30.6  22.6  18.9   7.33  4.74  33.8\n",
              "4  39.2  74.1  32.6  24.8   9.6   9.15  4.32  29.9"
            ],
            "text/html": [
              "\n",
              "  <div id=\"df-c8bbab43-4336-46e2-8778-03b7184a247e\">\n",
              "    <div class=\"colab-df-container\">\n",
              "      <div>\n",
              "<style scoped>\n",
              "    .dataframe tbody tr th:only-of-type {\n",
              "        vertical-align: middle;\n",
              "    }\n",
              "\n",
              "    .dataframe tbody tr th {\n",
              "        vertical-align: top;\n",
              "    }\n",
              "\n",
              "    .dataframe thead th {\n",
              "        text-align: right;\n",
              "    }\n",
              "</style>\n",
              "<table border=\"1\" class=\"dataframe\">\n",
              "  <thead>\n",
              "    <tr style=\"text-align: right;\">\n",
              "      <th></th>\n",
              "      <th>ALB</th>\n",
              "      <th>ALP</th>\n",
              "      <th>ALT</th>\n",
              "      <th>AST</th>\n",
              "      <th>BIL</th>\n",
              "      <th>CHE</th>\n",
              "      <th>CHOL</th>\n",
              "      <th>GGT</th>\n",
              "    </tr>\n",
              "  </thead>\n",
              "  <tbody>\n",
              "    <tr>\n",
              "      <th>0</th>\n",
              "      <td>38.5</td>\n",
              "      <td>52.5</td>\n",
              "      <td>7.7</td>\n",
              "      <td>22.1</td>\n",
              "      <td>7.5</td>\n",
              "      <td>6.93</td>\n",
              "      <td>3.23</td>\n",
              "      <td>12.1</td>\n",
              "    </tr>\n",
              "    <tr>\n",
              "      <th>1</th>\n",
              "      <td>38.5</td>\n",
              "      <td>70.3</td>\n",
              "      <td>18.0</td>\n",
              "      <td>24.7</td>\n",
              "      <td>3.9</td>\n",
              "      <td>11.17</td>\n",
              "      <td>4.80</td>\n",
              "      <td>15.6</td>\n",
              "    </tr>\n",
              "    <tr>\n",
              "      <th>2</th>\n",
              "      <td>46.9</td>\n",
              "      <td>74.7</td>\n",
              "      <td>36.2</td>\n",
              "      <td>52.6</td>\n",
              "      <td>6.1</td>\n",
              "      <td>8.84</td>\n",
              "      <td>5.20</td>\n",
              "      <td>33.2</td>\n",
              "    </tr>\n",
              "    <tr>\n",
              "      <th>3</th>\n",
              "      <td>43.2</td>\n",
              "      <td>52.0</td>\n",
              "      <td>30.6</td>\n",
              "      <td>22.6</td>\n",
              "      <td>18.9</td>\n",
              "      <td>7.33</td>\n",
              "      <td>4.74</td>\n",
              "      <td>33.8</td>\n",
              "    </tr>\n",
              "    <tr>\n",
              "      <th>4</th>\n",
              "      <td>39.2</td>\n",
              "      <td>74.1</td>\n",
              "      <td>32.6</td>\n",
              "      <td>24.8</td>\n",
              "      <td>9.6</td>\n",
              "      <td>9.15</td>\n",
              "      <td>4.32</td>\n",
              "      <td>29.9</td>\n",
              "    </tr>\n",
              "  </tbody>\n",
              "</table>\n",
              "</div>\n",
              "      <button class=\"colab-df-convert\" onclick=\"convertToInteractive('df-c8bbab43-4336-46e2-8778-03b7184a247e')\"\n",
              "              title=\"Convert this dataframe to an interactive table.\"\n",
              "              style=\"display:none;\">\n",
              "        \n",
              "  <svg xmlns=\"http://www.w3.org/2000/svg\" height=\"24px\"viewBox=\"0 0 24 24\"\n",
              "       width=\"24px\">\n",
              "    <path d=\"M0 0h24v24H0V0z\" fill=\"none\"/>\n",
              "    <path d=\"M18.56 5.44l.94 2.06.94-2.06 2.06-.94-2.06-.94-.94-2.06-.94 2.06-2.06.94zm-11 1L8.5 8.5l.94-2.06 2.06-.94-2.06-.94L8.5 2.5l-.94 2.06-2.06.94zm10 10l.94 2.06.94-2.06 2.06-.94-2.06-.94-.94-2.06-.94 2.06-2.06.94z\"/><path d=\"M17.41 7.96l-1.37-1.37c-.4-.4-.92-.59-1.43-.59-.52 0-1.04.2-1.43.59L10.3 9.45l-7.72 7.72c-.78.78-.78 2.05 0 2.83L4 21.41c.39.39.9.59 1.41.59.51 0 1.02-.2 1.41-.59l7.78-7.78 2.81-2.81c.8-.78.8-2.07 0-2.86zM5.41 20L4 18.59l7.72-7.72 1.47 1.35L5.41 20z\"/>\n",
              "  </svg>\n",
              "      </button>\n",
              "      \n",
              "  <style>\n",
              "    .colab-df-container {\n",
              "      display:flex;\n",
              "      flex-wrap:wrap;\n",
              "      gap: 12px;\n",
              "    }\n",
              "\n",
              "    .colab-df-convert {\n",
              "      background-color: #E8F0FE;\n",
              "      border: none;\n",
              "      border-radius: 50%;\n",
              "      cursor: pointer;\n",
              "      display: none;\n",
              "      fill: #1967D2;\n",
              "      height: 32px;\n",
              "      padding: 0 0 0 0;\n",
              "      width: 32px;\n",
              "    }\n",
              "\n",
              "    .colab-df-convert:hover {\n",
              "      background-color: #E2EBFA;\n",
              "      box-shadow: 0px 1px 2px rgba(60, 64, 67, 0.3), 0px 1px 3px 1px rgba(60, 64, 67, 0.15);\n",
              "      fill: #174EA6;\n",
              "    }\n",
              "\n",
              "    [theme=dark] .colab-df-convert {\n",
              "      background-color: #3B4455;\n",
              "      fill: #D2E3FC;\n",
              "    }\n",
              "\n",
              "    [theme=dark] .colab-df-convert:hover {\n",
              "      background-color: #434B5C;\n",
              "      box-shadow: 0px 1px 3px 1px rgba(0, 0, 0, 0.15);\n",
              "      filter: drop-shadow(0px 1px 2px rgba(0, 0, 0, 0.3));\n",
              "      fill: #FFFFFF;\n",
              "    }\n",
              "  </style>\n",
              "\n",
              "      <script>\n",
              "        const buttonEl =\n",
              "          document.querySelector('#df-c8bbab43-4336-46e2-8778-03b7184a247e button.colab-df-convert');\n",
              "        buttonEl.style.display =\n",
              "          google.colab.kernel.accessAllowed ? 'block' : 'none';\n",
              "\n",
              "        async function convertToInteractive(key) {\n",
              "          const element = document.querySelector('#df-c8bbab43-4336-46e2-8778-03b7184a247e');\n",
              "          const dataTable =\n",
              "            await google.colab.kernel.invokeFunction('convertToInteractive',\n",
              "                                                     [key], {});\n",
              "          if (!dataTable) return;\n",
              "\n",
              "          const docLinkHtml = 'Like what you see? Visit the ' +\n",
              "            '<a target=\"_blank\" href=https://colab.research.google.com/notebooks/data_table.ipynb>data table notebook</a>'\n",
              "            + ' to learn more about interactive tables.';\n",
              "          element.innerHTML = '';\n",
              "          dataTable['output_type'] = 'display_data';\n",
              "          await google.colab.output.renderOutput(dataTable, element);\n",
              "          const docLink = document.createElement('div');\n",
              "          docLink.innerHTML = docLinkHtml;\n",
              "          element.appendChild(docLink);\n",
              "        }\n",
              "      </script>\n",
              "    </div>\n",
              "  </div>\n",
              "  "
            ]
          },
          "metadata": {},
          "execution_count": 41
        }
      ]
    },
    {
      "cell_type": "code",
      "source": [
        "#split the data into train and test with portion 70,30\n",
        "from sklearn.model_selection import train_test_split\n",
        "X_train,X_test, y_train,y_test = train_test_split(X,y,test_size=0.3,random_state=10)"
      ],
      "metadata": {
        "id": "_VRelSTi2AGM"
      },
      "execution_count": 42,
      "outputs": []
    },
    {
      "cell_type": "markdown",
      "source": [
        "##KNN"
      ],
      "metadata": {
        "id": "eQ2joZKpYT2R"
      }
    },
    {
      "cell_type": "code",
      "source": [
        "#Train dataset into KNN model\n",
        "from sklearn.neighbors import KNeighborsClassifier\n",
        "from sklearn import metrics\n",
        "KNN = KNeighborsClassifier()\n",
        "KNN=KNN.fit(X_train,y_train)\n",
        "KNN_pred = KNN.predict(X_test)"
      ],
      "metadata": {
        "id": "iIdfKbc9tGj1"
      },
      "execution_count": 43,
      "outputs": []
    },
    {
      "cell_type": "code",
      "source": [
        "#plot KNN confusion matrix\n",
        "cm = metrics.confusion_matrix(y_test, KNN_pred)\n",
        "cm_KNN = pd.DataFrame(cm,\n",
        "                     index = ['Healthy','Hepatitis','Fibrosis', 'Cirrhosis'], \n",
        "                     columns = ['Healthy','Hepatitis','Fibrosis', 'Cirrhosis'])\n",
        "plt.figure(figsize=(5,4))\n",
        "sns.heatmap(cm_KNN, annot=True)\n",
        "plt.title('Confusion Matrix')\n",
        "plt.ylabel('Actual Values')\n",
        "plt.xlabel('Predicted Values')\n",
        "plt.show()"
      ],
      "metadata": {
        "id": "LsdxEnfRpkvX",
        "colab": {
          "base_uri": "https://localhost:8080/",
          "height": 295
        },
        "outputId": "837770e1-a201-4a68-e2a1-3af3c2ad1348"
      },
      "execution_count": 44,
      "outputs": [
        {
          "output_type": "display_data",
          "data": {
            "text/plain": [
              "<Figure size 360x288 with 2 Axes>"
            ],
            "image/png": "[encoded data removed]"
          },
          "metadata": {
            "needs_background": "light"
          }
        }
      ]
    },
    {
      "cell_type": "code",
      "source": [
        "#Calculate test score and train score to evaluate whether the model is underfit or overfit\n",
        "score=pd.DataFrame(columns=[\"model\",\"test score\",\"train score\"])\n",
        "score.loc[0]=[\"K-Nearest Neighbors\",KNN.score(X_test, y_test),KNN.score(X_train, y_train)]"
      ],
      "metadata": {
        "id": "QaM8HPVvqfOU"
      },
      "execution_count": 45,
      "outputs": []
    },
    {
      "cell_type": "code",
      "source": [
        "#Calculate the performance matrics accuracy, percision, recall and f1 score\n",
        "from sklearn.model_selection import cross_validate\n",
        "from sklearn.metrics import accuracy_score, precision_score, recall_score, f1_score\n",
        "\n",
        "accuracy_KNN = accuracy_score(y_test, KNN_pred)\n",
        "precision_KNN = precision_score(y_test, KNN_pred, average='weighted')\n",
        "recall_KNN = recall_score(y_test, KNN_pred, average='weighted')\n",
        "f1_KNN = f1_score(y_test, KNN_pred, average='weighted')\n",
        "\n",
        "accuracyDF = pd.DataFrame(columns=['model','accuracy','precision',\"recall\",\"f1\"])\n",
        "accuracyDF.loc[0]=[\"K-Nearest Neighbors\",accuracy_KNN, precision_KNN, recall_KNN, f1_KNN]"
      ],
      "metadata": {
        "id": "l-UggmVzsjAD"
      },
      "execution_count": 46,
      "outputs": []
    },
    {
      "cell_type": "code",
      "source": [
        "# Calculate the weighted-averaged and macro-averaged AUC for KNN\n",
        "from sklearn.metrics import roc_curve, roc_auc_score, auc\n",
        "KNN_probs = KNN.predict_proba(X_test)\n",
        "\n",
        "KNN_weighted_auc = roc_auc_score(y_test, KNN_probs, average='weighted', multi_class='ovr')\n",
        "KNN_macro_auc = roc_auc_score(y_test, KNN_probs, average='macro', multi_class='ovr')\n",
        "\n",
        "auc_score=pd.DataFrame(columns=[\"model\",\"weighted auc\",\"macro auc\"])\n",
        "auc_score.loc[0]=[\"K-Nearest Neighbors\",KNN_weighted_auc,KNN_macro_auc]"
      ],
      "metadata": {
        "id": "f7upJdFs7HjY"
      },
      "execution_count": 47,
      "outputs": []
    },
    {
      "cell_type": "markdown",
      "source": [
        "In sklearn version 0.23 and higher, the roc_auc_score function and the plot_roc_curve function support the average parameter, which specifies the type of averaging to use when calculating the AUC (Area Under the Curve) or plotting the ROC curve. The possible values for the average parameter are 'micro' and 'macro'\n",
        "\n",
        "In an older version of sklearn, the average parameter may only support the value 'weighted'. The 'weighted' average calculates the average of the AUC values or ROC curve for each class, weighting each class by the number of samples in that class.\n",
        "\n",
        "So, the main difference between the weight ROC and the micro ROC is that the weight ROC takes into account the class balance, while the micro ROC does not. The macro ROC, on the other hand, treats all classes equally, regardless of the class balance."
      ],
      "metadata": {
        "id": "VDr7pwZDXC_x"
      }
    },
    {
      "cell_type": "markdown",
      "source": [
        "##Decision Tree\n"
      ],
      "metadata": {
        "id": "fwdaW9dgffWy"
      }
    },
    {
      "cell_type": "code",
      "source": [
        "from sklearn.tree import DecisionTreeClassifier\n",
        "from sklearn import metrics\n",
        "DT = DecisionTreeClassifier(criterion='gini', max_depth=3, random_state=0)\n",
        "\n",
        "# fit the model\n",
        "DT=DT.fit(X_train, y_train)\n",
        "DT_pred = DT.predict(X_test)"
      ],
      "metadata": {
        "id": "3pQ8-bdlfexo"
      },
      "execution_count": 48,
      "outputs": []
    },
    {
      "cell_type": "code",
      "source": [
        "# plot Decision Tree confusion matrix\n",
        "cm = metrics.confusion_matrix(y_test, DT_pred)\n",
        "cm_df = pd.DataFrame(cm,\n",
        "                     index = ['Healthy','Hepatitis','Fibrosis', 'Cirrhosis'], \n",
        "                     columns = ['Healthy','Hepatitis','Fibrosis', 'Cirrhosis'])\n",
        "plt.figure(figsize=(5,4))\n",
        "sns.heatmap(cm_df, annot=True)\n",
        "plt.title('Confusion Matrix')\n",
        "plt.ylabel('Actual Values')\n",
        "plt.xlabel('Predicted Values')\n",
        "plt.show()"
      ],
      "metadata": {
        "id": "w3JdtQywZwKc",
        "colab": {
          "base_uri": "https://localhost:8080/",
          "height": 295
        },
        "outputId": "29da49f9-0ab8-4da9-8124-7870d28d0a0e"
      },
      "execution_count": 49,
      "outputs": [
        {
          "output_type": "display_data",
          "data": {
            "text/plain": [
              "<Figure size 360x288 with 2 Axes>"
            ],
            "image/png": "[encoded data removed]"
          },
          "metadata": {
            "needs_background": "light"
          }
        }
      ]
    },
    {
      "cell_type": "code",
      "source": [
        "# Calculate test score and train score to evaluate whether the model is underfit or overfit\n",
        "score.loc[1]=[\"Decision Tree\",DT.score(X_test, y_test),DT.score(X_train, y_train)]"
      ],
      "metadata": {
        "id": "Xujv8UOmsII5"
      },
      "execution_count": 50,
      "outputs": []
    },
    {
      "cell_type": "code",
      "source": [
        "# Calculate the performance matrics accuracy, percision, recall and f1 score\n",
        "accuracy_DT = accuracy_score(y_test, DT_pred)\n",
        "precision_DT = precision_score(y_test, DT_pred, average='weighted')\n",
        "recall_DT = recall_score(y_test, DT_pred, average='weighted')\n",
        "f1_DT = f1_score(y_test, DT_pred, average='weighted')\n",
        "\n",
        "accuracyDF.loc[1]=[\"Decision Tree\",accuracy_DT, precision_DT, recall_DT, f1_DT]"
      ],
      "metadata": {
        "id": "FzGgsk2Gyo5G"
      },
      "execution_count": 51,
      "outputs": []
    },
    {
      "cell_type": "code",
      "source": [
        "# Calculate the weighted-averaged and macro-averaged AUC for Decision Tree\n",
        "DT_probs = DT.predict_proba(X_test)\n",
        "DT_weighted_auc = roc_auc_score(y_test, DT_probs, average='weighted', multi_class='ovr')\n",
        "DT_macro_auc = roc_auc_score(y_test, DT_probs, average='macro', multi_class='ovr')\n",
        "\n",
        "auc_score.loc[1]=[\"Decision Tree\",DT_weighted_auc,DT_macro_auc]"
      ],
      "metadata": {
        "id": "9b2P9oNVOHSV"
      },
      "execution_count": 52,
      "outputs": []
    },
    {
      "cell_type": "markdown",
      "source": [
        "## Naive Bayes"
      ],
      "metadata": {
        "id": "oyCYtwSHfpoV"
      }
    },
    {
      "cell_type": "code",
      "source": [
        "from sklearn.naive_bayes import GaussianNB\n",
        "NB = GaussianNB()\n",
        "#fit model\n",
        "NB=NB.fit(X_train, y_train)\n",
        "NB_pred = NB.predict(X_test)"
      ],
      "metadata": {
        "id": "hHlAi8eHfczP"
      },
      "execution_count": 53,
      "outputs": []
    },
    {
      "cell_type": "code",
      "source": [
        "# plot Naiye Bayes confusion matrix\n",
        "cm = metrics.confusion_matrix(y_test, NB_pred)\n",
        "cm_df = pd.DataFrame(cm,\n",
        "                     index = ['Healthy','Hepatitis','Fibrosis', 'Cirrhosis'], \n",
        "                     columns = ['Healthy','Hepatitis','Fibrosis', 'Cirrhosis'])\n",
        "plt.figure(figsize=(5,4))\n",
        "sns.heatmap(cm_df, annot=True)\n",
        "plt.title('Confusion Matrix')\n",
        "plt.ylabel('Actual Values')\n",
        "plt.xlabel('Predicted Values')\n",
        "plt.show()"
      ],
      "metadata": {
        "id": "BgsJIzkZ5Q8A",
        "colab": {
          "base_uri": "https://localhost:8080/",
          "height": 295
        },
        "outputId": "784b5e32-1ec3-4129-b63a-dba4dd6cd986"
      },
      "execution_count": 54,
      "outputs": [
        {
          "output_type": "display_data",
          "data": {
            "text/plain": [
              "<Figure size 360x288 with 2 Axes>"
            ],
            "image/png": "[encoded data removed]"
          },
          "metadata": {
            "needs_background": "light"
          }
        }
      ]
    },
    {
      "cell_type": "code",
      "source": [
        "# Calculate test score and train score to evaluate whether the model is underfit or overfit\n",
        "score.loc[2]=[\"Naive Bayes\",NB.score(X_test, y_test),NB.score(X_train, y_train)]"
      ],
      "metadata": {
        "id": "RkX4dZHmsSRS"
      },
      "execution_count": 55,
      "outputs": []
    },
    {
      "cell_type": "code",
      "source": [
        "# Calculate the performance matrics accuracy, percision, recall and f1 score\n",
        "accuracy_NB = accuracy_score(y_test, NB_pred)\n",
        "precision_NB = precision_score(y_test, NB_pred, average='weighted')\n",
        "recall_NB = recall_score(y_test, NB_pred, average='weighted')\n",
        "f1_NB = f1_score(y_test, NB_pred, average='weighted')\n",
        "\n",
        "accuracyDF.loc[2]=[\"Naive Bayes\",accuracy_NB, precision_NB, recall_NB, f1_NB]"
      ],
      "metadata": {
        "id": "osboh-pizNP-"
      },
      "execution_count": 56,
      "outputs": []
    },
    {
      "cell_type": "code",
      "source": [
        "# Calculate the weighted-averaged and macro-averaged AUC for Naive Bayes\n",
        "NB_probs = NB.predict_proba(X_test)\n",
        "\n",
        "NB_weighted_auc = roc_auc_score(y_test, NB_probs, average='weighted', multi_class='ovr')\n",
        "NB_macro_auc = roc_auc_score(y_test, NB_probs, average='macro', multi_class='ovr')\n",
        "\n",
        "auc_score.loc[2]=[\"Naive Bayes\",NB_weighted_auc,NB_macro_auc]"
      ],
      "metadata": {
        "id": "hnI5ZmfBQU_O"
      },
      "execution_count": 57,
      "outputs": []
    },
    {
      "cell_type": "markdown",
      "source": [
        "#Interpretation"
      ],
      "metadata": {
        "id": "1l6b1Ur959Qh"
      }
    },
    {
      "cell_type": "markdown",
      "source": [
        "### Overfitting or Underfitting"
      ],
      "metadata": {
        "id": "g9WI25DX6CIO"
      }
    },
    {
      "cell_type": "code",
      "source": [
        "score"
      ],
      "metadata": {
        "id": "ckw1ZZu6nuF9",
        "colab": {
          "base_uri": "https://localhost:8080/",
          "height": 143
        },
        "outputId": "a9f261fc-519b-4247-bbfb-d75281b2623a"
      },
      "execution_count": 59,
      "outputs": [
        {
          "output_type": "execute_result",
          "data": {
            "text/plain": [
              "                 model  test score  train score\n",
              "0  K-Nearest Neighbors    0.924324     0.944186\n",
              "1        Decision Tree    0.951351     0.948837\n",
              "2          Naive Bayes    0.897297     0.913953"
            ],
            "text/html": [
              "\n",
              "  <div id=\"df-da843316-6241-4edd-8937-567837848438\">\n",
              "    <div class=\"colab-df-container\">\n",
              "      <div>\n",
              "<style scoped>\n",
              "    .dataframe tbody tr th:only-of-type {\n",
              "        vertical-align: middle;\n",
              "    }\n",
              "\n",
              "    .dataframe tbody tr th {\n",
              "        vertical-align: top;\n",
              "    }\n",
              "\n",
              "    .dataframe thead th {\n",
              "        text-align: right;\n",
              "    }\n",
              "</style>\n",
              "<table border=\"1\" class=\"dataframe\">\n",
              "  <thead>\n",
              "    <tr style=\"text-align: right;\">\n",
              "      <th></th>\n",
              "      <th>model</th>\n",
              "      <th>test score</th>\n",
              "      <th>train score</th>\n",
              "    </tr>\n",
              "  </thead>\n",
              "  <tbody>\n",
              "    <tr>\n",
              "      <th>0</th>\n",
              "      <td>K-Nearest Neighbors</td>\n",
              "      <td>0.924324</td>\n",
              "      <td>0.944186</td>\n",
              "    </tr>\n",
              "    <tr>\n",
              "      <th>1</th>\n",
              "      <td>Decision Tree</td>\n",
              "      <td>0.951351</td>\n",
              "      <td>0.948837</td>\n",
              "    </tr>\n",
              "    <tr>\n",
              "      <th>2</th>\n",
              "      <td>Naive Bayes</td>\n",
              "      <td>0.897297</td>\n",
              "      <td>0.913953</td>\n",
              "    </tr>\n",
              "  </tbody>\n",
              "</table>\n",
              "</div>\n",
              "      <button class=\"colab-df-convert\" onclick=\"convertToInteractive('df-da843316-6241-4edd-8937-567837848438')\"\n",
              "              title=\"Convert this dataframe to an interactive table.\"\n",
              "              style=\"display:none;\">\n",
              "        \n",
              "  <svg xmlns=\"http://www.w3.org/2000/svg\" height=\"24px\"viewBox=\"0 0 24 24\"\n",
              "       width=\"24px\">\n",
              "    <path d=\"M0 0h24v24H0V0z\" fill=\"none\"/>\n",
              "    <path d=\"M18.56 5.44l.94 2.06.94-2.06 2.06-.94-2.06-.94-.94-2.06-.94 2.06-2.06.94zm-11 1L8.5 8.5l.94-2.06 2.06-.94-2.06-.94L8.5 2.5l-.94 2.06-2.06.94zm10 10l.94 2.06.94-2.06 2.06-.94-2.06-.94-.94-2.06-.94 2.06-2.06.94z\"/><path d=\"M17.41 7.96l-1.37-1.37c-.4-.4-.92-.59-1.43-.59-.52 0-1.04.2-1.43.59L10.3 9.45l-7.72 7.72c-.78.78-.78 2.05 0 2.83L4 21.41c.39.39.9.59 1.41.59.51 0 1.02-.2 1.41-.59l7.78-7.78 2.81-2.81c.8-.78.8-2.07 0-2.86zM5.41 20L4 18.59l7.72-7.72 1.47 1.35L5.41 20z\"/>\n",
              "  </svg>\n",
              "      </button>\n",
              "      \n",
              "  <style>\n",
              "    .colab-df-container {\n",
              "      display:flex;\n",
              "      flex-wrap:wrap;\n",
              "      gap: 12px;\n",
              "    }\n",
              "\n",
              "    .colab-df-convert {\n",
              "      background-color: #E8F0FE;\n",
              "      border: none;\n",
              "      border-radius: 50%;\n",
              "      cursor: pointer;\n",
              "      display: none;\n",
              "      fill: #1967D2;\n",
              "      height: 32px;\n",
              "      padding: 0 0 0 0;\n",
              "      width: 32px;\n",
              "    }\n",
              "\n",
              "    .colab-df-convert:hover {\n",
              "      background-color: #E2EBFA;\n",
              "      box-shadow: 0px 1px 2px rgba(60, 64, 67, 0.3), 0px 1px 3px 1px rgba(60, 64, 67, 0.15);\n",
              "      fill: #174EA6;\n",
              "    }\n",
              "\n",
              "    [theme=dark] .colab-df-convert {\n",
              "      background-color: #3B4455;\n",
              "      fill: #D2E3FC;\n",
              "    }\n",
              "\n",
              "    [theme=dark] .colab-df-convert:hover {\n",
              "      background-color: #434B5C;\n",
              "      box-shadow: 0px 1px 3px 1px rgba(0, 0, 0, 0.15);\n",
              "      filter: drop-shadow(0px 1px 2px rgba(0, 0, 0, 0.3));\n",
              "      fill: #FFFFFF;\n",
              "    }\n",
              "  </style>\n",
              "\n",
              "      <script>\n",
              "        const buttonEl =\n",
              "          document.querySelector('#df-da843316-6241-4edd-8937-567837848438 button.colab-df-convert');\n",
              "        buttonEl.style.display =\n",
              "          google.colab.kernel.accessAllowed ? 'block' : 'none';\n",
              "\n",
              "        async function convertToInteractive(key) {\n",
              "          const element = document.querySelector('#df-da843316-6241-4edd-8937-567837848438');\n",
              "          const dataTable =\n",
              "            await google.colab.kernel.invokeFunction('convertToInteractive',\n",
              "                                                     [key], {});\n",
              "          if (!dataTable) return;\n",
              "\n",
              "          const docLinkHtml = 'Like what you see? Visit the ' +\n",
              "            '<a target=\"_blank\" href=https://colab.research.google.com/notebooks/data_table.ipynb>data table notebook</a>'\n",
              "            + ' to learn more about interactive tables.';\n",
              "          element.innerHTML = '';\n",
              "          dataTable['output_type'] = 'display_data';\n",
              "          await google.colab.output.renderOutput(dataTable, element);\n",
              "          const docLink = document.createElement('div');\n",
              "          docLink.innerHTML = docLinkHtml;\n",
              "          element.appendChild(docLink);\n",
              "        }\n",
              "      </script>\n",
              "    </div>\n",
              "  </div>\n",
              "  "
            ]
          },
          "metadata": {},
          "execution_count": 59
        }
      ]
    },
    {
      "cell_type": "markdown",
      "source": [
        "For KNN, Decision Tree and Naive Bayes the training-set accuracy score is quite comparable. So, there is no sign of overfitting."
      ],
      "metadata": {
        "id": "7-EwjnZFywBi"
      }
    },
    {
      "cell_type": "markdown",
      "source": [
        "###Accuracy, Recall, Precision, F1 score"
      ],
      "metadata": {
        "id": "wc3ap6BL6FVj"
      }
    },
    {
      "cell_type": "code",
      "source": [
        "accuracyDF"
      ],
      "metadata": {
        "id": "gToFblN8rpzm",
        "colab": {
          "base_uri": "https://localhost:8080/",
          "height": 143
        },
        "outputId": "c3b335f7-7542-4613-bae6-4353d29fc4b9"
      },
      "execution_count": 60,
      "outputs": [
        {
          "output_type": "execute_result",
          "data": {
            "text/plain": [
              "                 model  accuracy  precision    recall        f1\n",
              "0  K-Nearest Neighbors  0.924324   0.906081  0.924324  0.908724\n",
              "1        Decision Tree  0.951351   0.953752  0.951351  0.941892\n",
              "2          Naive Bayes  0.897297   0.917442  0.897297  0.906503"
            ],
            "text/html": [
              "\n",
              "  <div id=\"df-9b9b85b9-3e2b-44e2-8230-da22b867ed50\">\n",
              "    <div class=\"colab-df-container\">\n",
              "      <div>\n",
              "<style scoped>\n",
              "    .dataframe tbody tr th:only-of-type {\n",
              "        vertical-align: middle;\n",
              "    }\n",
              "\n",
              "    .dataframe tbody tr th {\n",
              "        vertical-align: top;\n",
              "    }\n",
              "\n",
              "    .dataframe thead th {\n",
              "        text-align: right;\n",
              "    }\n",
              "</style>\n",
              "<table border=\"1\" class=\"dataframe\">\n",
              "  <thead>\n",
              "    <tr style=\"text-align: right;\">\n",
              "      <th></th>\n",
              "      <th>model</th>\n",
              "      <th>accuracy</th>\n",
              "      <th>precision</th>\n",
              "      <th>recall</th>\n",
              "      <th>f1</th>\n",
              "    </tr>\n",
              "  </thead>\n",
              "  <tbody>\n",
              "    <tr>\n",
              "      <th>0</th>\n",
              "      <td>K-Nearest Neighbors</td>\n",
              "      <td>0.924324</td>\n",
              "      <td>0.906081</td>\n",
              "      <td>0.924324</td>\n",
              "      <td>0.908724</td>\n",
              "    </tr>\n",
              "    <tr>\n",
              "      <th>1</th>\n",
              "      <td>Decision Tree</td>\n",
              "      <td>0.951351</td>\n",
              "      <td>0.953752</td>\n",
              "      <td>0.951351</td>\n",
              "      <td>0.941892</td>\n",
              "    </tr>\n",
              "    <tr>\n",
              "      <th>2</th>\n",
              "      <td>Naive Bayes</td>\n",
              "      <td>0.897297</td>\n",
              "      <td>0.917442</td>\n",
              "      <td>0.897297</td>\n",
              "      <td>0.906503</td>\n",
              "    </tr>\n",
              "  </tbody>\n",
              "</table>\n",
              "</div>\n",
              "      <button class=\"colab-df-convert\" onclick=\"convertToInteractive('df-9b9b85b9-3e2b-44e2-8230-da22b867ed50')\"\n",
              "              title=\"Convert this dataframe to an interactive table.\"\n",
              "              style=\"display:none;\">\n",
              "        \n",
              "  <svg xmlns=\"http://www.w3.org/2000/svg\" height=\"24px\"viewBox=\"0 0 24 24\"\n",
              "       width=\"24px\">\n",
              "    <path d=\"M0 0h24v24H0V0z\" fill=\"none\"/>\n",
              "    <path d=\"M18.56 5.44l.94 2.06.94-2.06 2.06-.94-2.06-.94-.94-2.06-.94 2.06-2.06.94zm-11 1L8.5 8.5l.94-2.06 2.06-.94-2.06-.94L8.5 2.5l-.94 2.06-2.06.94zm10 10l.94 2.06.94-2.06 2.06-.94-2.06-.94-.94-2.06-.94 2.06-2.06.94z\"/><path d=\"M17.41 7.96l-1.37-1.37c-.4-.4-.92-.59-1.43-.59-.52 0-1.04.2-1.43.59L10.3 9.45l-7.72 7.72c-.78.78-.78 2.05 0 2.83L4 21.41c.39.39.9.59 1.41.59.51 0 1.02-.2 1.41-.59l7.78-7.78 2.81-2.81c.8-.78.8-2.07 0-2.86zM5.41 20L4 18.59l7.72-7.72 1.47 1.35L5.41 20z\"/>\n",
              "  </svg>\n",
              "      </button>\n",
              "      \n",
              "  <style>\n",
              "    .colab-df-container {\n",
              "      display:flex;\n",
              "      flex-wrap:wrap;\n",
              "      gap: 12px;\n",
              "    }\n",
              "\n",
              "    .colab-df-convert {\n",
              "      background-color: #E8F0FE;\n",
              "      border: none;\n",
              "      border-radius: 50%;\n",
              "      cursor: pointer;\n",
              "      display: none;\n",
              "      fill: #1967D2;\n",
              "      height: 32px;\n",
              "      padding: 0 0 0 0;\n",
              "      width: 32px;\n",
              "    }\n",
              "\n",
              "    .colab-df-convert:hover {\n",
              "      background-color: #E2EBFA;\n",
              "      box-shadow: 0px 1px 2px rgba(60, 64, 67, 0.3), 0px 1px 3px 1px rgba(60, 64, 67, 0.15);\n",
              "      fill: #174EA6;\n",
              "    }\n",
              "\n",
              "    [theme=dark] .colab-df-convert {\n",
              "      background-color: #3B4455;\n",
              "      fill: #D2E3FC;\n",
              "    }\n",
              "\n",
              "    [theme=dark] .colab-df-convert:hover {\n",
              "      background-color: #434B5C;\n",
              "      box-shadow: 0px 1px 3px 1px rgba(0, 0, 0, 0.15);\n",
              "      filter: drop-shadow(0px 1px 2px rgba(0, 0, 0, 0.3));\n",
              "      fill: #FFFFFF;\n",
              "    }\n",
              "  </style>\n",
              "\n",
              "      <script>\n",
              "        const buttonEl =\n",
              "          document.querySelector('#df-9b9b85b9-3e2b-44e2-8230-da22b867ed50 button.colab-df-convert');\n",
              "        buttonEl.style.display =\n",
              "          google.colab.kernel.accessAllowed ? 'block' : 'none';\n",
              "\n",
              "        async function convertToInteractive(key) {\n",
              "          const element = document.querySelector('#df-9b9b85b9-3e2b-44e2-8230-da22b867ed50');\n",
              "          const dataTable =\n",
              "            await google.colab.kernel.invokeFunction('convertToInteractive',\n",
              "                                                     [key], {});\n",
              "          if (!dataTable) return;\n",
              "\n",
              "          const docLinkHtml = 'Like what you see? Visit the ' +\n",
              "            '<a target=\"_blank\" href=https://colab.research.google.com/notebooks/data_table.ipynb>data table notebook</a>'\n",
              "            + ' to learn more about interactive tables.';\n",
              "          element.innerHTML = '';\n",
              "          dataTable['output_type'] = 'display_data';\n",
              "          await google.colab.output.renderOutput(dataTable, element);\n",
              "          const docLink = document.createElement('div');\n",
              "          docLink.innerHTML = docLinkHtml;\n",
              "          element.appendChild(docLink);\n",
              "        }\n",
              "      </script>\n",
              "    </div>\n",
              "  </div>\n",
              "  "
            ]
          },
          "metadata": {},
          "execution_count": 60
        }
      ]
    },
    {
      "cell_type": "code",
      "source": [
        "import matplotlib.pyplot as plt\n",
        "#visualise the perforamce metric for comparing\n",
        "accuracyDF.plot(x='model', y=[\"accuracy\", \"precision\",\"recall\",\"f1\"], kind='bar',rot=0)\n",
        "plt.legend(loc=10,bbox_to_anchor=(1.13, 0.5))\n",
        "plt.title(\"Performance Metric\")\n",
        "plt.show()"
      ],
      "metadata": {
        "id": "RfTLqt9r8pan",
        "colab": {
          "base_uri": "https://localhost:8080/",
          "height": 295
        },
        "outputId": "e7e098c2-165f-4b3d-db9d-64b101e88cb8"
      },
      "execution_count": 62,
      "outputs": [
        {
          "output_type": "display_data",
          "data": {
            "text/plain": [
              "<Figure size 432x288 with 1 Axes>"
            ],
            "image/png": "[encoded data removed]"
          },
          "metadata": {
            "needs_background": "light"
          }
        }
      ]
    },
    {
      "cell_type": "markdown",
      "source": [
        "Decision Tree has the  highest accuracy, precision, recall and f1-score among the 3 models.<br>\n",
        "However, as the dataset are imbalance, accuracy, recall, precision and F1 measure may not be suitable performance metric for this dataset. Therefore, AUC is calculated and compare at the next section"
      ],
      "metadata": {
        "id": "8jGrANPH_Ihv"
      }
    },
    {
      "cell_type": "markdown",
      "source": [
        "###ROC graph\n",
        "\n"
      ],
      "metadata": {
        "id": "_WUR5eoI6Oes"
      }
    },
    {
      "cell_type": "code",
      "source": [
        "#show AUC score\n",
        "auc_score"
      ],
      "metadata": {
        "id": "Lh9P55E1JTrv",
        "colab": {
          "base_uri": "https://localhost:8080/",
          "height": 143
        },
        "outputId": "bf047caf-c89f-43d3-cee7-c580c69e8b97"
      },
      "execution_count": 63,
      "outputs": [
        {
          "output_type": "execute_result",
          "data": {
            "text/plain": [
              "                 model  weighted auc  macro auc\n",
              "0  K-Nearest Neighbors      0.815474   0.788435\n",
              "1        Decision Tree      0.788845   0.716067\n",
              "2          Naive Bayes      0.945684   0.933214"
            ],
            "text/html": [
              "\n",
              "  <div id=\"df-81328358-63e4-455f-886f-e1cbf95aaabb\">\n",
              "    <div class=\"colab-df-container\">\n",
              "      <div>\n",
              "<style scoped>\n",
              "    .dataframe tbody tr th:only-of-type {\n",
              "        vertical-align: middle;\n",
              "    }\n",
              "\n",
              "    .dataframe tbody tr th {\n",
              "        vertical-align: top;\n",
              "    }\n",
              "\n",
              "    .dataframe thead th {\n",
              "        text-align: right;\n",
              "    }\n",
              "</style>\n",
              "<table border=\"1\" class=\"dataframe\">\n",
              "  <thead>\n",
              "    <tr style=\"text-align: right;\">\n",
              "      <th></th>\n",
              "      <th>model</th>\n",
              "      <th>weighted auc</th>\n",
              "      <th>macro auc</th>\n",
              "    </tr>\n",
              "  </thead>\n",
              "  <tbody>\n",
              "    <tr>\n",
              "      <th>0</th>\n",
              "      <td>K-Nearest Neighbors</td>\n",
              "      <td>0.815474</td>\n",
              "      <td>0.788435</td>\n",
              "    </tr>\n",
              "    <tr>\n",
              "      <th>1</th>\n",
              "      <td>Decision Tree</td>\n",
              "      <td>0.788845</td>\n",
              "      <td>0.716067</td>\n",
              "    </tr>\n",
              "    <tr>\n",
              "      <th>2</th>\n",
              "      <td>Naive Bayes</td>\n",
              "      <td>0.945684</td>\n",
              "      <td>0.933214</td>\n",
              "    </tr>\n",
              "  </tbody>\n",
              "</table>\n",
              "</div>\n",
              "      <button class=\"colab-df-convert\" onclick=\"convertToInteractive('df-81328358-63e4-455f-886f-e1cbf95aaabb')\"\n",
              "              title=\"Convert this dataframe to an interactive table.\"\n",
              "              style=\"display:none;\">\n",
              "        \n",
              "  <svg xmlns=\"http://www.w3.org/2000/svg\" height=\"24px\"viewBox=\"0 0 24 24\"\n",
              "       width=\"24px\">\n",
              "    <path d=\"M0 0h24v24H0V0z\" fill=\"none\"/>\n",
              "    <path d=\"M18.56 5.44l.94 2.06.94-2.06 2.06-.94-2.06-.94-.94-2.06-.94 2.06-2.06.94zm-11 1L8.5 8.5l.94-2.06 2.06-.94-2.06-.94L8.5 2.5l-.94 2.06-2.06.94zm10 10l.94 2.06.94-2.06 2.06-.94-2.06-.94-.94-2.06-.94 2.06-2.06.94z\"/><path d=\"M17.41 7.96l-1.37-1.37c-.4-.4-.92-.59-1.43-.59-.52 0-1.04.2-1.43.59L10.3 9.45l-7.72 7.72c-.78.78-.78 2.05 0 2.83L4 21.41c.39.39.9.59 1.41.59.51 0 1.02-.2 1.41-.59l7.78-7.78 2.81-2.81c.8-.78.8-2.07 0-2.86zM5.41 20L4 18.59l7.72-7.72 1.47 1.35L5.41 20z\"/>\n",
              "  </svg>\n",
              "      </button>\n",
              "      \n",
              "  <style>\n",
              "    .colab-df-container {\n",
              "      display:flex;\n",
              "      flex-wrap:wrap;\n",
              "      gap: 12px;\n",
              "    }\n",
              "\n",
              "    .colab-df-convert {\n",
              "      background-color: #E8F0FE;\n",
              "      border: none;\n",
              "      border-radius: 50%;\n",
              "      cursor: pointer;\n",
              "      display: none;\n",
              "      fill: #1967D2;\n",
              "      height: 32px;\n",
              "      padding: 0 0 0 0;\n",
              "      width: 32px;\n",
              "    }\n",
              "\n",
              "    .colab-df-convert:hover {\n",
              "      background-color: #E2EBFA;\n",
              "      box-shadow: 0px 1px 2px rgba(60, 64, 67, 0.3), 0px 1px 3px 1px rgba(60, 64, 67, 0.15);\n",
              "      fill: #174EA6;\n",
              "    }\n",
              "\n",
              "    [theme=dark] .colab-df-convert {\n",
              "      background-color: #3B4455;\n",
              "      fill: #D2E3FC;\n",
              "    }\n",
              "\n",
              "    [theme=dark] .colab-df-convert:hover {\n",
              "      background-color: #434B5C;\n",
              "      box-shadow: 0px 1px 3px 1px rgba(0, 0, 0, 0.15);\n",
              "      filter: drop-shadow(0px 1px 2px rgba(0, 0, 0, 0.3));\n",
              "      fill: #FFFFFF;\n",
              "    }\n",
              "  </style>\n",
              "\n",
              "      <script>\n",
              "        const buttonEl =\n",
              "          document.querySelector('#df-81328358-63e4-455f-886f-e1cbf95aaabb button.colab-df-convert');\n",
              "        buttonEl.style.display =\n",
              "          google.colab.kernel.accessAllowed ? 'block' : 'none';\n",
              "\n",
              "        async function convertToInteractive(key) {\n",
              "          const element = document.querySelector('#df-81328358-63e4-455f-886f-e1cbf95aaabb');\n",
              "          const dataTable =\n",
              "            await google.colab.kernel.invokeFunction('convertToInteractive',\n",
              "                                                     [key], {});\n",
              "          if (!dataTable) return;\n",
              "\n",
              "          const docLinkHtml = 'Like what you see? Visit the ' +\n",
              "            '<a target=\"_blank\" href=https://colab.research.google.com/notebooks/data_table.ipynb>data table notebook</a>'\n",
              "            + ' to learn more about interactive tables.';\n",
              "          element.innerHTML = '';\n",
              "          dataTable['output_type'] = 'display_data';\n",
              "          await google.colab.output.renderOutput(dataTable, element);\n",
              "          const docLink = document.createElement('div');\n",
              "          docLink.innerHTML = docLinkHtml;\n",
              "          element.appendChild(docLink);\n",
              "        }\n",
              "      </script>\n",
              "    </div>\n",
              "  </div>\n",
              "  "
            ]
          },
          "metadata": {},
          "execution_count": 63
        }
      ]
    },
    {
      "cell_type": "code",
      "source": [
        "#Visualize the AUC value for compare\n",
        "auc_score.plot(x='model', y=[\"weighted auc\",\"macro auc\"], kind='bar',rot=0)\n",
        "plt.legend(loc=10,bbox_to_anchor=(1.2, 0.5))\n",
        "plt.title(\"AUC\")\n",
        "plt.show()"
      ],
      "metadata": {
        "colab": {
          "base_uri": "https://localhost:8080/",
          "height": 295
        },
        "id": "FaQ0IwGWrK4k",
        "outputId": "90e71bc7-96ca-489d-f26b-496914292777"
      },
      "execution_count": 64,
      "outputs": [
        {
          "output_type": "display_data",
          "data": {
            "text/plain": [
              "<Figure size 432x288 with 1 Axes>"
            ],
            "image/png": "[encoded data removed]"
          },
          "metadata": {
            "needs_background": "light"
          }
        }
      ]
    },
    {
      "cell_type": "markdown",
      "source": [
        "Naive Bayes has the highest value of AUC. This indicate that Naive Bayes is the best model for HCV detection."
      ],
      "metadata": {
        "id": "Ojoe3Eqe2fMo"
      }
    },
    {
      "cell_type": "code",
      "source": [
        "#plot ROC curve for Naive Bayes\n",
        "NB_fpr_0, NB_tpr_0, NB_thresholds_0 = roc_curve(y_test, NB_probs[:, 0], pos_label=0)\n",
        "NB_fpr_1, NB_tpr_1, NB_thresholds_1 = roc_curve(y_test, NB_probs[:, 1], pos_label=1)\n",
        "NB_fpr_2, NB_tpr_2, NB_thresholds_2 = roc_curve(y_test, NB_probs[:, 2], pos_label=2)\n",
        "NB_fpr_3, NB_tpr_3, NB_thresholds_3 = roc_curve(y_test, NB_probs[:, 3], pos_label=3)\n",
        "\n",
        "NB_roc_auc_0 = auc(NB_fpr_0, NB_tpr_0)\n",
        "NB_roc_auc_1 = auc(NB_fpr_1, NB_tpr_1)\n",
        "NB_roc_auc_2 = auc(NB_fpr_2, NB_tpr_2)\n",
        "NB_roc_auc_3 = auc(NB_fpr_3, NB_tpr_3)\n",
        "\n",
        "plt.plot(NB_fpr_0, NB_tpr_0, label='Healthy (AUC = %0.3f)' % NB_roc_auc_0)\n",
        "plt.plot(NB_fpr_1, NB_tpr_1, label='Hepatitis (AUC = %0.3f)' % NB_roc_auc_1)\n",
        "plt.plot(NB_fpr_2, NB_tpr_2, label='Fibrosis (AUC = %0.3f)' % NB_roc_auc_2)\n",
        "plt.plot(NB_fpr_3, NB_tpr_3, label='Cirrhosis (AUC = %0.3f)' % NB_roc_auc_3)\n",
        "plt.plot([0, 1], [0, 1], 'k--')\n",
        "plt.xlim([0.0, 1.0])\n",
        "plt.ylim([0.0, 1.05])\n",
        "plt.xlabel(\"False Positive Rate\")\n",
        "plt.ylabel(\"True Positive Rate\")\n",
        "plt.title(\"OvR Weighted-Average ROC Curve\")\n",
        "plt.legend(loc = \"lower right\")\n",
        "plt.show()"
      ],
      "metadata": {
        "colab": {
          "base_uri": "https://localhost:8080/",
          "height": 295
        },
        "id": "SIQzbx1Cqk06",
        "outputId": "c1843ef2-8782-459b-eafb-53188825cdde"
      },
      "execution_count": 65,
      "outputs": [
        {
          "output_type": "display_data",
          "data": {
            "text/plain": [
              "<Figure size 432x288 with 1 Axes>"
            ],
            "image/png": "[encoded data removed]"
          },
          "metadata": {
            "needs_background": "light"
          }
        }
      ]
    },
    {
      "cell_type": "code",
      "source": [
        "NB.predict(X_test[0:10])"
      ],
      "metadata": {
        "colab": {
          "base_uri": "https://localhost:8080/"
        },
        "id": "bx7nVFpu-tmp",
        "outputId": "92cd4a18-7151-4328-ebf4-1d3f51a91029"
      },
      "execution_count": 68,
      "outputs": [
        {
          "output_type": "execute_result",
          "data": {
            "text/plain": [
              "array([0, 0, 0, 0, 0, 0, 2, 0, 0, 0])"
            ]
          },
          "metadata": {},
          "execution_count": 68
        }
      ]
    },
    {
      "cell_type": "code",
      "source": [
        "NB.predict(X_test[10:11])"
      ],
      "metadata": {
        "colab": {
          "base_uri": "https://localhost:8080/"
        },
        "id": "1ZyJ0peD_Qzp",
        "outputId": "c4ae9093-fe4e-45d3-88fc-de87ff035d4a"
      },
      "execution_count": 70,
      "outputs": [
        {
          "output_type": "execute_result",
          "data": {
            "text/plain": [
              "array([0])"
            ]
          },
          "metadata": {},
          "execution_count": 70
        }
      ]
    },
    {
      "cell_type": "code",
      "source": [],
      "metadata": {
        "id": "4c5ERCIy_17p"
      },
      "execution_count": null,
      "outputs": []
    }
  ]
}